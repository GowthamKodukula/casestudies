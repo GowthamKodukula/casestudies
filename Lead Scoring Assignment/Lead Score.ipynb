{
 "cells": [
  {
   "cell_type": "code",
   "execution_count": 1,
   "metadata": {},
   "outputs": [],
   "source": [
    "import pandas as pd\n",
    "import numpy as np\n",
    "import matplotlib.pyplot as plt\n",
    "import seaborn as sns"
   ]
  },
  {
   "cell_type": "code",
   "execution_count": 2,
   "metadata": {},
   "outputs": [],
   "source": [
    "import warnings\n",
    "warnings.filterwarnings('ignore')"
   ]
  },
  {
   "cell_type": "code",
   "execution_count": 3,
   "metadata": {},
   "outputs": [],
   "source": [
    "#to view all the columns outputs\n",
    "pd.set_option('display.max_rows', 500)\n",
    "pd.set_option('display.max_columns', 500)\n",
    "pd.set_option('display.width', 1000)"
   ]
  },
  {
   "cell_type": "code",
   "execution_count": 4,
   "metadata": {},
   "outputs": [
    {
     "data": {
      "text/html": [
       "<div>\n",
       "<style scoped>\n",
       "    .dataframe tbody tr th:only-of-type {\n",
       "        vertical-align: middle;\n",
       "    }\n",
       "\n",
       "    .dataframe tbody tr th {\n",
       "        vertical-align: top;\n",
       "    }\n",
       "\n",
       "    .dataframe thead th {\n",
       "        text-align: right;\n",
       "    }\n",
       "</style>\n",
       "<table border=\"1\" class=\"dataframe\">\n",
       "  <thead>\n",
       "    <tr style=\"text-align: right;\">\n",
       "      <th></th>\n",
       "      <th>Prospect ID</th>\n",
       "      <th>Lead Number</th>\n",
       "      <th>Lead Origin</th>\n",
       "      <th>Lead Source</th>\n",
       "      <th>Do Not Email</th>\n",
       "      <th>Do Not Call</th>\n",
       "      <th>Converted</th>\n",
       "      <th>TotalVisits</th>\n",
       "      <th>Total Time Spent on Website</th>\n",
       "      <th>Page Views Per Visit</th>\n",
       "      <th>Last Activity</th>\n",
       "      <th>Country</th>\n",
       "      <th>Specialization</th>\n",
       "      <th>How did you hear about X Education</th>\n",
       "      <th>What is your current occupation</th>\n",
       "      <th>What matters most to you in choosing a course</th>\n",
       "      <th>Search</th>\n",
       "      <th>Magazine</th>\n",
       "      <th>Newspaper Article</th>\n",
       "      <th>X Education Forums</th>\n",
       "      <th>Newspaper</th>\n",
       "      <th>Digital Advertisement</th>\n",
       "      <th>Through Recommendations</th>\n",
       "      <th>Receive More Updates About Our Courses</th>\n",
       "      <th>Tags</th>\n",
       "      <th>Lead Quality</th>\n",
       "      <th>Update me on Supply Chain Content</th>\n",
       "      <th>Get updates on DM Content</th>\n",
       "      <th>Lead Profile</th>\n",
       "      <th>City</th>\n",
       "      <th>Asymmetrique Activity Index</th>\n",
       "      <th>Asymmetrique Profile Index</th>\n",
       "      <th>Asymmetrique Activity Score</th>\n",
       "      <th>Asymmetrique Profile Score</th>\n",
       "      <th>I agree to pay the amount through cheque</th>\n",
       "      <th>A free copy of Mastering The Interview</th>\n",
       "      <th>Last Notable Activity</th>\n",
       "    </tr>\n",
       "  </thead>\n",
       "  <tbody>\n",
       "    <tr>\n",
       "      <td>0</td>\n",
       "      <td>7927b2df-8bba-4d29-b9a2-b6e0beafe620</td>\n",
       "      <td>660737</td>\n",
       "      <td>API</td>\n",
       "      <td>Olark Chat</td>\n",
       "      <td>No</td>\n",
       "      <td>No</td>\n",
       "      <td>0</td>\n",
       "      <td>0.0</td>\n",
       "      <td>0</td>\n",
       "      <td>0.0</td>\n",
       "      <td>Page Visited on Website</td>\n",
       "      <td>NaN</td>\n",
       "      <td>Select</td>\n",
       "      <td>Select</td>\n",
       "      <td>Unemployed</td>\n",
       "      <td>Better Career Prospects</td>\n",
       "      <td>No</td>\n",
       "      <td>No</td>\n",
       "      <td>No</td>\n",
       "      <td>No</td>\n",
       "      <td>No</td>\n",
       "      <td>No</td>\n",
       "      <td>No</td>\n",
       "      <td>No</td>\n",
       "      <td>Interested in other courses</td>\n",
       "      <td>Low in Relevance</td>\n",
       "      <td>No</td>\n",
       "      <td>No</td>\n",
       "      <td>Select</td>\n",
       "      <td>Select</td>\n",
       "      <td>02.Medium</td>\n",
       "      <td>02.Medium</td>\n",
       "      <td>15.0</td>\n",
       "      <td>15.0</td>\n",
       "      <td>No</td>\n",
       "      <td>No</td>\n",
       "      <td>Modified</td>\n",
       "    </tr>\n",
       "    <tr>\n",
       "      <td>1</td>\n",
       "      <td>2a272436-5132-4136-86fa-dcc88c88f482</td>\n",
       "      <td>660728</td>\n",
       "      <td>API</td>\n",
       "      <td>Organic Search</td>\n",
       "      <td>No</td>\n",
       "      <td>No</td>\n",
       "      <td>0</td>\n",
       "      <td>5.0</td>\n",
       "      <td>674</td>\n",
       "      <td>2.5</td>\n",
       "      <td>Email Opened</td>\n",
       "      <td>India</td>\n",
       "      <td>Select</td>\n",
       "      <td>Select</td>\n",
       "      <td>Unemployed</td>\n",
       "      <td>Better Career Prospects</td>\n",
       "      <td>No</td>\n",
       "      <td>No</td>\n",
       "      <td>No</td>\n",
       "      <td>No</td>\n",
       "      <td>No</td>\n",
       "      <td>No</td>\n",
       "      <td>No</td>\n",
       "      <td>No</td>\n",
       "      <td>Ringing</td>\n",
       "      <td>NaN</td>\n",
       "      <td>No</td>\n",
       "      <td>No</td>\n",
       "      <td>Select</td>\n",
       "      <td>Select</td>\n",
       "      <td>02.Medium</td>\n",
       "      <td>02.Medium</td>\n",
       "      <td>15.0</td>\n",
       "      <td>15.0</td>\n",
       "      <td>No</td>\n",
       "      <td>No</td>\n",
       "      <td>Email Opened</td>\n",
       "    </tr>\n",
       "    <tr>\n",
       "      <td>2</td>\n",
       "      <td>8cc8c611-a219-4f35-ad23-fdfd2656bd8a</td>\n",
       "      <td>660727</td>\n",
       "      <td>Landing Page Submission</td>\n",
       "      <td>Direct Traffic</td>\n",
       "      <td>No</td>\n",
       "      <td>No</td>\n",
       "      <td>1</td>\n",
       "      <td>2.0</td>\n",
       "      <td>1532</td>\n",
       "      <td>2.0</td>\n",
       "      <td>Email Opened</td>\n",
       "      <td>India</td>\n",
       "      <td>Business Administration</td>\n",
       "      <td>Select</td>\n",
       "      <td>Student</td>\n",
       "      <td>Better Career Prospects</td>\n",
       "      <td>No</td>\n",
       "      <td>No</td>\n",
       "      <td>No</td>\n",
       "      <td>No</td>\n",
       "      <td>No</td>\n",
       "      <td>No</td>\n",
       "      <td>No</td>\n",
       "      <td>No</td>\n",
       "      <td>Will revert after reading the email</td>\n",
       "      <td>Might be</td>\n",
       "      <td>No</td>\n",
       "      <td>No</td>\n",
       "      <td>Potential Lead</td>\n",
       "      <td>Mumbai</td>\n",
       "      <td>02.Medium</td>\n",
       "      <td>01.High</td>\n",
       "      <td>14.0</td>\n",
       "      <td>20.0</td>\n",
       "      <td>No</td>\n",
       "      <td>Yes</td>\n",
       "      <td>Email Opened</td>\n",
       "    </tr>\n",
       "    <tr>\n",
       "      <td>3</td>\n",
       "      <td>0cc2df48-7cf4-4e39-9de9-19797f9b38cc</td>\n",
       "      <td>660719</td>\n",
       "      <td>Landing Page Submission</td>\n",
       "      <td>Direct Traffic</td>\n",
       "      <td>No</td>\n",
       "      <td>No</td>\n",
       "      <td>0</td>\n",
       "      <td>1.0</td>\n",
       "      <td>305</td>\n",
       "      <td>1.0</td>\n",
       "      <td>Unreachable</td>\n",
       "      <td>India</td>\n",
       "      <td>Media and Advertising</td>\n",
       "      <td>Word Of Mouth</td>\n",
       "      <td>Unemployed</td>\n",
       "      <td>Better Career Prospects</td>\n",
       "      <td>No</td>\n",
       "      <td>No</td>\n",
       "      <td>No</td>\n",
       "      <td>No</td>\n",
       "      <td>No</td>\n",
       "      <td>No</td>\n",
       "      <td>No</td>\n",
       "      <td>No</td>\n",
       "      <td>Ringing</td>\n",
       "      <td>Not Sure</td>\n",
       "      <td>No</td>\n",
       "      <td>No</td>\n",
       "      <td>Select</td>\n",
       "      <td>Mumbai</td>\n",
       "      <td>02.Medium</td>\n",
       "      <td>01.High</td>\n",
       "      <td>13.0</td>\n",
       "      <td>17.0</td>\n",
       "      <td>No</td>\n",
       "      <td>No</td>\n",
       "      <td>Modified</td>\n",
       "    </tr>\n",
       "    <tr>\n",
       "      <td>4</td>\n",
       "      <td>3256f628-e534-4826-9d63-4a8b88782852</td>\n",
       "      <td>660681</td>\n",
       "      <td>Landing Page Submission</td>\n",
       "      <td>Google</td>\n",
       "      <td>No</td>\n",
       "      <td>No</td>\n",
       "      <td>1</td>\n",
       "      <td>2.0</td>\n",
       "      <td>1428</td>\n",
       "      <td>1.0</td>\n",
       "      <td>Converted to Lead</td>\n",
       "      <td>India</td>\n",
       "      <td>Select</td>\n",
       "      <td>Other</td>\n",
       "      <td>Unemployed</td>\n",
       "      <td>Better Career Prospects</td>\n",
       "      <td>No</td>\n",
       "      <td>No</td>\n",
       "      <td>No</td>\n",
       "      <td>No</td>\n",
       "      <td>No</td>\n",
       "      <td>No</td>\n",
       "      <td>No</td>\n",
       "      <td>No</td>\n",
       "      <td>Will revert after reading the email</td>\n",
       "      <td>Might be</td>\n",
       "      <td>No</td>\n",
       "      <td>No</td>\n",
       "      <td>Select</td>\n",
       "      <td>Mumbai</td>\n",
       "      <td>02.Medium</td>\n",
       "      <td>01.High</td>\n",
       "      <td>15.0</td>\n",
       "      <td>18.0</td>\n",
       "      <td>No</td>\n",
       "      <td>No</td>\n",
       "      <td>Modified</td>\n",
       "    </tr>\n",
       "  </tbody>\n",
       "</table>\n",
       "</div>"
      ],
      "text/plain": [
       "                            Prospect ID  Lead Number              Lead Origin     Lead Source Do Not Email Do Not Call  Converted  TotalVisits  Total Time Spent on Website  Page Views Per Visit            Last Activity Country           Specialization How did you hear about X Education What is your current occupation What matters most to you in choosing a course Search Magazine Newspaper Article X Education Forums Newspaper Digital Advertisement Through Recommendations Receive More Updates About Our Courses                                 Tags      Lead Quality Update me on Supply Chain Content Get updates on DM Content    Lead Profile    City Asymmetrique Activity Index Asymmetrique Profile Index  Asymmetrique Activity Score  Asymmetrique Profile Score I agree to pay the amount through cheque A free copy of Mastering The Interview Last Notable Activity\n",
       "0  7927b2df-8bba-4d29-b9a2-b6e0beafe620       660737                      API      Olark Chat           No          No          0          0.0                            0                   0.0  Page Visited on Website     NaN                   Select                             Select                      Unemployed                       Better Career Prospects     No       No                No                 No        No                    No                      No                                     No          Interested in other courses  Low in Relevance                                No                        No          Select  Select                   02.Medium                  02.Medium                         15.0                        15.0                                       No                                     No              Modified\n",
       "1  2a272436-5132-4136-86fa-dcc88c88f482       660728                      API  Organic Search           No          No          0          5.0                          674                   2.5             Email Opened   India                   Select                             Select                      Unemployed                       Better Career Prospects     No       No                No                 No        No                    No                      No                                     No                              Ringing               NaN                                No                        No          Select  Select                   02.Medium                  02.Medium                         15.0                        15.0                                       No                                     No          Email Opened\n",
       "2  8cc8c611-a219-4f35-ad23-fdfd2656bd8a       660727  Landing Page Submission  Direct Traffic           No          No          1          2.0                         1532                   2.0             Email Opened   India  Business Administration                             Select                         Student                       Better Career Prospects     No       No                No                 No        No                    No                      No                                     No  Will revert after reading the email          Might be                                No                        No  Potential Lead  Mumbai                   02.Medium                    01.High                         14.0                        20.0                                       No                                    Yes          Email Opened\n",
       "3  0cc2df48-7cf4-4e39-9de9-19797f9b38cc       660719  Landing Page Submission  Direct Traffic           No          No          0          1.0                          305                   1.0              Unreachable   India    Media and Advertising                      Word Of Mouth                      Unemployed                       Better Career Prospects     No       No                No                 No        No                    No                      No                                     No                              Ringing          Not Sure                                No                        No          Select  Mumbai                   02.Medium                    01.High                         13.0                        17.0                                       No                                     No              Modified\n",
       "4  3256f628-e534-4826-9d63-4a8b88782852       660681  Landing Page Submission          Google           No          No          1          2.0                         1428                   1.0        Converted to Lead   India                   Select                              Other                      Unemployed                       Better Career Prospects     No       No                No                 No        No                    No                      No                                     No  Will revert after reading the email          Might be                                No                        No          Select  Mumbai                   02.Medium                    01.High                         15.0                        18.0                                       No                                     No              Modified"
      ]
     },
     "execution_count": 4,
     "metadata": {},
     "output_type": "execute_result"
    }
   ],
   "source": [
    "lead_score=pd.read_csv(r'C:\\Users\\gauta\\OneDrive\\Documents\\UpGrad\\Lead Case study\\Lead Scoring Assignment\\Leads.csv')\n",
    "lead_score.head()"
   ]
  },
  {
   "cell_type": "code",
   "execution_count": 5,
   "metadata": {},
   "outputs": [
    {
     "data": {
      "text/plain": [
       "(9240, 37)"
      ]
     },
     "execution_count": 5,
     "metadata": {},
     "output_type": "execute_result"
    }
   ],
   "source": [
    "lead_score.shape"
   ]
  },
  {
   "cell_type": "code",
   "execution_count": 6,
   "metadata": {},
   "outputs": [
    {
     "data": {
      "text/plain": [
       "Prospect ID                                         0\n",
       "Lead Number                                         0\n",
       "Lead Origin                                         0\n",
       "Lead Source                                        36\n",
       "Do Not Email                                        0\n",
       "Do Not Call                                         0\n",
       "Converted                                           0\n",
       "TotalVisits                                       137\n",
       "Total Time Spent on Website                         0\n",
       "Page Views Per Visit                              137\n",
       "Last Activity                                     103\n",
       "Country                                          2461\n",
       "Specialization                                   1438\n",
       "How did you hear about X Education               2207\n",
       "What is your current occupation                  2690\n",
       "What matters most to you in choosing a course    2709\n",
       "Search                                              0\n",
       "Magazine                                            0\n",
       "Newspaper Article                                   0\n",
       "X Education Forums                                  0\n",
       "Newspaper                                           0\n",
       "Digital Advertisement                               0\n",
       "Through Recommendations                             0\n",
       "Receive More Updates About Our Courses              0\n",
       "Tags                                             3353\n",
       "Lead Quality                                     4767\n",
       "Update me on Supply Chain Content                   0\n",
       "Get updates on DM Content                           0\n",
       "Lead Profile                                     2709\n",
       "City                                             1420\n",
       "Asymmetrique Activity Index                      4218\n",
       "Asymmetrique Profile Index                       4218\n",
       "Asymmetrique Activity Score                      4218\n",
       "Asymmetrique Profile Score                       4218\n",
       "I agree to pay the amount through cheque            0\n",
       "A free copy of Mastering The Interview              0\n",
       "Last Notable Activity                               0\n",
       "dtype: int64"
      ]
     },
     "execution_count": 6,
     "metadata": {},
     "output_type": "execute_result"
    }
   ],
   "source": [
    "lead_score.isnull().sum()"
   ]
  },
  {
   "cell_type": "code",
   "execution_count": 7,
   "metadata": {},
   "outputs": [],
   "source": [
    "lead_score=lead_score.applymap(lambda x: x.capitalize() if type(x)==str else x)"
   ]
  },
  {
   "cell_type": "code",
   "execution_count": 8,
   "metadata": {},
   "outputs": [],
   "source": [
    "lead_score=lead_score.replace('Select',np.nan)"
   ]
  },
  {
   "cell_type": "code",
   "execution_count": 9,
   "metadata": {},
   "outputs": [
    {
     "data": {
      "text/plain": [
       "Prospect ID                                       0.000000\n",
       "Lead Number                                       0.000000\n",
       "Lead Origin                                       0.000000\n",
       "Lead Source                                       0.389610\n",
       "Do Not Email                                      0.000000\n",
       "Do Not Call                                       0.000000\n",
       "Converted                                         0.000000\n",
       "TotalVisits                                       1.482684\n",
       "Total Time Spent on Website                       0.000000\n",
       "Page Views Per Visit                              1.482684\n",
       "Last Activity                                     1.114719\n",
       "Country                                          26.634199\n",
       "Specialization                                   36.580087\n",
       "How did you hear about X Education               78.463203\n",
       "What is your current occupation                  29.112554\n",
       "What matters most to you in choosing a course    29.318182\n",
       "Search                                            0.000000\n",
       "Magazine                                          0.000000\n",
       "Newspaper Article                                 0.000000\n",
       "X Education Forums                                0.000000\n",
       "Newspaper                                         0.000000\n",
       "Digital Advertisement                             0.000000\n",
       "Through Recommendations                           0.000000\n",
       "Receive More Updates About Our Courses            0.000000\n",
       "Tags                                             36.287879\n",
       "Lead Quality                                     51.590909\n",
       "Update me on Supply Chain Content                 0.000000\n",
       "Get updates on DM Content                         0.000000\n",
       "Lead Profile                                     74.188312\n",
       "City                                             39.707792\n",
       "Asymmetrique Activity Index                      45.649351\n",
       "Asymmetrique Profile Index                       45.649351\n",
       "Asymmetrique Activity Score                      45.649351\n",
       "Asymmetrique Profile Score                       45.649351\n",
       "I agree to pay the amount through cheque          0.000000\n",
       "A free copy of Mastering The Interview            0.000000\n",
       "Last Notable Activity                             0.000000\n",
       "dtype: float64"
      ]
     },
     "execution_count": 9,
     "metadata": {},
     "output_type": "execute_result"
    }
   ],
   "source": [
    "per=((lead_score.isnull().sum())/(lead_score.shape[0]))*100\n",
    "per"
   ]
  },
  {
   "cell_type": "code",
   "execution_count": 10,
   "metadata": {},
   "outputs": [
    {
     "data": {
      "text/plain": [
       "8"
      ]
     },
     "execution_count": 10,
     "metadata": {},
     "output_type": "execute_result"
    }
   ],
   "source": [
    "per=per[per.values>=37]\n",
    "len(per)"
   ]
  },
  {
   "cell_type": "code",
   "execution_count": 11,
   "metadata": {},
   "outputs": [
    {
     "data": {
      "text/plain": [
       "(9240, 29)"
      ]
     },
     "execution_count": 11,
     "metadata": {},
     "output_type": "execute_result"
    }
   ],
   "source": [
    "col_list=list(per.index)\n",
    "lead_score.drop(columns=col_list,axis=1,inplace=True)\n",
    "lead_score.shape"
   ]
  },
  {
   "cell_type": "code",
   "execution_count": 12,
   "metadata": {},
   "outputs": [
    {
     "data": {
      "text/plain": [
       "Prospect ID                                       0.000000\n",
       "Lead Number                                       0.000000\n",
       "Lead Origin                                       0.000000\n",
       "Lead Source                                       0.389610\n",
       "Do Not Email                                      0.000000\n",
       "Do Not Call                                       0.000000\n",
       "Converted                                         0.000000\n",
       "TotalVisits                                       1.482684\n",
       "Total Time Spent on Website                       0.000000\n",
       "Page Views Per Visit                              1.482684\n",
       "Last Activity                                     1.114719\n",
       "Country                                          26.634199\n",
       "Specialization                                   36.580087\n",
       "What is your current occupation                  29.112554\n",
       "What matters most to you in choosing a course    29.318182\n",
       "Search                                            0.000000\n",
       "Magazine                                          0.000000\n",
       "Newspaper Article                                 0.000000\n",
       "X Education Forums                                0.000000\n",
       "Newspaper                                         0.000000\n",
       "Digital Advertisement                             0.000000\n",
       "Through Recommendations                           0.000000\n",
       "Receive More Updates About Our Courses            0.000000\n",
       "Tags                                             36.287879\n",
       "Update me on Supply Chain Content                 0.000000\n",
       "Get updates on DM Content                         0.000000\n",
       "I agree to pay the amount through cheque          0.000000\n",
       "A free copy of Mastering The Interview            0.000000\n",
       "Last Notable Activity                             0.000000\n",
       "dtype: float64"
      ]
     },
     "execution_count": 12,
     "metadata": {},
     "output_type": "execute_result"
    }
   ],
   "source": [
    "((lead_score.isnull().sum())/(lead_score.shape[0]))*100"
   ]
  },
  {
   "cell_type": "code",
   "execution_count": 13,
   "metadata": {},
   "outputs": [
    {
     "data": {
      "text/plain": [
       "Prospect ID                                      9240\n",
       "Lead Number                                      9240\n",
       "Lead Origin                                         5\n",
       "Lead Source                                        20\n",
       "Do Not Email                                        2\n",
       "Do Not Call                                         2\n",
       "Converted                                           2\n",
       "TotalVisits                                        41\n",
       "Total Time Spent on Website                      1731\n",
       "Page Views Per Visit                              114\n",
       "Last Activity                                      17\n",
       "Country                                            38\n",
       "Specialization                                     18\n",
       "What is your current occupation                     6\n",
       "What matters most to you in choosing a course       3\n",
       "Search                                              2\n",
       "Magazine                                            1\n",
       "Newspaper Article                                   2\n",
       "X Education Forums                                  2\n",
       "Newspaper                                           2\n",
       "Digital Advertisement                               2\n",
       "Through Recommendations                             2\n",
       "Receive More Updates About Our Courses              1\n",
       "Tags                                               26\n",
       "Update me on Supply Chain Content                   1\n",
       "Get updates on DM Content                           1\n",
       "I agree to pay the amount through cheque            1\n",
       "A free copy of Mastering The Interview              2\n",
       "Last Notable Activity                              16\n",
       "dtype: int64"
      ]
     },
     "execution_count": 13,
     "metadata": {},
     "output_type": "execute_result"
    }
   ],
   "source": [
    "lead_score.nunique()"
   ]
  },
  {
   "cell_type": "code",
   "execution_count": 14,
   "metadata": {},
   "outputs": [
    {
     "data": {
      "text/plain": [
       "Prospect ID                                       0.000000\n",
       "Lead Number                                       0.000000\n",
       "Lead Origin                                       0.000000\n",
       "Lead Source                                       0.389610\n",
       "Do Not Email                                      0.000000\n",
       "Do Not Call                                       0.000000\n",
       "Converted                                         0.000000\n",
       "TotalVisits                                       1.482684\n",
       "Total Time Spent on Website                       0.000000\n",
       "Page Views Per Visit                              1.482684\n",
       "Last Activity                                     1.114719\n",
       "Country                                          26.634199\n",
       "Specialization                                   36.580087\n",
       "What is your current occupation                  29.112554\n",
       "What matters most to you in choosing a course    29.318182\n",
       "Search                                            0.000000\n",
       "Newspaper Article                                 0.000000\n",
       "X Education Forums                                0.000000\n",
       "Newspaper                                         0.000000\n",
       "Digital Advertisement                             0.000000\n",
       "Through Recommendations                           0.000000\n",
       "Tags                                             36.287879\n",
       "A free copy of Mastering The Interview            0.000000\n",
       "Last Notable Activity                             0.000000\n",
       "dtype: float64"
      ]
     },
     "execution_count": 14,
     "metadata": {},
     "output_type": "execute_result"
    }
   ],
   "source": [
    "lead_score.drop(columns=['Magazine','Receive More Updates About Our Courses','Update me on Supply Chain Content','Get updates on DM Content'\n",
    "                        ,'I agree to pay the amount through cheque'],inplace=True)\n",
    "((lead_score.isnull().sum())/(lead_score.shape[0]))*100"
   ]
  },
  {
   "cell_type": "code",
   "execution_count": null,
   "metadata": {},
   "outputs": [],
   "source": []
  },
  {
   "cell_type": "code",
   "execution_count": 15,
   "metadata": {},
   "outputs": [
    {
     "name": "stdout",
     "output_type": "stream",
     "text": [
      "2461\n",
      "3380\n",
      "2709\n",
      "2690\n"
     ]
    }
   ],
   "source": [
    "print(lead_score['Country'].isnull().sum())\n",
    "print(lead_score['Specialization'].isnull().sum())\n",
    "print(lead_score['What matters most to you in choosing a course'].isnull().sum())\n",
    "print(lead_score['What is your current occupation'].isnull().sum())\n"
   ]
  },
  {
   "cell_type": "code",
   "execution_count": 16,
   "metadata": {},
   "outputs": [],
   "source": [
    "lead_score['Country']=lead_score['Country'].fillna('No Details')\n",
    "lead_score['Tags']=lead_score['Tags'].fillna('No Details')\n",
    "lead_score['Specialization']=lead_score['Specialization'].fillna('No Details')\n",
    "lead_score['What matters most to you in choosing a course']=lead_score['What matters most to you in choosing a course'].fillna('No Details')\n",
    "lead_score['What is your current occupation']=lead_score['What is your current occupation'].fillna('No Details')"
   ]
  },
  {
   "cell_type": "code",
   "execution_count": 17,
   "metadata": {},
   "outputs": [
    {
     "name": "stdout",
     "output_type": "stream",
     "text": [
      "India                   6492\n",
      "No Details              2461\n",
      "United states             69\n",
      "United arab emirates      53\n",
      "Singapore                 24\n",
      "Saudi arabia              21\n",
      "United kingdom            15\n",
      "Australia                 13\n",
      "Qatar                     10\n",
      "Bahrain                    7\n",
      "Hong kong                  7\n",
      "Oman                       6\n",
      "France                     6\n",
      "Unknown                    5\n",
      "Nigeria                    4\n",
      "South africa               4\n",
      "Germany                    4\n",
      "Canada                     4\n",
      "Kuwait                     4\n",
      "Sweden                     3\n",
      "Ghana                      2\n",
      "Italy                      2\n",
      "Belgium                    2\n",
      "China                      2\n",
      "Uganda                     2\n",
      "Bangladesh                 2\n",
      "Netherlands                2\n",
      "Philippines                2\n",
      "Asia/pacific region        2\n",
      "Sri lanka                  1\n",
      "Vietnam                    1\n",
      "Switzerland                1\n",
      "Liberia                    1\n",
      "Russia                     1\n",
      "Tanzania                   1\n",
      "Kenya                      1\n",
      "Denmark                    1\n",
      "Malaysia                   1\n",
      "Indonesia                  1\n",
      "Name: Country, dtype: int64\n",
      "-------------------------------------\n",
      "No Details                           3380\n",
      "Finance management                    976\n",
      "Human resource management             848\n",
      "Marketing management                  838\n",
      "Operations management                 503\n",
      "Business administration               403\n",
      "It projects management                366\n",
      "Supply chain management               349\n",
      "Banking, investment and insurance     338\n",
      "Media and advertising                 203\n",
      "Travel and tourism                    203\n",
      "International business                178\n",
      "Healthcare management                 159\n",
      "Hospitality management                114\n",
      "E-commerce                            112\n",
      "Retail management                     100\n",
      "Rural and agribusiness                 73\n",
      "E-business                             57\n",
      "Services excellence                    40\n",
      "Name: Specialization, dtype: int64\n",
      "-------------------------------------\n",
      "Better career prospects      6528\n",
      "No Details                   2709\n",
      "Flexibility & convenience       2\n",
      "Other                           1\n",
      "Name: What matters most to you in choosing a course, dtype: int64\n",
      "-------------------------------------\n",
      "Unemployed              5600\n",
      "No Details              2690\n",
      "Working professional     706\n",
      "Student                  210\n",
      "Other                     16\n",
      "Housewife                 10\n",
      "Businessman                8\n",
      "Name: What is your current occupation, dtype: int64\n"
     ]
    }
   ],
   "source": [
    "\n",
    "print(lead_score['Country'].value_counts())\n",
    "print('-------------------------------------')\n",
    "print(lead_score['Specialization'].value_counts())\n",
    "print('-------------------------------------')\n",
    "print(lead_score['What matters most to you in choosing a course'].value_counts())\n",
    "print('-------------------------------------')\n",
    "print(lead_score['What is your current occupation'].value_counts())"
   ]
  },
  {
   "cell_type": "code",
   "execution_count": 18,
   "metadata": {},
   "outputs": [
    {
     "data": {
      "text/plain": [
       "Prospect ID                                      0.000000\n",
       "Lead Number                                      0.000000\n",
       "Lead Origin                                      0.000000\n",
       "Lead Source                                      0.389610\n",
       "Do Not Email                                     0.000000\n",
       "Do Not Call                                      0.000000\n",
       "Converted                                        0.000000\n",
       "TotalVisits                                      1.482684\n",
       "Total Time Spent on Website                      0.000000\n",
       "Page Views Per Visit                             1.482684\n",
       "Last Activity                                    1.114719\n",
       "Country                                          0.000000\n",
       "Specialization                                   0.000000\n",
       "What is your current occupation                  0.000000\n",
       "What matters most to you in choosing a course    0.000000\n",
       "Search                                           0.000000\n",
       "Newspaper Article                                0.000000\n",
       "X Education Forums                               0.000000\n",
       "Newspaper                                        0.000000\n",
       "Digital Advertisement                            0.000000\n",
       "Through Recommendations                          0.000000\n",
       "Tags                                             0.000000\n",
       "A free copy of Mastering The Interview           0.000000\n",
       "Last Notable Activity                            0.000000\n",
       "dtype: float64"
      ]
     },
     "execution_count": 18,
     "metadata": {},
     "output_type": "execute_result"
    }
   ],
   "source": [
    "((lead_score.isnull().sum())/(lead_score.shape[0]))*100"
   ]
  },
  {
   "cell_type": "code",
   "execution_count": 19,
   "metadata": {},
   "outputs": [
    {
     "name": "stdout",
     "output_type": "stream",
     "text": [
      "36\n",
      "137\n",
      "137\n",
      "103\n"
     ]
    }
   ],
   "source": [
    "print(lead_score['Lead Source'].isnull().sum())\n",
    "print(lead_score['TotalVisits'].isnull().sum())\n",
    "print(lead_score['Page Views Per Visit'].isnull().sum())\n",
    "print(lead_score['Last Activity'].isnull().sum())"
   ]
  },
  {
   "cell_type": "code",
   "execution_count": 20,
   "metadata": {},
   "outputs": [
    {
     "name": "stdout",
     "output_type": "stream",
     "text": [
      "Google               2873\n",
      "Direct traffic       2543\n",
      "Olark chat           1755\n",
      "Organic search       1154\n",
      "Reference             534\n",
      "Welingak website      142\n",
      "Referral sites        125\n",
      "Facebook               55\n",
      "Bing                    6\n",
      "Click2call              4\n",
      "Press_release           2\n",
      "Live chat               2\n",
      "Social media            2\n",
      "Testone                 1\n",
      "Blog                    1\n",
      "Welearnblog_home        1\n",
      "Welearn                 1\n",
      "Youtubechannel          1\n",
      "Pay per click ads       1\n",
      "Nc_edm                  1\n",
      "Name: Lead Source, dtype: int64\n",
      "-------------------------------------\n",
      "Email opened                    3437\n",
      "Sms sent                        2745\n",
      "Olark chat conversation          973\n",
      "Page visited on website          640\n",
      "Converted to lead                428\n",
      "Email bounced                    326\n",
      "Email link clicked               267\n",
      "Form submitted on website        116\n",
      "Unreachable                       93\n",
      "Unsubscribed                      61\n",
      "Had a phone conversation          30\n",
      "Approached upfront                 9\n",
      "View in browser link clicked       6\n",
      "Email received                     2\n",
      "Email marked spam                  2\n",
      "Visited booth in tradeshow         1\n",
      "Resubscribed to emails             1\n",
      "Name: Last Activity, dtype: int64\n"
     ]
    }
   ],
   "source": [
    "print(lead_score['Lead Source'].value_counts())\n",
    "print('-------------------------------------')\n",
    "print(lead_score['Last Activity'].value_counts())"
   ]
  },
  {
   "cell_type": "code",
   "execution_count": 21,
   "metadata": {},
   "outputs": [],
   "source": [
    "lead_score=lead_score[lead_score.isnull().sum(axis=1)<1]"
   ]
  },
  {
   "cell_type": "code",
   "execution_count": 22,
   "metadata": {},
   "outputs": [
    {
     "name": "stdout",
     "output_type": "stream",
     "text": [
      "count    9074.000000\n",
      "mean        3.456028\n",
      "std         4.858802\n",
      "min         0.000000\n",
      "25%         1.000000\n",
      "50%         3.000000\n",
      "75%         5.000000\n",
      "max       251.000000\n",
      "Name: TotalVisits, dtype: float64\n",
      "-------------------------------------\n"
     ]
    },
    {
     "data": {
      "text/plain": [
       "count    9074.000000\n",
       "mean        2.370151\n",
       "std         2.160871\n",
       "min         0.000000\n",
       "25%         1.000000\n",
       "50%         2.000000\n",
       "75%         3.200000\n",
       "max        55.000000\n",
       "Name: Page Views Per Visit, dtype: float64"
      ]
     },
     "execution_count": 22,
     "metadata": {},
     "output_type": "execute_result"
    }
   ],
   "source": [
    "print(lead_score['TotalVisits'].describe())\n",
    "print('-------------------------------------')\n",
    "lead_score['Page Views Per Visit'].describe()"
   ]
  },
  {
   "cell_type": "code",
   "execution_count": 23,
   "metadata": {},
   "outputs": [],
   "source": [
    "lead_score.loc[lead_score['TotalVisits'].isnull()==True,'TotalVisits']=np.mean(lead_score['TotalVisits'])\n",
    "lead_score.loc[lead_score['Page Views Per Visit'].isnull()==True,'Page Views Per Visit']=np.mean(lead_score['Page Views Per Visit'])"
   ]
  },
  {
   "cell_type": "code",
   "execution_count": 24,
   "metadata": {},
   "outputs": [
    {
     "data": {
      "text/plain": [
       "(9074, 24)"
      ]
     },
     "execution_count": 24,
     "metadata": {},
     "output_type": "execute_result"
    }
   ],
   "source": [
    "lead_score.shape"
   ]
  },
  {
   "cell_type": "code",
   "execution_count": 25,
   "metadata": {},
   "outputs": [
    {
     "data": {
      "text/plain": [
       "India                   6491\n",
       "No Details              2296\n",
       "United states             69\n",
       "United arab emirates      53\n",
       "Singapore                 24\n",
       "Saudi arabia              21\n",
       "United kingdom            15\n",
       "Australia                 13\n",
       "Qatar                     10\n",
       "Bahrain                    7\n",
       "Hong kong                  7\n",
       "Oman                       6\n",
       "France                     6\n",
       "Unknown                    5\n",
       "Nigeria                    4\n",
       "South africa               4\n",
       "Germany                    4\n",
       "Canada                     4\n",
       "Kuwait                     4\n",
       "Sweden                     3\n",
       "Ghana                      2\n",
       "Italy                      2\n",
       "Belgium                    2\n",
       "China                      2\n",
       "Uganda                     2\n",
       "Bangladesh                 2\n",
       "Netherlands                2\n",
       "Philippines                2\n",
       "Asia/pacific region        2\n",
       "Sri lanka                  1\n",
       "Vietnam                    1\n",
       "Switzerland                1\n",
       "Liberia                    1\n",
       "Russia                     1\n",
       "Tanzania                   1\n",
       "Kenya                      1\n",
       "Denmark                    1\n",
       "Malaysia                   1\n",
       "Indonesia                  1\n",
       "Name: Country, dtype: int64"
      ]
     },
     "execution_count": 25,
     "metadata": {},
     "output_type": "execute_result"
    }
   ],
   "source": [
    "lead_score['Country'].value_counts()"
   ]
  },
  {
   "cell_type": "code",
   "execution_count": 26,
   "metadata": {},
   "outputs": [
    {
     "data": {
      "text/plain": [
       "India            6491\n",
       "No Details       2296\n",
       "Outside India     287\n",
       "Name: Country, dtype: int64"
      ]
     },
     "execution_count": 26,
     "metadata": {},
     "output_type": "execute_result"
    }
   ],
   "source": [
    "def country(x):\n",
    "    if x=='India':\n",
    "        return 'India'\n",
    "    elif x=='No Details':\n",
    "        return 'No Details'\n",
    "    else:\n",
    "        return 'Outside India'\n",
    "lead_score['Country']=lead_score['Country'].apply(country)\n",
    "lead_score['Country'].value_counts()"
   ]
  },
  {
   "cell_type": "code",
   "execution_count": 27,
   "metadata": {},
   "outputs": [],
   "source": [
    "lead_score.drop(columns=['Prospect ID','Lead Number'],inplace=True)"
   ]
  },
  {
   "cell_type": "code",
   "execution_count": 28,
   "metadata": {},
   "outputs": [
    {
     "data": {
      "text/plain": [
       "(9074, 22)"
      ]
     },
     "execution_count": 28,
     "metadata": {},
     "output_type": "execute_result"
    }
   ],
   "source": [
    "lead_score.shape"
   ]
  },
  {
   "cell_type": "code",
   "execution_count": 29,
   "metadata": {},
   "outputs": [
    {
     "data": {
      "text/plain": [
       "Lead Origin                                      0.0\n",
       "Lead Source                                      0.0\n",
       "Do Not Email                                     0.0\n",
       "Do Not Call                                      0.0\n",
       "Converted                                        0.0\n",
       "TotalVisits                                      0.0\n",
       "Total Time Spent on Website                      0.0\n",
       "Page Views Per Visit                             0.0\n",
       "Last Activity                                    0.0\n",
       "Country                                          0.0\n",
       "Specialization                                   0.0\n",
       "What is your current occupation                  0.0\n",
       "What matters most to you in choosing a course    0.0\n",
       "Search                                           0.0\n",
       "Newspaper Article                                0.0\n",
       "X Education Forums                               0.0\n",
       "Newspaper                                        0.0\n",
       "Digital Advertisement                            0.0\n",
       "Through Recommendations                          0.0\n",
       "Tags                                             0.0\n",
       "A free copy of Mastering The Interview           0.0\n",
       "Last Notable Activity                            0.0\n",
       "dtype: float64"
      ]
     },
     "execution_count": 29,
     "metadata": {},
     "output_type": "execute_result"
    }
   ],
   "source": [
    "((lead_score.isnull().sum())/(lead_score.shape[0]))*100"
   ]
  },
  {
   "cell_type": "markdown",
   "metadata": {},
   "source": [
    "## Univariate and Bivariate Analysis "
   ]
  },
  {
   "cell_type": "code",
   "execution_count": 30,
   "metadata": {},
   "outputs": [],
   "source": [
    "cat_cols = [\"Lead Origin\",\"Lead Source\",\"Do Not Email\",\"Do Not Call\",\"Last Activity\",\"Specialization\",\"What is your current occupation\",\"Tags\",\"Last Notable Activity\"]"
   ]
  },
  {
   "cell_type": "code",
   "execution_count": 31,
   "metadata": {},
   "outputs": [],
   "source": [
    "def uni_cat(X):\n",
    "    cat_per= lead_score[[X, 'Converted']].groupby([X],as_index=False).mean()\n",
    "    cat_per[\"Converted\"] = cat_per[\"Converted\"]*100\n",
    "    cat_per.sort_values(by='Converted', ascending=False, inplace=True)\n",
    "    \n",
    "    fig, (ax1, ax2) = plt.subplots(ncols=2, figsize=(15,6))\n",
    "    s = sns.countplot(ax=ax1, x = X, data=lead_score, hue =\"Converted\",order=cat_per[X])\n",
    "    ax1.set_title(X, fontdict={'fontsize':15,'fontweight':5,'color' :'Blue'})\n",
    "    s.set_xticklabels(s.get_xticklabels(),rotation=90)\n",
    "    ax1.legend(['Not Converted','Converted'])\n",
    "    plt.ylabel(\"count\",fontsize=15)\n",
    "    plt.xlabel(X,fontsize=15)\n",
    "    \n",
    "    \n",
    "    s = sns.barplot(ax=ax2, x = X, y='Converted', data=cat_per,order=cat_per[X])\n",
    "    ax2.set_title(X+\"( Converted % )\",fontdict={\"fontsize\":15,\"fontweight\":5,\"color\":\"Blue\"})\n",
    "    s.set_xticklabels(s.get_xticklabels(),rotation=90)\n",
    "    plt.ylabel('Percent of Converted lead_scores [%]', fontsize=15)\n",
    "    plt.xlabel(X,fontsize=15)"
   ]
  },
  {
   "cell_type": "code",
   "execution_count": 32,
   "metadata": {},
   "outputs": [
    {
     "data": {
      "image/png": "[encoded data removed]",
      "text/plain": [
       "<Figure size 1080x432 with 2 Axes>"
      ]
     },
     "metadata": {
      "needs_background": "light"
     },
     "output_type": "display_data"
    }
   ],
   "source": [
    "uni_cat(\"Lead Origin\")"
   ]
  },
  {
   "cell_type": "markdown",
   "metadata": {},
   "source": [
    "From the above plot:\n",
    "\n",
    "- landing Page submission(approx 37%), lead_score import(approx 28%) and API(approx 35%) have less coversion percentage\n",
    "- Quick add form(approx 98%), lead_score add(approx 90%) form have highest conversion percentage\n",
    "\n",
    "#### To improve converting percentage need to concentrate on landing Page submission(has highest number lead_scores), API and lead_score import."
   ]
  },
  {
   "cell_type": "code",
   "execution_count": 33,
   "metadata": {},
   "outputs": [
    {
     "data": {
      "image/png": "[encoded data removed]",
      "text/plain": [
       "<Figure size 1080x432 with 2 Axes>"
      ]
     },
     "metadata": {
      "needs_background": "light"
     },
     "output_type": "display_data"
    }
   ],
   "source": [
    "uni_cat(\"Lead Source\")"
   ]
  },
  {
   "cell_type": "code",
   "execution_count": 34,
   "metadata": {},
   "outputs": [],
   "source": [
    "lead_score['Lead Source'] = lead_score['Lead Source'].replace(['Click2call',\"Nc_edm\",'Live chat','Pay per Click ads', 'Press_release','Social media', 'Welearn', 'Bing', 'Blog', 'Testone', 'Welearnblog_home', 'Youtubechannel'], 'Others')"
   ]
  },
  {
   "cell_type": "code",
   "execution_count": 35,
   "metadata": {},
   "outputs": [],
   "source": [
    "lead_score[\"Lead Source\"] = lead_score[\"Lead Source\"].replace([\"<bound method Series.mode of 0           Olark chat\\n1       Organic search\\n2       Direct traffic\\n3       Direct traffic\\n4               Google\\n             ...      \\n9235    Direct traffic\\n9236    Direct traffic\\n9237    Direct traffic\\n9238            Google\\n9239    Direct traffic\\nName: lead_score Source, Length: 9240, dtype: object>\",\"Others\"])"
   ]
  },
  {
   "cell_type": "code",
   "execution_count": 36,
   "metadata": {},
   "outputs": [
    {
     "data": {
      "image/png": "[encoded data removed]",
      "text/plain": [
       "<Figure size 1080x432 with 2 Axes>"
      ]
     },
     "metadata": {
      "needs_background": "light"
     },
     "output_type": "display_data"
    }
   ],
   "source": [
    "uni_cat(\"Lead Source\")"
   ]
  },
  {
   "cell_type": "markdown",
   "metadata": {},
   "source": [
    "From the above plot:\n",
    "- Google, Direct traffic and olark chat has more lead_scores\n",
    "- Wellingak website, reference have high conversion percentage\n",
    "\n",
    "#### The high lead_score source variables like Google,Direct traffic, Olark Chat, are to be concentrated more to convert the lead_scores to hot lead_scores"
   ]
  },
  {
   "cell_type": "code",
   "execution_count": 37,
   "metadata": {},
   "outputs": [
    {
     "data": {
      "image/png": "[encoded data removed]",
      "text/plain": [
       "<Figure size 1080x432 with 2 Axes>"
      ]
     },
     "metadata": {
      "needs_background": "light"
     },
     "output_type": "display_data"
    }
   ],
   "source": [
    "uni_cat(\"Do Not Email\")"
   ]
  },
  {
   "cell_type": "markdown",
   "metadata": {},
   "source": [
    "From the above plot:\n",
    "- Those who Email are the most important lead_scores who are converting into hot lead_scores, sales team should concentrate on who do email"
   ]
  },
  {
   "cell_type": "code",
   "execution_count": 38,
   "metadata": {},
   "outputs": [
    {
     "data": {
      "image/png": "[encoded data removed]",
      "text/plain": [
       "<Figure size 1080x432 with 2 Axes>"
      ]
     },
     "metadata": {
      "needs_background": "light"
     },
     "output_type": "display_data"
    }
   ],
   "source": [
    "uni_cat(\"Do Not Call\")"
   ]
  },
  {
   "cell_type": "markdown",
   "metadata": {},
   "source": [
    "From the above plot:\n",
    "- Those who Call are the most important lead_scores who are converting into hot lead_scores, sales team should concentrate on who do Calls"
   ]
  },
  {
   "cell_type": "code",
   "execution_count": 39,
   "metadata": {},
   "outputs": [
    {
     "data": {
      "image/png": "[encoded data removed]",
      "text/plain": [
       "<Figure size 1080x432 with 2 Axes>"
      ]
     },
     "metadata": {
      "needs_background": "light"
     },
     "output_type": "display_data"
    }
   ],
   "source": [
    "uni_cat(\"Last Activity\")"
   ]
  },
  {
   "cell_type": "code",
   "execution_count": 40,
   "metadata": {},
   "outputs": [],
   "source": [
    "# again there are many lead_scores which barely have count, so lets combine them to one variable\n",
    "\n",
    "lead_score[\"Last Activity\"] = lead_score[\"Last Activity\"].replace([\"Had a phone conversation\",\"Approached upfront\",\"View in browser link clicked\",\"Email marked spam\",\"Email received\",\"Resubscribed to emails\",\"Visited booth in tradeshow\"],\"Others\")"
   ]
  },
  {
   "cell_type": "code",
   "execution_count": 41,
   "metadata": {},
   "outputs": [
    {
     "data": {
      "image/png": "[encoded data removed]",
      "text/plain": [
       "<Figure size 1080x432 with 2 Axes>"
      ]
     },
     "metadata": {
      "needs_background": "light"
     },
     "output_type": "display_data"
    }
   ],
   "source": [
    "uni_cat(\"Last Activity\")"
   ]
  },
  {
   "cell_type": "code",
   "execution_count": 42,
   "metadata": {},
   "outputs": [
    {
     "data": {
      "image/png": "[encoded data removed]",
      "text/plain": [
       "<Figure size 1080x432 with 2 Axes>"
      ]
     },
     "metadata": {
      "needs_background": "light"
     },
     "output_type": "display_data"
    }
   ],
   "source": [
    "uni_cat(\"Specialization\")"
   ]
  },
  {
   "cell_type": "code",
   "execution_count": 43,
   "metadata": {},
   "outputs": [
    {
     "data": {
      "image/png": "[encoded data removed]",
      "text/plain": [
       "<Figure size 1080x432 with 2 Axes>"
      ]
     },
     "metadata": {
      "needs_background": "light"
     },
     "output_type": "display_data"
    }
   ],
   "source": [
    "uni_cat(\"What is your current occupation\")"
   ]
  },
  {
   "cell_type": "code",
   "execution_count": 44,
   "metadata": {},
   "outputs": [
    {
     "data": {
      "text/plain": [
       "Better career prospects      6370\n",
       "No Details                   2702\n",
       "Flexibility & convenience       1\n",
       "Other                           1\n",
       "Name: What matters most to you in choosing a course, dtype: int64"
      ]
     },
     "execution_count": 44,
     "metadata": {},
     "output_type": "execute_result"
    }
   ],
   "source": [
    "lead_score[\"What matters most to you in choosing a course\"].value_counts()"
   ]
  },
  {
   "cell_type": "code",
   "execution_count": 45,
   "metadata": {},
   "outputs": [
    {
     "data": {
      "text/plain": [
       "No     9060\n",
       "Yes      14\n",
       "Name: Search, dtype: int64"
      ]
     },
     "execution_count": 45,
     "metadata": {},
     "output_type": "execute_result"
    }
   ],
   "source": [
    "lead_score[\"Search\"].value_counts()"
   ]
  },
  {
   "cell_type": "code",
   "execution_count": 46,
   "metadata": {},
   "outputs": [
    {
     "data": {
      "text/plain": [
       "No     9072\n",
       "Yes       2\n",
       "Name: Newspaper Article, dtype: int64"
      ]
     },
     "execution_count": 46,
     "metadata": {},
     "output_type": "execute_result"
    }
   ],
   "source": [
    "lead_score[\"Newspaper Article\"].value_counts()"
   ]
  },
  {
   "cell_type": "code",
   "execution_count": 47,
   "metadata": {},
   "outputs": [
    {
     "data": {
      "text/plain": [
       "No     9073\n",
       "Yes       1\n",
       "Name: X Education Forums, dtype: int64"
      ]
     },
     "execution_count": 47,
     "metadata": {},
     "output_type": "execute_result"
    }
   ],
   "source": [
    "lead_score[\"X Education Forums\"].value_counts()"
   ]
  },
  {
   "cell_type": "code",
   "execution_count": 48,
   "metadata": {},
   "outputs": [
    {
     "data": {
      "text/plain": [
       "No     9073\n",
       "Yes       1\n",
       "Name: Newspaper, dtype: int64"
      ]
     },
     "execution_count": 48,
     "metadata": {},
     "output_type": "execute_result"
    }
   ],
   "source": [
    "lead_score[\"Newspaper\"].value_counts()"
   ]
  },
  {
   "cell_type": "code",
   "execution_count": 49,
   "metadata": {},
   "outputs": [
    {
     "data": {
      "text/plain": [
       "No     9070\n",
       "Yes       4\n",
       "Name: Digital Advertisement, dtype: int64"
      ]
     },
     "execution_count": 49,
     "metadata": {},
     "output_type": "execute_result"
    }
   ],
   "source": [
    "lead_score[\"Digital Advertisement\"].value_counts()"
   ]
  },
  {
   "cell_type": "code",
   "execution_count": 50,
   "metadata": {},
   "outputs": [
    {
     "data": {
      "text/plain": [
       "No     9060\n",
       "Yes      14\n",
       "Name: Search, dtype: int64"
      ]
     },
     "execution_count": 50,
     "metadata": {},
     "output_type": "execute_result"
    }
   ],
   "source": [
    "lead_score[\"Search\"].value_counts()"
   ]
  },
  {
   "cell_type": "code",
   "execution_count": 51,
   "metadata": {},
   "outputs": [
    {
     "data": {
      "text/plain": [
       "No     9067\n",
       "Yes       7\n",
       "Name: Through Recommendations, dtype: int64"
      ]
     },
     "execution_count": 51,
     "metadata": {},
     "output_type": "execute_result"
    }
   ],
   "source": [
    "lead_score[\"Through Recommendations\"].value_counts()"
   ]
  },
  {
   "cell_type": "code",
   "execution_count": 52,
   "metadata": {},
   "outputs": [],
   "source": [
    "lead_score[\"Tags\"] = lead_score[\"Tags\"].replace([\"Lost to others\",\"Want to take admission but has financial problems\",\"Still thinking\",\"Interested in next batch\",\"In confusion whether part time or dlp\",\"Lateral student\",\"University not recognized\",\"Shall take in the next coming month\",\"Recognition issue (dec approval)\"],\"Others\")"
   ]
  },
  {
   "cell_type": "code",
   "execution_count": 53,
   "metadata": {},
   "outputs": [
    {
     "data": {
      "image/png": "[encoded data removed]",
      "text/plain": [
       "<Figure size 1080x432 with 2 Axes>"
      ]
     },
     "metadata": {
      "needs_background": "light"
     },
     "output_type": "display_data"
    }
   ],
   "source": [
    "uni_cat(\"Tags\")"
   ]
  },
  {
   "cell_type": "markdown",
   "metadata": {},
   "source": [
    "\"No details\" kind of *tag* has more lead_scores, but unfortunately there are not even 50% who converted to positive.\n",
    "\n",
    "\n",
    "Surprisingly, \"Will revert after reading the email\" *tag* has highest converting lead_scores which is very important point to be noted"
   ]
  },
  {
   "cell_type": "code",
   "execution_count": 54,
   "metadata": {},
   "outputs": [
    {
     "data": {
      "text/plain": [
       "No     6186\n",
       "Yes    2888\n",
       "Name: A free copy of Mastering The Interview, dtype: int64"
      ]
     },
     "execution_count": 54,
     "metadata": {},
     "output_type": "execute_result"
    }
   ],
   "source": [
    "lead_score[\"A free copy of Mastering The Interview\"].value_counts()"
   ]
  },
  {
   "cell_type": "code",
   "execution_count": 55,
   "metadata": {},
   "outputs": [],
   "source": [
    "lead_score[\"Last Notable Activity\"] = lead_score[\"Last Notable Activity\"].replace([\"Email marked spam\",\"Form submitted on website\",\"Resubscribed to emails\",\"Approached upfront\",\"Email received\",\"View in browser link clicked\",\"Had a phone conversation\"],\"Others\")"
   ]
  },
  {
   "cell_type": "code",
   "execution_count": 56,
   "metadata": {},
   "outputs": [
    {
     "data": {
      "image/png": "[encoded data removed]",
      "text/plain": [
       "<Figure size 1080x432 with 2 Axes>"
      ]
     },
     "metadata": {
      "needs_background": "light"
     },
     "output_type": "display_data"
    }
   ],
   "source": [
    "uni_cat(\"Last Notable Activity\")"
   ]
  },
  {
   "cell_type": "markdown",
   "metadata": {},
   "source": [
    "Search, Newspaper, Newspaper Article, Digital Advertisement, ,X Education Forums, Recommendation, Free copy, data are very skewed and can be deleted as they will not add any value to the model."
   ]
  },
  {
   "cell_type": "markdown",
   "metadata": {},
   "source": [
    "### Univariate Analysis Numerical "
   ]
  },
  {
   "cell_type": "code",
   "execution_count": 57,
   "metadata": {},
   "outputs": [
    {
     "name": "stdout",
     "output_type": "stream",
     "text": [
      "<class 'pandas.core.frame.DataFrame'>\n",
      "Int64Index: 9074 entries, 0 to 9239\n",
      "Data columns (total 22 columns):\n",
      "Lead Origin                                      9074 non-null object\n",
      "Lead Source                                      9074 non-null object\n",
      "Do Not Email                                     9074 non-null object\n",
      "Do Not Call                                      9074 non-null object\n",
      "Converted                                        9074 non-null int64\n",
      "TotalVisits                                      9074 non-null float64\n",
      "Total Time Spent on Website                      9074 non-null int64\n",
      "Page Views Per Visit                             9074 non-null float64\n",
      "Last Activity                                    9074 non-null object\n",
      "Country                                          9074 non-null object\n",
      "Specialization                                   9074 non-null object\n",
      "What is your current occupation                  9074 non-null object\n",
      "What matters most to you in choosing a course    9074 non-null object\n",
      "Search                                           9074 non-null object\n",
      "Newspaper Article                                9074 non-null object\n",
      "X Education Forums                               9074 non-null object\n",
      "Newspaper                                        9074 non-null object\n",
      "Digital Advertisement                            9074 non-null object\n",
      "Through Recommendations                          9074 non-null object\n",
      "Tags                                             9074 non-null object\n",
      "A free copy of Mastering The Interview           9074 non-null object\n",
      "Last Notable Activity                            9074 non-null object\n",
      "dtypes: float64(2), int64(2), object(18)\n",
      "memory usage: 1.9+ MB\n"
     ]
    }
   ],
   "source": [
    "lead_score.info()"
   ]
  },
  {
   "cell_type": "code",
   "execution_count": 58,
   "metadata": {},
   "outputs": [
    {
     "data": {
      "text/plain": [
       "0.0      2161\n",
       "2.0      1679\n",
       "3.0      1306\n",
       "4.0      1120\n",
       "5.0       783\n",
       "6.0       466\n",
       "1.0       395\n",
       "7.0       309\n",
       "8.0       224\n",
       "9.0       164\n",
       "10.0      114\n",
       "11.0       86\n",
       "13.0       48\n",
       "12.0       45\n",
       "14.0       36\n",
       "16.0       21\n",
       "15.0       18\n",
       "17.0       16\n",
       "18.0       15\n",
       "20.0       12\n",
       "19.0        9\n",
       "23.0        6\n",
       "21.0        6\n",
       "27.0        5\n",
       "24.0        5\n",
       "25.0        5\n",
       "22.0        3\n",
       "28.0        2\n",
       "29.0        2\n",
       "26.0        2\n",
       "251.0       1\n",
       "74.0        1\n",
       "30.0        1\n",
       "141.0       1\n",
       "54.0        1\n",
       "41.0        1\n",
       "115.0       1\n",
       "43.0        1\n",
       "42.0        1\n",
       "32.0        1\n",
       "55.0        1\n",
       "Name: TotalVisits, dtype: int64"
      ]
     },
     "execution_count": 58,
     "metadata": {},
     "output_type": "execute_result"
    }
   ],
   "source": [
    "lead_score.TotalVisits.value_counts()"
   ]
  },
  {
   "cell_type": "code",
   "execution_count": 59,
   "metadata": {},
   "outputs": [],
   "source": [
    "num_cols = [\"TotalVisits\",\"Total Time Spent on Website\",\"Page Views Per Visit\"]"
   ]
  },
  {
   "cell_type": "code",
   "execution_count": 60,
   "metadata": {},
   "outputs": [
    {
     "data": {
      "image/png": "[encoded data removed]",
      "text/plain": [
       "<Figure size 720x360 with 3 Axes>"
      ]
     },
     "metadata": {
      "needs_background": "light"
     },
     "output_type": "display_data"
    }
   ],
   "source": [
    "plt.figure(figsize=[10,5])\n",
    "i=1\n",
    "for col in num_cols:\n",
    "    plt.subplot(1,3,i)\n",
    "    sns.distplot(lead_score[col])\n",
    "    plt.tight_layout()\n",
    "    i = i+1"
   ]
  },
  {
   "cell_type": "code",
   "execution_count": 61,
   "metadata": {},
   "outputs": [
    {
     "data": {
      "image/png": "[encoded data removed]",
      "text/plain": [
       "<Figure size 720x360 with 3 Axes>"
      ]
     },
     "metadata": {
      "needs_background": "light"
     },
     "output_type": "display_data"
    }
   ],
   "source": [
    "plt.figure(figsize=[10,5])\n",
    "i=1\n",
    "for col in num_cols:\n",
    "    plt.subplot(1,3,i)\n",
    "    sns.boxplot(y=lead_score[col],x=lead_score[\"Converted\"])\n",
    "    plt.tight_layout()\n",
    "    i=i+1"
   ]
  },
  {
   "cell_type": "markdown",
   "metadata": {},
   "source": [
    "#### Outliers Treatment\n",
    "Outliers are treated to the Numerical variables "
   ]
  },
  {
   "cell_type": "code",
   "execution_count": 62,
   "metadata": {},
   "outputs": [
    {
     "data": {
      "text/plain": [
       "['TotalVisits', 'Total Time Spent on Website', 'Page Views Per Visit']"
      ]
     },
     "execution_count": 62,
     "metadata": {},
     "output_type": "execute_result"
    }
   ],
   "source": [
    "num_cols"
   ]
  },
  {
   "cell_type": "code",
   "execution_count": 63,
   "metadata": {},
   "outputs": [
    {
     "data": {
      "image/png": "[encoded data removed]",
      "text/plain": [
       "<Figure size 1152x576 with 3 Axes>"
      ]
     },
     "metadata": {
      "needs_background": "light"
     },
     "output_type": "display_data"
    }
   ],
   "source": [
    "i=1\n",
    "plt.figure(figsize=[16,8])\n",
    "for col in num_cols:\n",
    "    plt.subplot(2,2,i)\n",
    "    sns.boxplot(y=lead_score[col])\n",
    "    plt.title(col)\n",
    "    i=i+1"
   ]
  },
  {
   "cell_type": "markdown",
   "metadata": {},
   "source": [
    "## Dummy Variable Creation  "
   ]
  },
  {
   "cell_type": "code",
   "execution_count": 64,
   "metadata": {},
   "outputs": [
    {
     "name": "stdout",
     "output_type": "stream",
     "text": [
      "<class 'pandas.core.frame.DataFrame'>\n",
      "Int64Index: 9074 entries, 0 to 9239\n",
      "Data columns (total 22 columns):\n",
      "Lead Origin                                      9074 non-null object\n",
      "Lead Source                                      9074 non-null object\n",
      "Do Not Email                                     9074 non-null object\n",
      "Do Not Call                                      9074 non-null object\n",
      "Converted                                        9074 non-null int64\n",
      "TotalVisits                                      9074 non-null float64\n",
      "Total Time Spent on Website                      9074 non-null int64\n",
      "Page Views Per Visit                             9074 non-null float64\n",
      "Last Activity                                    9074 non-null object\n",
      "Country                                          9074 non-null object\n",
      "Specialization                                   9074 non-null object\n",
      "What is your current occupation                  9074 non-null object\n",
      "What matters most to you in choosing a course    9074 non-null object\n",
      "Search                                           9074 non-null object\n",
      "Newspaper Article                                9074 non-null object\n",
      "X Education Forums                               9074 non-null object\n",
      "Newspaper                                        9074 non-null object\n",
      "Digital Advertisement                            9074 non-null object\n",
      "Through Recommendations                          9074 non-null object\n",
      "Tags                                             9074 non-null object\n",
      "A free copy of Mastering The Interview           9074 non-null object\n",
      "Last Notable Activity                            9074 non-null object\n",
      "dtypes: float64(2), int64(2), object(18)\n",
      "memory usage: 1.9+ MB\n"
     ]
    }
   ],
   "source": [
    "lead_score.info()"
   ]
  },
  {
   "cell_type": "code",
   "execution_count": 65,
   "metadata": {},
   "outputs": [
    {
     "data": {
      "text/html": [
       "<div>\n",
       "<style scoped>\n",
       "    .dataframe tbody tr th:only-of-type {\n",
       "        vertical-align: middle;\n",
       "    }\n",
       "\n",
       "    .dataframe tbody tr th {\n",
       "        vertical-align: top;\n",
       "    }\n",
       "\n",
       "    .dataframe thead th {\n",
       "        text-align: right;\n",
       "    }\n",
       "</style>\n",
       "<table border=\"1\" class=\"dataframe\">\n",
       "  <thead>\n",
       "    <tr style=\"text-align: right;\">\n",
       "      <th></th>\n",
       "      <th>Lead Origin</th>\n",
       "      <th>Lead Source</th>\n",
       "      <th>Do Not Email</th>\n",
       "      <th>Do Not Call</th>\n",
       "      <th>Converted</th>\n",
       "      <th>TotalVisits</th>\n",
       "      <th>Total Time Spent on Website</th>\n",
       "      <th>Page Views Per Visit</th>\n",
       "      <th>Last Activity</th>\n",
       "      <th>Country</th>\n",
       "      <th>Specialization</th>\n",
       "      <th>What is your current occupation</th>\n",
       "      <th>What matters most to you in choosing a course</th>\n",
       "      <th>Search</th>\n",
       "      <th>Newspaper Article</th>\n",
       "      <th>X Education Forums</th>\n",
       "      <th>Newspaper</th>\n",
       "      <th>Digital Advertisement</th>\n",
       "      <th>Through Recommendations</th>\n",
       "      <th>Tags</th>\n",
       "      <th>A free copy of Mastering The Interview</th>\n",
       "      <th>Last Notable Activity</th>\n",
       "    </tr>\n",
       "  </thead>\n",
       "  <tbody>\n",
       "    <tr>\n",
       "      <td>0</td>\n",
       "      <td>Api</td>\n",
       "      <td>Olark chat</td>\n",
       "      <td>0</td>\n",
       "      <td>0</td>\n",
       "      <td>0</td>\n",
       "      <td>0.0</td>\n",
       "      <td>0</td>\n",
       "      <td>0.0</td>\n",
       "      <td>Page visited on website</td>\n",
       "      <td>No Details</td>\n",
       "      <td>No Details</td>\n",
       "      <td>Unemployed</td>\n",
       "      <td>Better career prospects</td>\n",
       "      <td>0</td>\n",
       "      <td>0</td>\n",
       "      <td>0</td>\n",
       "      <td>0</td>\n",
       "      <td>0</td>\n",
       "      <td>0</td>\n",
       "      <td>Interested in other courses</td>\n",
       "      <td>0</td>\n",
       "      <td>Modified</td>\n",
       "    </tr>\n",
       "    <tr>\n",
       "      <td>1</td>\n",
       "      <td>Api</td>\n",
       "      <td>Organic search</td>\n",
       "      <td>0</td>\n",
       "      <td>0</td>\n",
       "      <td>0</td>\n",
       "      <td>5.0</td>\n",
       "      <td>674</td>\n",
       "      <td>2.5</td>\n",
       "      <td>Email opened</td>\n",
       "      <td>India</td>\n",
       "      <td>No Details</td>\n",
       "      <td>Unemployed</td>\n",
       "      <td>Better career prospects</td>\n",
       "      <td>0</td>\n",
       "      <td>0</td>\n",
       "      <td>0</td>\n",
       "      <td>0</td>\n",
       "      <td>0</td>\n",
       "      <td>0</td>\n",
       "      <td>Ringing</td>\n",
       "      <td>0</td>\n",
       "      <td>Email opened</td>\n",
       "    </tr>\n",
       "    <tr>\n",
       "      <td>2</td>\n",
       "      <td>Landing page submission</td>\n",
       "      <td>Direct traffic</td>\n",
       "      <td>0</td>\n",
       "      <td>0</td>\n",
       "      <td>1</td>\n",
       "      <td>2.0</td>\n",
       "      <td>1532</td>\n",
       "      <td>2.0</td>\n",
       "      <td>Email opened</td>\n",
       "      <td>India</td>\n",
       "      <td>Business administration</td>\n",
       "      <td>Student</td>\n",
       "      <td>Better career prospects</td>\n",
       "      <td>0</td>\n",
       "      <td>0</td>\n",
       "      <td>0</td>\n",
       "      <td>0</td>\n",
       "      <td>0</td>\n",
       "      <td>0</td>\n",
       "      <td>Will revert after reading the email</td>\n",
       "      <td>1</td>\n",
       "      <td>Email opened</td>\n",
       "    </tr>\n",
       "    <tr>\n",
       "      <td>3</td>\n",
       "      <td>Landing page submission</td>\n",
       "      <td>Direct traffic</td>\n",
       "      <td>0</td>\n",
       "      <td>0</td>\n",
       "      <td>0</td>\n",
       "      <td>1.0</td>\n",
       "      <td>305</td>\n",
       "      <td>1.0</td>\n",
       "      <td>Unreachable</td>\n",
       "      <td>India</td>\n",
       "      <td>Media and advertising</td>\n",
       "      <td>Unemployed</td>\n",
       "      <td>Better career prospects</td>\n",
       "      <td>0</td>\n",
       "      <td>0</td>\n",
       "      <td>0</td>\n",
       "      <td>0</td>\n",
       "      <td>0</td>\n",
       "      <td>0</td>\n",
       "      <td>Ringing</td>\n",
       "      <td>0</td>\n",
       "      <td>Modified</td>\n",
       "    </tr>\n",
       "    <tr>\n",
       "      <td>4</td>\n",
       "      <td>Landing page submission</td>\n",
       "      <td>Google</td>\n",
       "      <td>0</td>\n",
       "      <td>0</td>\n",
       "      <td>1</td>\n",
       "      <td>2.0</td>\n",
       "      <td>1428</td>\n",
       "      <td>1.0</td>\n",
       "      <td>Converted to lead</td>\n",
       "      <td>India</td>\n",
       "      <td>No Details</td>\n",
       "      <td>Unemployed</td>\n",
       "      <td>Better career prospects</td>\n",
       "      <td>0</td>\n",
       "      <td>0</td>\n",
       "      <td>0</td>\n",
       "      <td>0</td>\n",
       "      <td>0</td>\n",
       "      <td>0</td>\n",
       "      <td>Will revert after reading the email</td>\n",
       "      <td>0</td>\n",
       "      <td>Modified</td>\n",
       "    </tr>\n",
       "  </tbody>\n",
       "</table>\n",
       "</div>"
      ],
      "text/plain": [
       "               Lead Origin     Lead Source  Do Not Email  Do Not Call  Converted  TotalVisits  Total Time Spent on Website  Page Views Per Visit            Last Activity     Country           Specialization What is your current occupation What matters most to you in choosing a course  Search  Newspaper Article  X Education Forums  Newspaper  Digital Advertisement  Through Recommendations                                 Tags  A free copy of Mastering The Interview Last Notable Activity\n",
       "0                      Api      Olark chat             0            0          0          0.0                            0                   0.0  Page visited on website  No Details               No Details                      Unemployed                       Better career prospects       0                  0                   0          0                      0                        0          Interested in other courses                                       0              Modified\n",
       "1                      Api  Organic search             0            0          0          5.0                          674                   2.5             Email opened       India               No Details                      Unemployed                       Better career prospects       0                  0                   0          0                      0                        0                              Ringing                                       0          Email opened\n",
       "2  Landing page submission  Direct traffic             0            0          1          2.0                         1532                   2.0             Email opened       India  Business administration                         Student                       Better career prospects       0                  0                   0          0                      0                        0  Will revert after reading the email                                       1          Email opened\n",
       "3  Landing page submission  Direct traffic             0            0          0          1.0                          305                   1.0              Unreachable       India    Media and advertising                      Unemployed                       Better career prospects       0                  0                   0          0                      0                        0                              Ringing                                       0              Modified\n",
       "4  Landing page submission          Google             0            0          1          2.0                         1428                   1.0        Converted to lead       India               No Details                      Unemployed                       Better career prospects       0                  0                   0          0                      0                        0  Will revert after reading the email                                       0              Modified"
      ]
     },
     "execution_count": 65,
     "metadata": {},
     "output_type": "execute_result"
    }
   ],
   "source": [
    "yes_no_list=['Search','Do Not Email', 'Do Not Call', 'Newspaper Article', 'X Education Forums', 'Newspaper', \n",
    "            'Digital Advertisement','Through Recommendations','A free copy of Mastering The Interview']\n",
    "def binary(x):\n",
    "    if x=='Yes':\n",
    "        return 1\n",
    "    else:\n",
    "         return 0\n",
    "for i in yes_no_list:\n",
    "    lead_score[i]=lead_score[i].apply(binary)\n",
    "lead_score.head()"
   ]
  },
  {
   "cell_type": "code",
   "execution_count": 66,
   "metadata": {},
   "outputs": [],
   "source": [
    "lead_new=lead_score.copy()"
   ]
  },
  {
   "cell_type": "code",
   "execution_count": 67,
   "metadata": {},
   "outputs": [
    {
     "data": {
      "text/plain": [
       "['Lead Origin',\n",
       " 'Lead Source',\n",
       " 'Last Activity',\n",
       " 'Country',\n",
       " 'Specialization',\n",
       " 'What is your current occupation',\n",
       " 'What matters most to you in choosing a course',\n",
       " 'Tags',\n",
       " 'Last Notable Activity']"
      ]
     },
     "execution_count": 67,
     "metadata": {},
     "output_type": "execute_result"
    }
   ],
   "source": [
    "obj_col_list=[]\n",
    "for i in lead_score.columns:\n",
    "    if lead_score[i].dtype=='O':\n",
    "        obj_col_list.append(i)\n",
    "obj_col_list"
   ]
  },
  {
   "cell_type": "code",
   "execution_count": 68,
   "metadata": {
    "scrolled": false
   },
   "outputs": [
    {
     "name": "stdout",
     "output_type": "stream",
     "text": [
      "Landing page submission    4885\n",
      "Api                        3578\n",
      "Lead add form               581\n",
      "Lead import                  30\n",
      "Name: Lead Origin, dtype: int64\n",
      "-----------------------------------\n",
      "Google               2885\n",
      "Direct traffic       2548\n",
      "Olark chat           1755\n",
      "Organic search       1156\n",
      "Reference             444\n",
      "Welingak website      129\n",
      "Referral sites        125\n",
      "Facebook               31\n",
      "Pay per click ads       1\n",
      "Name: Lead Source, dtype: int64\n",
      "-----------------------------------\n",
      "Email opened                 3432\n",
      "Sms sent                     2716\n",
      "Olark chat conversation       972\n",
      "Page visited on website       640\n",
      "Converted to lead             428\n",
      "Email bounced                 312\n",
      "Email link clicked            267\n",
      "Form submitted on website     116\n",
      "Unreachable                    90\n",
      "Unsubscribed                   59\n",
      "Others                         42\n",
      "Name: Last Activity, dtype: int64\n",
      "-----------------------------------\n",
      "India            6491\n",
      "No Details       2296\n",
      "Outside India     287\n",
      "Name: Country, dtype: int64\n",
      "-----------------------------------\n",
      "No Details                           3282\n",
      "Finance management                    959\n",
      "Human resource management             837\n",
      "Marketing management                  823\n",
      "Operations management                 499\n",
      "Business administration               399\n",
      "It projects management                366\n",
      "Supply chain management               346\n",
      "Banking, investment and insurance     335\n",
      "Media and advertising                 202\n",
      "Travel and tourism                    202\n",
      "International business                176\n",
      "Healthcare management                 156\n",
      "Hospitality management                111\n",
      "E-commerce                            111\n",
      "Retail management                     100\n",
      "Rural and agribusiness                 73\n",
      "E-business                             57\n",
      "Services excellence                    40\n",
      "Name: Specialization, dtype: int64\n",
      "-----------------------------------\n",
      "Unemployed              5476\n",
      "No Details              2683\n",
      "Working professional     677\n",
      "Student                  206\n",
      "Other                     15\n",
      "Housewife                  9\n",
      "Businessman                8\n",
      "Name: What is your current occupation, dtype: int64\n",
      "-----------------------------------\n",
      "Better career prospects      6370\n",
      "No Details                   2702\n",
      "Flexibility & convenience       1\n",
      "Other                           1\n",
      "Name: What matters most to you in choosing a course, dtype: int64\n",
      "-----------------------------------\n",
      "No Details                             3327\n",
      "Will revert after reading the email    2016\n",
      "Ringing                                1187\n",
      "Interested in other courses             509\n",
      "Already a student                       465\n",
      "Closed by horizzon                      301\n",
      "Switched off                            240\n",
      "Busy                                    185\n",
      "Lost to eins                            172\n",
      "Not doing further education             145\n",
      "Interested  in full time mba            116\n",
      "Graduation in progress                  111\n",
      "Invalid number                           83\n",
      "Diploma holder (not eligible)            63\n",
      "Wrong number given                       47\n",
      "Others                                   37\n",
      "Opp hangup                               33\n",
      "Number not provided                      25\n",
      "In touch with eins                       12\n",
      "Name: Tags, dtype: int64\n",
      "-----------------------------------\n",
      "Modified                   3267\n",
      "Email opened               2823\n",
      "Sms sent                   2152\n",
      "Page visited on website     318\n",
      "Olark chat conversation     183\n",
      "Email link clicked          173\n",
      "Email bounced                60\n",
      "Unsubscribed                 45\n",
      "Unreachable                  32\n",
      "Others                       21\n",
      "Name: Last Notable Activity, dtype: int64\n",
      "-----------------------------------\n"
     ]
    }
   ],
   "source": [
    "for i in obj_col_list:\n",
    "    print(lead_score[i].value_counts())\n",
    "    print('-----------------------------------')"
   ]
  },
  {
   "cell_type": "code",
   "execution_count": 69,
   "metadata": {},
   "outputs": [],
   "source": [
    "lo=pd.get_dummies(lead_score['Specialization'],prefix='Specialization')\n",
    "lo=lo.drop(['Specialization_No Details'],axis=1)\n",
    "lead_score=pd.concat([lead_score,lo],axis=1)"
   ]
  },
  {
   "cell_type": "code",
   "execution_count": 70,
   "metadata": {},
   "outputs": [],
   "source": [
    "lo=pd.get_dummies(lead_score['What is your current occupation'],prefix='occupation')\n",
    "lo=lo.drop(['occupation_No Details'],axis=1)\n",
    "lead_score=pd.concat([lead_score,lo],axis=1)"
   ]
  },
  {
   "cell_type": "code",
   "execution_count": 71,
   "metadata": {},
   "outputs": [],
   "source": [
    "lo=pd.get_dummies(lead_score['What matters most to you in choosing a course'],prefix='selection')\n",
    "lo=lo.drop(['selection_No Details'],axis=1)\n",
    "lead_score=pd.concat([lead_score,lo],axis=1)"
   ]
  },
  {
   "cell_type": "code",
   "execution_count": 72,
   "metadata": {},
   "outputs": [],
   "source": [
    "lo=pd.get_dummies(lead_score['Tags'],prefix='Tags')\n",
    "lo=lo.drop(['Tags_No Details'],axis=1)\n",
    "lead_score=pd.concat([lead_score,lo],axis=1)"
   ]
  },
  {
   "cell_type": "code",
   "execution_count": 73,
   "metadata": {},
   "outputs": [],
   "source": [
    "lo=pd.get_dummies(lead_score['Lead Origin'],prefix='Lead Origin',drop_first=True)\n",
    "lead_score=pd.concat([lead_score,lo],axis=1)"
   ]
  },
  {
   "cell_type": "code",
   "execution_count": 74,
   "metadata": {},
   "outputs": [],
   "source": [
    "lo=pd.get_dummies(lead_score['Lead Source'],prefix='Lead Source',drop_first=True)\n",
    "lead_score=pd.concat([lead_score,lo],axis=1)"
   ]
  },
  {
   "cell_type": "code",
   "execution_count": 75,
   "metadata": {},
   "outputs": [],
   "source": [
    "lo=pd.get_dummies(lead_score['Country'],prefix='Country',drop_first=True)\n",
    "lead_score=pd.concat([lead_score,lo],axis=1)"
   ]
  },
  {
   "cell_type": "code",
   "execution_count": 76,
   "metadata": {},
   "outputs": [],
   "source": [
    "lo=pd.get_dummies(lead_score['Last Notable Activity'],prefix='Last Notable Activity',drop_first=True)\n",
    "lead_score=pd.concat([lead_score,lo],axis=1)"
   ]
  },
  {
   "cell_type": "code",
   "execution_count": 77,
   "metadata": {},
   "outputs": [],
   "source": [
    "lo=pd.get_dummies(lead_score['Last Activity'],prefix='Last Activity',drop_first=True)\n",
    "lead_score=pd.concat([lead_score,lo],axis=1)"
   ]
  },
  {
   "cell_type": "code",
   "execution_count": 78,
   "metadata": {
    "scrolled": false
   },
   "outputs": [
    {
     "data": {
      "text/html": [
       "<div>\n",
       "<style scoped>\n",
       "    .dataframe tbody tr th:only-of-type {\n",
       "        vertical-align: middle;\n",
       "    }\n",
       "\n",
       "    .dataframe tbody tr th {\n",
       "        vertical-align: top;\n",
       "    }\n",
       "\n",
       "    .dataframe thead th {\n",
       "        text-align: right;\n",
       "    }\n",
       "</style>\n",
       "<table border=\"1\" class=\"dataframe\">\n",
       "  <thead>\n",
       "    <tr style=\"text-align: right;\">\n",
       "      <th></th>\n",
       "      <th>Lead Origin</th>\n",
       "      <th>Lead Source</th>\n",
       "      <th>Do Not Email</th>\n",
       "      <th>Do Not Call</th>\n",
       "      <th>Converted</th>\n",
       "      <th>TotalVisits</th>\n",
       "      <th>Total Time Spent on Website</th>\n",
       "      <th>Page Views Per Visit</th>\n",
       "      <th>Last Activity</th>\n",
       "      <th>Country</th>\n",
       "      <th>Specialization</th>\n",
       "      <th>What is your current occupation</th>\n",
       "      <th>What matters most to you in choosing a course</th>\n",
       "      <th>Search</th>\n",
       "      <th>Newspaper Article</th>\n",
       "      <th>X Education Forums</th>\n",
       "      <th>Newspaper</th>\n",
       "      <th>Digital Advertisement</th>\n",
       "      <th>Through Recommendations</th>\n",
       "      <th>Tags</th>\n",
       "      <th>A free copy of Mastering The Interview</th>\n",
       "      <th>Last Notable Activity</th>\n",
       "      <th>Specialization_Banking, investment and insurance</th>\n",
       "      <th>Specialization_Business administration</th>\n",
       "      <th>Specialization_E-business</th>\n",
       "      <th>Specialization_E-commerce</th>\n",
       "      <th>Specialization_Finance management</th>\n",
       "      <th>Specialization_Healthcare management</th>\n",
       "      <th>Specialization_Hospitality management</th>\n",
       "      <th>Specialization_Human resource management</th>\n",
       "      <th>Specialization_International business</th>\n",
       "      <th>Specialization_It projects management</th>\n",
       "      <th>Specialization_Marketing management</th>\n",
       "      <th>Specialization_Media and advertising</th>\n",
       "      <th>Specialization_Operations management</th>\n",
       "      <th>Specialization_Retail management</th>\n",
       "      <th>Specialization_Rural and agribusiness</th>\n",
       "      <th>Specialization_Services excellence</th>\n",
       "      <th>Specialization_Supply chain management</th>\n",
       "      <th>Specialization_Travel and tourism</th>\n",
       "      <th>occupation_Businessman</th>\n",
       "      <th>occupation_Housewife</th>\n",
       "      <th>occupation_Other</th>\n",
       "      <th>occupation_Student</th>\n",
       "      <th>occupation_Unemployed</th>\n",
       "      <th>occupation_Working professional</th>\n",
       "      <th>selection_Better career prospects</th>\n",
       "      <th>selection_Flexibility &amp; convenience</th>\n",
       "      <th>selection_Other</th>\n",
       "      <th>Tags_Already a student</th>\n",
       "      <th>Tags_Busy</th>\n",
       "      <th>Tags_Closed by horizzon</th>\n",
       "      <th>Tags_Diploma holder (not eligible)</th>\n",
       "      <th>Tags_Graduation in progress</th>\n",
       "      <th>Tags_In touch with eins</th>\n",
       "      <th>Tags_Interested  in full time mba</th>\n",
       "      <th>Tags_Interested in other courses</th>\n",
       "      <th>Tags_Invalid number</th>\n",
       "      <th>Tags_Lost to eins</th>\n",
       "      <th>Tags_Not doing further education</th>\n",
       "      <th>Tags_Number not provided</th>\n",
       "      <th>Tags_Opp hangup</th>\n",
       "      <th>Tags_Others</th>\n",
       "      <th>Tags_Ringing</th>\n",
       "      <th>Tags_Switched off</th>\n",
       "      <th>Tags_Will revert after reading the email</th>\n",
       "      <th>Tags_Wrong number given</th>\n",
       "      <th>Lead Origin_Landing page submission</th>\n",
       "      <th>Lead Origin_Lead add form</th>\n",
       "      <th>Lead Origin_Lead import</th>\n",
       "      <th>Lead Source_Facebook</th>\n",
       "      <th>Lead Source_Google</th>\n",
       "      <th>Lead Source_Olark chat</th>\n",
       "      <th>Lead Source_Organic search</th>\n",
       "      <th>Lead Source_Pay per click ads</th>\n",
       "      <th>Lead Source_Reference</th>\n",
       "      <th>Lead Source_Referral sites</th>\n",
       "      <th>Lead Source_Welingak website</th>\n",
       "      <th>Country_No Details</th>\n",
       "      <th>Country_Outside India</th>\n",
       "      <th>Last Notable Activity_Email link clicked</th>\n",
       "      <th>Last Notable Activity_Email opened</th>\n",
       "      <th>Last Notable Activity_Modified</th>\n",
       "      <th>Last Notable Activity_Olark chat conversation</th>\n",
       "      <th>Last Notable Activity_Others</th>\n",
       "      <th>Last Notable Activity_Page visited on website</th>\n",
       "      <th>Last Notable Activity_Sms sent</th>\n",
       "      <th>Last Notable Activity_Unreachable</th>\n",
       "      <th>Last Notable Activity_Unsubscribed</th>\n",
       "      <th>Last Activity_Email bounced</th>\n",
       "      <th>Last Activity_Email link clicked</th>\n",
       "      <th>Last Activity_Email opened</th>\n",
       "      <th>Last Activity_Form submitted on website</th>\n",
       "      <th>Last Activity_Olark chat conversation</th>\n",
       "      <th>Last Activity_Others</th>\n",
       "      <th>Last Activity_Page visited on website</th>\n",
       "      <th>Last Activity_Sms sent</th>\n",
       "      <th>Last Activity_Unreachable</th>\n",
       "      <th>Last Activity_Unsubscribed</th>\n",
       "    </tr>\n",
       "  </thead>\n",
       "  <tbody>\n",
       "    <tr>\n",
       "      <td>0</td>\n",
       "      <td>Api</td>\n",
       "      <td>Olark chat</td>\n",
       "      <td>0</td>\n",
       "      <td>0</td>\n",
       "      <td>0</td>\n",
       "      <td>0.0</td>\n",
       "      <td>0</td>\n",
       "      <td>0.0</td>\n",
       "      <td>Page visited on website</td>\n",
       "      <td>No Details</td>\n",
       "      <td>No Details</td>\n",
       "      <td>Unemployed</td>\n",
       "      <td>Better career prospects</td>\n",
       "      <td>0</td>\n",
       "      <td>0</td>\n",
       "      <td>0</td>\n",
       "      <td>0</td>\n",
       "      <td>0</td>\n",
       "      <td>0</td>\n",
       "      <td>Interested in other courses</td>\n",
       "      <td>0</td>\n",
       "      <td>Modified</td>\n",
       "      <td>0</td>\n",
       "      <td>0</td>\n",
       "      <td>0</td>\n",
       "      <td>0</td>\n",
       "      <td>0</td>\n",
       "      <td>0</td>\n",
       "      <td>0</td>\n",
       "      <td>0</td>\n",
       "      <td>0</td>\n",
       "      <td>0</td>\n",
       "      <td>0</td>\n",
       "      <td>0</td>\n",
       "      <td>0</td>\n",
       "      <td>0</td>\n",
       "      <td>0</td>\n",
       "      <td>0</td>\n",
       "      <td>0</td>\n",
       "      <td>0</td>\n",
       "      <td>0</td>\n",
       "      <td>0</td>\n",
       "      <td>0</td>\n",
       "      <td>0</td>\n",
       "      <td>1</td>\n",
       "      <td>0</td>\n",
       "      <td>1</td>\n",
       "      <td>0</td>\n",
       "      <td>0</td>\n",
       "      <td>0</td>\n",
       "      <td>0</td>\n",
       "      <td>0</td>\n",
       "      <td>0</td>\n",
       "      <td>0</td>\n",
       "      <td>0</td>\n",
       "      <td>0</td>\n",
       "      <td>1</td>\n",
       "      <td>0</td>\n",
       "      <td>0</td>\n",
       "      <td>0</td>\n",
       "      <td>0</td>\n",
       "      <td>0</td>\n",
       "      <td>0</td>\n",
       "      <td>0</td>\n",
       "      <td>0</td>\n",
       "      <td>0</td>\n",
       "      <td>0</td>\n",
       "      <td>0</td>\n",
       "      <td>0</td>\n",
       "      <td>0</td>\n",
       "      <td>0</td>\n",
       "      <td>0</td>\n",
       "      <td>1</td>\n",
       "      <td>0</td>\n",
       "      <td>0</td>\n",
       "      <td>0</td>\n",
       "      <td>0</td>\n",
       "      <td>0</td>\n",
       "      <td>1</td>\n",
       "      <td>0</td>\n",
       "      <td>0</td>\n",
       "      <td>0</td>\n",
       "      <td>1</td>\n",
       "      <td>0</td>\n",
       "      <td>0</td>\n",
       "      <td>0</td>\n",
       "      <td>0</td>\n",
       "      <td>0</td>\n",
       "      <td>0</td>\n",
       "      <td>0</td>\n",
       "      <td>0</td>\n",
       "      <td>0</td>\n",
       "      <td>0</td>\n",
       "      <td>0</td>\n",
       "      <td>0</td>\n",
       "      <td>1</td>\n",
       "      <td>0</td>\n",
       "      <td>0</td>\n",
       "      <td>0</td>\n",
       "    </tr>\n",
       "    <tr>\n",
       "      <td>1</td>\n",
       "      <td>Api</td>\n",
       "      <td>Organic search</td>\n",
       "      <td>0</td>\n",
       "      <td>0</td>\n",
       "      <td>0</td>\n",
       "      <td>5.0</td>\n",
       "      <td>674</td>\n",
       "      <td>2.5</td>\n",
       "      <td>Email opened</td>\n",
       "      <td>India</td>\n",
       "      <td>No Details</td>\n",
       "      <td>Unemployed</td>\n",
       "      <td>Better career prospects</td>\n",
       "      <td>0</td>\n",
       "      <td>0</td>\n",
       "      <td>0</td>\n",
       "      <td>0</td>\n",
       "      <td>0</td>\n",
       "      <td>0</td>\n",
       "      <td>Ringing</td>\n",
       "      <td>0</td>\n",
       "      <td>Email opened</td>\n",
       "      <td>0</td>\n",
       "      <td>0</td>\n",
       "      <td>0</td>\n",
       "      <td>0</td>\n",
       "      <td>0</td>\n",
       "      <td>0</td>\n",
       "      <td>0</td>\n",
       "      <td>0</td>\n",
       "      <td>0</td>\n",
       "      <td>0</td>\n",
       "      <td>0</td>\n",
       "      <td>0</td>\n",
       "      <td>0</td>\n",
       "      <td>0</td>\n",
       "      <td>0</td>\n",
       "      <td>0</td>\n",
       "      <td>0</td>\n",
       "      <td>0</td>\n",
       "      <td>0</td>\n",
       "      <td>0</td>\n",
       "      <td>0</td>\n",
       "      <td>0</td>\n",
       "      <td>1</td>\n",
       "      <td>0</td>\n",
       "      <td>1</td>\n",
       "      <td>0</td>\n",
       "      <td>0</td>\n",
       "      <td>0</td>\n",
       "      <td>0</td>\n",
       "      <td>0</td>\n",
       "      <td>0</td>\n",
       "      <td>0</td>\n",
       "      <td>0</td>\n",
       "      <td>0</td>\n",
       "      <td>0</td>\n",
       "      <td>0</td>\n",
       "      <td>0</td>\n",
       "      <td>0</td>\n",
       "      <td>0</td>\n",
       "      <td>0</td>\n",
       "      <td>0</td>\n",
       "      <td>1</td>\n",
       "      <td>0</td>\n",
       "      <td>0</td>\n",
       "      <td>0</td>\n",
       "      <td>0</td>\n",
       "      <td>0</td>\n",
       "      <td>0</td>\n",
       "      <td>0</td>\n",
       "      <td>0</td>\n",
       "      <td>0</td>\n",
       "      <td>1</td>\n",
       "      <td>0</td>\n",
       "      <td>0</td>\n",
       "      <td>0</td>\n",
       "      <td>0</td>\n",
       "      <td>0</td>\n",
       "      <td>0</td>\n",
       "      <td>0</td>\n",
       "      <td>1</td>\n",
       "      <td>0</td>\n",
       "      <td>0</td>\n",
       "      <td>0</td>\n",
       "      <td>0</td>\n",
       "      <td>0</td>\n",
       "      <td>0</td>\n",
       "      <td>0</td>\n",
       "      <td>0</td>\n",
       "      <td>0</td>\n",
       "      <td>1</td>\n",
       "      <td>0</td>\n",
       "      <td>0</td>\n",
       "      <td>0</td>\n",
       "      <td>0</td>\n",
       "      <td>0</td>\n",
       "      <td>0</td>\n",
       "      <td>0</td>\n",
       "    </tr>\n",
       "    <tr>\n",
       "      <td>2</td>\n",
       "      <td>Landing page submission</td>\n",
       "      <td>Direct traffic</td>\n",
       "      <td>0</td>\n",
       "      <td>0</td>\n",
       "      <td>1</td>\n",
       "      <td>2.0</td>\n",
       "      <td>1532</td>\n",
       "      <td>2.0</td>\n",
       "      <td>Email opened</td>\n",
       "      <td>India</td>\n",
       "      <td>Business administration</td>\n",
       "      <td>Student</td>\n",
       "      <td>Better career prospects</td>\n",
       "      <td>0</td>\n",
       "      <td>0</td>\n",
       "      <td>0</td>\n",
       "      <td>0</td>\n",
       "      <td>0</td>\n",
       "      <td>0</td>\n",
       "      <td>Will revert after reading the email</td>\n",
       "      <td>1</td>\n",
       "      <td>Email opened</td>\n",
       "      <td>0</td>\n",
       "      <td>1</td>\n",
       "      <td>0</td>\n",
       "      <td>0</td>\n",
       "      <td>0</td>\n",
       "      <td>0</td>\n",
       "      <td>0</td>\n",
       "      <td>0</td>\n",
       "      <td>0</td>\n",
       "      <td>0</td>\n",
       "      <td>0</td>\n",
       "      <td>0</td>\n",
       "      <td>0</td>\n",
       "      <td>0</td>\n",
       "      <td>0</td>\n",
       "      <td>0</td>\n",
       "      <td>0</td>\n",
       "      <td>0</td>\n",
       "      <td>0</td>\n",
       "      <td>0</td>\n",
       "      <td>0</td>\n",
       "      <td>1</td>\n",
       "      <td>0</td>\n",
       "      <td>0</td>\n",
       "      <td>1</td>\n",
       "      <td>0</td>\n",
       "      <td>0</td>\n",
       "      <td>0</td>\n",
       "      <td>0</td>\n",
       "      <td>0</td>\n",
       "      <td>0</td>\n",
       "      <td>0</td>\n",
       "      <td>0</td>\n",
       "      <td>0</td>\n",
       "      <td>0</td>\n",
       "      <td>0</td>\n",
       "      <td>0</td>\n",
       "      <td>0</td>\n",
       "      <td>0</td>\n",
       "      <td>0</td>\n",
       "      <td>0</td>\n",
       "      <td>0</td>\n",
       "      <td>0</td>\n",
       "      <td>1</td>\n",
       "      <td>0</td>\n",
       "      <td>1</td>\n",
       "      <td>0</td>\n",
       "      <td>0</td>\n",
       "      <td>0</td>\n",
       "      <td>0</td>\n",
       "      <td>0</td>\n",
       "      <td>0</td>\n",
       "      <td>0</td>\n",
       "      <td>0</td>\n",
       "      <td>0</td>\n",
       "      <td>0</td>\n",
       "      <td>0</td>\n",
       "      <td>0</td>\n",
       "      <td>0</td>\n",
       "      <td>1</td>\n",
       "      <td>0</td>\n",
       "      <td>0</td>\n",
       "      <td>0</td>\n",
       "      <td>0</td>\n",
       "      <td>0</td>\n",
       "      <td>0</td>\n",
       "      <td>0</td>\n",
       "      <td>0</td>\n",
       "      <td>0</td>\n",
       "      <td>1</td>\n",
       "      <td>0</td>\n",
       "      <td>0</td>\n",
       "      <td>0</td>\n",
       "      <td>0</td>\n",
       "      <td>0</td>\n",
       "      <td>0</td>\n",
       "      <td>0</td>\n",
       "    </tr>\n",
       "    <tr>\n",
       "      <td>3</td>\n",
       "      <td>Landing page submission</td>\n",
       "      <td>Direct traffic</td>\n",
       "      <td>0</td>\n",
       "      <td>0</td>\n",
       "      <td>0</td>\n",
       "      <td>1.0</td>\n",
       "      <td>305</td>\n",
       "      <td>1.0</td>\n",
       "      <td>Unreachable</td>\n",
       "      <td>India</td>\n",
       "      <td>Media and advertising</td>\n",
       "      <td>Unemployed</td>\n",
       "      <td>Better career prospects</td>\n",
       "      <td>0</td>\n",
       "      <td>0</td>\n",
       "      <td>0</td>\n",
       "      <td>0</td>\n",
       "      <td>0</td>\n",
       "      <td>0</td>\n",
       "      <td>Ringing</td>\n",
       "      <td>0</td>\n",
       "      <td>Modified</td>\n",
       "      <td>0</td>\n",
       "      <td>0</td>\n",
       "      <td>0</td>\n",
       "      <td>0</td>\n",
       "      <td>0</td>\n",
       "      <td>0</td>\n",
       "      <td>0</td>\n",
       "      <td>0</td>\n",
       "      <td>0</td>\n",
       "      <td>0</td>\n",
       "      <td>0</td>\n",
       "      <td>1</td>\n",
       "      <td>0</td>\n",
       "      <td>0</td>\n",
       "      <td>0</td>\n",
       "      <td>0</td>\n",
       "      <td>0</td>\n",
       "      <td>0</td>\n",
       "      <td>0</td>\n",
       "      <td>0</td>\n",
       "      <td>0</td>\n",
       "      <td>0</td>\n",
       "      <td>1</td>\n",
       "      <td>0</td>\n",
       "      <td>1</td>\n",
       "      <td>0</td>\n",
       "      <td>0</td>\n",
       "      <td>0</td>\n",
       "      <td>0</td>\n",
       "      <td>0</td>\n",
       "      <td>0</td>\n",
       "      <td>0</td>\n",
       "      <td>0</td>\n",
       "      <td>0</td>\n",
       "      <td>0</td>\n",
       "      <td>0</td>\n",
       "      <td>0</td>\n",
       "      <td>0</td>\n",
       "      <td>0</td>\n",
       "      <td>0</td>\n",
       "      <td>0</td>\n",
       "      <td>1</td>\n",
       "      <td>0</td>\n",
       "      <td>0</td>\n",
       "      <td>0</td>\n",
       "      <td>1</td>\n",
       "      <td>0</td>\n",
       "      <td>0</td>\n",
       "      <td>0</td>\n",
       "      <td>0</td>\n",
       "      <td>0</td>\n",
       "      <td>0</td>\n",
       "      <td>0</td>\n",
       "      <td>0</td>\n",
       "      <td>0</td>\n",
       "      <td>0</td>\n",
       "      <td>0</td>\n",
       "      <td>0</td>\n",
       "      <td>0</td>\n",
       "      <td>0</td>\n",
       "      <td>1</td>\n",
       "      <td>0</td>\n",
       "      <td>0</td>\n",
       "      <td>0</td>\n",
       "      <td>0</td>\n",
       "      <td>0</td>\n",
       "      <td>0</td>\n",
       "      <td>0</td>\n",
       "      <td>0</td>\n",
       "      <td>0</td>\n",
       "      <td>0</td>\n",
       "      <td>0</td>\n",
       "      <td>0</td>\n",
       "      <td>0</td>\n",
       "      <td>0</td>\n",
       "      <td>1</td>\n",
       "      <td>0</td>\n",
       "    </tr>\n",
       "    <tr>\n",
       "      <td>4</td>\n",
       "      <td>Landing page submission</td>\n",
       "      <td>Google</td>\n",
       "      <td>0</td>\n",
       "      <td>0</td>\n",
       "      <td>1</td>\n",
       "      <td>2.0</td>\n",
       "      <td>1428</td>\n",
       "      <td>1.0</td>\n",
       "      <td>Converted to lead</td>\n",
       "      <td>India</td>\n",
       "      <td>No Details</td>\n",
       "      <td>Unemployed</td>\n",
       "      <td>Better career prospects</td>\n",
       "      <td>0</td>\n",
       "      <td>0</td>\n",
       "      <td>0</td>\n",
       "      <td>0</td>\n",
       "      <td>0</td>\n",
       "      <td>0</td>\n",
       "      <td>Will revert after reading the email</td>\n",
       "      <td>0</td>\n",
       "      <td>Modified</td>\n",
       "      <td>0</td>\n",
       "      <td>0</td>\n",
       "      <td>0</td>\n",
       "      <td>0</td>\n",
       "      <td>0</td>\n",
       "      <td>0</td>\n",
       "      <td>0</td>\n",
       "      <td>0</td>\n",
       "      <td>0</td>\n",
       "      <td>0</td>\n",
       "      <td>0</td>\n",
       "      <td>0</td>\n",
       "      <td>0</td>\n",
       "      <td>0</td>\n",
       "      <td>0</td>\n",
       "      <td>0</td>\n",
       "      <td>0</td>\n",
       "      <td>0</td>\n",
       "      <td>0</td>\n",
       "      <td>0</td>\n",
       "      <td>0</td>\n",
       "      <td>0</td>\n",
       "      <td>1</td>\n",
       "      <td>0</td>\n",
       "      <td>1</td>\n",
       "      <td>0</td>\n",
       "      <td>0</td>\n",
       "      <td>0</td>\n",
       "      <td>0</td>\n",
       "      <td>0</td>\n",
       "      <td>0</td>\n",
       "      <td>0</td>\n",
       "      <td>0</td>\n",
       "      <td>0</td>\n",
       "      <td>0</td>\n",
       "      <td>0</td>\n",
       "      <td>0</td>\n",
       "      <td>0</td>\n",
       "      <td>0</td>\n",
       "      <td>0</td>\n",
       "      <td>0</td>\n",
       "      <td>0</td>\n",
       "      <td>0</td>\n",
       "      <td>1</td>\n",
       "      <td>0</td>\n",
       "      <td>1</td>\n",
       "      <td>0</td>\n",
       "      <td>0</td>\n",
       "      <td>0</td>\n",
       "      <td>1</td>\n",
       "      <td>0</td>\n",
       "      <td>0</td>\n",
       "      <td>0</td>\n",
       "      <td>0</td>\n",
       "      <td>0</td>\n",
       "      <td>0</td>\n",
       "      <td>0</td>\n",
       "      <td>0</td>\n",
       "      <td>0</td>\n",
       "      <td>0</td>\n",
       "      <td>1</td>\n",
       "      <td>0</td>\n",
       "      <td>0</td>\n",
       "      <td>0</td>\n",
       "      <td>0</td>\n",
       "      <td>0</td>\n",
       "      <td>0</td>\n",
       "      <td>0</td>\n",
       "      <td>0</td>\n",
       "      <td>0</td>\n",
       "      <td>0</td>\n",
       "      <td>0</td>\n",
       "      <td>0</td>\n",
       "      <td>0</td>\n",
       "      <td>0</td>\n",
       "      <td>0</td>\n",
       "      <td>0</td>\n",
       "    </tr>\n",
       "  </tbody>\n",
       "</table>\n",
       "</div>"
      ],
      "text/plain": [
       "               Lead Origin     Lead Source  Do Not Email  Do Not Call  Converted  TotalVisits  Total Time Spent on Website  Page Views Per Visit            Last Activity     Country           Specialization What is your current occupation What matters most to you in choosing a course  Search  Newspaper Article  X Education Forums  Newspaper  Digital Advertisement  Through Recommendations                                 Tags  A free copy of Mastering The Interview Last Notable Activity  Specialization_Banking, investment and insurance  Specialization_Business administration  Specialization_E-business  Specialization_E-commerce  Specialization_Finance management  Specialization_Healthcare management  Specialization_Hospitality management  Specialization_Human resource management  Specialization_International business  Specialization_It projects management  Specialization_Marketing management  Specialization_Media and advertising  Specialization_Operations management  \\\n",
       "0                      Api      Olark chat             0            0          0          0.0                            0                   0.0  Page visited on website  No Details               No Details                      Unemployed                       Better career prospects       0                  0                   0          0                      0                        0          Interested in other courses                                       0              Modified                                                 0                                       0                          0                          0                                  0                                     0                                      0                                         0                                      0                                      0                                    0                                     0                                     0   \n",
       "1                      Api  Organic search             0            0          0          5.0                          674                   2.5             Email opened       India               No Details                      Unemployed                       Better career prospects       0                  0                   0          0                      0                        0                              Ringing                                       0          Email opened                                                 0                                       0                          0                          0                                  0                                     0                                      0                                         0                                      0                                      0                                    0                                     0                                     0   \n",
       "2  Landing page submission  Direct traffic             0            0          1          2.0                         1532                   2.0             Email opened       India  Business administration                         Student                       Better career prospects       0                  0                   0          0                      0                        0  Will revert after reading the email                                       1          Email opened                                                 0                                       1                          0                          0                                  0                                     0                                      0                                         0                                      0                                      0                                    0                                     0                                     0   \n",
       "3  Landing page submission  Direct traffic             0            0          0          1.0                          305                   1.0              Unreachable       India    Media and advertising                      Unemployed                       Better career prospects       0                  0                   0          0                      0                        0                              Ringing                                       0              Modified                                                 0                                       0                          0                          0                                  0                                     0                                      0                                         0                                      0                                      0                                    0                                     1                                     0   \n",
       "4  Landing page submission          Google             0            0          1          2.0                         1428                   1.0        Converted to lead       India               No Details                      Unemployed                       Better career prospects       0                  0                   0          0                      0                        0  Will revert after reading the email                                       0              Modified                                                 0                                       0                          0                          0                                  0                                     0                                      0                                         0                                      0                                      0                                    0                                     0                                     0   \n",
       "\n",
       "   Specialization_Retail management  Specialization_Rural and agribusiness  Specialization_Services excellence  Specialization_Supply chain management  Specialization_Travel and tourism  occupation_Businessman  occupation_Housewife  occupation_Other  occupation_Student  occupation_Unemployed  occupation_Working professional  selection_Better career prospects  selection_Flexibility & convenience  selection_Other  Tags_Already a student  Tags_Busy  Tags_Closed by horizzon  Tags_Diploma holder (not eligible)  Tags_Graduation in progress  Tags_In touch with eins  Tags_Interested  in full time mba  Tags_Interested in other courses  Tags_Invalid number  Tags_Lost to eins  Tags_Not doing further education  Tags_Number not provided  Tags_Opp hangup  Tags_Others  Tags_Ringing  Tags_Switched off  Tags_Will revert after reading the email  Tags_Wrong number given  Lead Origin_Landing page submission  Lead Origin_Lead add form  Lead Origin_Lead import  Lead Source_Facebook  Lead Source_Google  \\\n",
       "0                                 0                                      0                                   0                                       0                                  0                       0                     0                 0                   0                      1                                0                                  1                                    0                0                       0          0                        0                                   0                            0                        0                                  0                                 1                    0                  0                                 0                         0                0            0             0                  0                                         0                        0                                    0                          0                        0                     0                   0   \n",
       "1                                 0                                      0                                   0                                       0                                  0                       0                     0                 0                   0                      1                                0                                  1                                    0                0                       0          0                        0                                   0                            0                        0                                  0                                 0                    0                  0                                 0                         0                0            0             1                  0                                         0                        0                                    0                          0                        0                     0                   0   \n",
       "2                                 0                                      0                                   0                                       0                                  0                       0                     0                 0                   1                      0                                0                                  1                                    0                0                       0          0                        0                                   0                            0                        0                                  0                                 0                    0                  0                                 0                         0                0            0             0                  0                                         1                        0                                    1                          0                        0                     0                   0   \n",
       "3                                 0                                      0                                   0                                       0                                  0                       0                     0                 0                   0                      1                                0                                  1                                    0                0                       0          0                        0                                   0                            0                        0                                  0                                 0                    0                  0                                 0                         0                0            0             1                  0                                         0                        0                                    1                          0                        0                     0                   0   \n",
       "4                                 0                                      0                                   0                                       0                                  0                       0                     0                 0                   0                      1                                0                                  1                                    0                0                       0          0                        0                                   0                            0                        0                                  0                                 0                    0                  0                                 0                         0                0            0             0                  0                                         1                        0                                    1                          0                        0                     0                   1   \n",
       "\n",
       "   Lead Source_Olark chat  Lead Source_Organic search  Lead Source_Pay per click ads  Lead Source_Reference  Lead Source_Referral sites  Lead Source_Welingak website  Country_No Details  Country_Outside India  Last Notable Activity_Email link clicked  Last Notable Activity_Email opened  Last Notable Activity_Modified  Last Notable Activity_Olark chat conversation  Last Notable Activity_Others  Last Notable Activity_Page visited on website  Last Notable Activity_Sms sent  Last Notable Activity_Unreachable  Last Notable Activity_Unsubscribed  Last Activity_Email bounced  Last Activity_Email link clicked  Last Activity_Email opened  Last Activity_Form submitted on website  Last Activity_Olark chat conversation  Last Activity_Others  Last Activity_Page visited on website  Last Activity_Sms sent  Last Activity_Unreachable  Last Activity_Unsubscribed  \n",
       "0                       1                           0                              0                      0                           0                             0                   1                      0                                         0                                   0                               1                                              0                             0                                              0                               0                                  0                                   0                            0                                 0                           0                                        0                                      0                     0                                      1                       0                          0                           0  \n",
       "1                       0                           1                              0                      0                           0                             0                   0                      0                                         0                                   1                               0                                              0                             0                                              0                               0                                  0                                   0                            0                                 0                           1                                        0                                      0                     0                                      0                       0                          0                           0  \n",
       "2                       0                           0                              0                      0                           0                             0                   0                      0                                         0                                   1                               0                                              0                             0                                              0                               0                                  0                                   0                            0                                 0                           1                                        0                                      0                     0                                      0                       0                          0                           0  \n",
       "3                       0                           0                              0                      0                           0                             0                   0                      0                                         0                                   0                               1                                              0                             0                                              0                               0                                  0                                   0                            0                                 0                           0                                        0                                      0                     0                                      0                       0                          1                           0  \n",
       "4                       0                           0                              0                      0                           0                             0                   0                      0                                         0                                   0                               1                                              0                             0                                              0                               0                                  0                                   0                            0                                 0                           0                                        0                                      0                     0                                      0                       0                          0                           0  "
      ]
     },
     "execution_count": 78,
     "metadata": {},
     "output_type": "execute_result"
    }
   ],
   "source": [
    "lead_score.head()"
   ]
  },
  {
   "cell_type": "code",
   "execution_count": 79,
   "metadata": {},
   "outputs": [],
   "source": [
    "lead_score.drop(columns=['Lead Origin',\n",
    " 'Lead Source',\n",
    " 'Last Activity',\n",
    " 'Country',\n",
    " 'Specialization',\n",
    " 'What is your current occupation',\n",
    " 'What matters most to you in choosing a course',\n",
    " 'Tags',\n",
    " 'Last Notable Activity'],inplace=True)"
   ]
  },
  {
   "cell_type": "code",
   "execution_count": 80,
   "metadata": {},
   "outputs": [
    {
     "data": {
      "text/plain": [
       "(9074, 90)"
      ]
     },
     "execution_count": 80,
     "metadata": {},
     "output_type": "execute_result"
    }
   ],
   "source": [
    "lead_score.shape"
   ]
  },
  {
   "cell_type": "markdown",
   "metadata": {},
   "source": [
    "## Test-Train-Split "
   ]
  },
  {
   "cell_type": "code",
   "execution_count": 81,
   "metadata": {},
   "outputs": [],
   "source": [
    "x=lead_score.drop(['Converted'],axis=1)"
   ]
  },
  {
   "cell_type": "code",
   "execution_count": 82,
   "metadata": {},
   "outputs": [],
   "source": [
    "y=lead_score['Converted']"
   ]
  },
  {
   "cell_type": "code",
   "execution_count": 83,
   "metadata": {},
   "outputs": [],
   "source": [
    "from sklearn.model_selection import train_test_split\n",
    "x_train,x_test,y_train,y_test=train_test_split(x,y,train_size=0.7,test_size=0.3,random_state=100)"
   ]
  },
  {
   "cell_type": "code",
   "execution_count": 84,
   "metadata": {},
   "outputs": [],
   "source": [
    "from sklearn.preprocessing import MinMaxScaler\n",
    "scaler=MinMaxScaler()"
   ]
  },
  {
   "cell_type": "code",
   "execution_count": 85,
   "metadata": {},
   "outputs": [],
   "source": [
    "num_param=['TotalVisits','Total Time Spent on Website','Page Views Per Visit']"
   ]
  },
  {
   "cell_type": "code",
   "execution_count": 86,
   "metadata": {},
   "outputs": [],
   "source": [
    "x_train[num_param]=scaler.fit_transform(x_train[num_param])"
   ]
  },
  {
   "cell_type": "code",
   "execution_count": 87,
   "metadata": {},
   "outputs": [
    {
     "data": {
      "text/plain": [
       "37.85541106458012"
      ]
     },
     "execution_count": 87,
     "metadata": {},
     "output_type": "execute_result"
    }
   ],
   "source": [
    "conversion=(sum(lead_score['Converted'])/len(lead_score['Converted'].index)*100)\n",
    "conversion"
   ]
  },
  {
   "cell_type": "markdown",
   "metadata": {},
   "source": [
    "## Looking at Correlations "
   ]
  },
  {
   "cell_type": "code",
   "execution_count": 88,
   "metadata": {},
   "outputs": [],
   "source": [
    "# plt.figure(figsize=([30,40]))\n",
    "# sns.heatmap(lead_score.corr(),annot=True,cmap='RdYlGn')"
   ]
  },
  {
   "cell_type": "markdown",
   "metadata": {},
   "source": [
    "## Model Building"
   ]
  },
  {
   "cell_type": "code",
   "execution_count": 89,
   "metadata": {},
   "outputs": [],
   "source": [
    "import statsmodels.api as sm"
   ]
  },
  {
   "cell_type": "code",
   "execution_count": 90,
   "metadata": {
    "scrolled": false
   },
   "outputs": [
    {
     "data": {
      "text/html": [
       "<table class=\"simpletable\">\n",
       "<caption>Generalized Linear Model Regression Results</caption>\n",
       "<tr>\n",
       "  <th>Dep. Variable:</th>       <td>Converted</td>    <th>  No. Observations:  </th>  <td>  6351</td> \n",
       "</tr>\n",
       "<tr>\n",
       "  <th>Model:</th>                  <td>GLM</td>       <th>  Df Residuals:      </th>  <td>  6262</td> \n",
       "</tr>\n",
       "<tr>\n",
       "  <th>Model Family:</th>        <td>Binomial</td>     <th>  Df Model:          </th>  <td>    88</td> \n",
       "</tr>\n",
       "<tr>\n",
       "  <th>Link Function:</th>         <td>logit</td>      <th>  Scale:             </th> <td>  1.0000</td>\n",
       "</tr>\n",
       "<tr>\n",
       "  <th>Method:</th>                <td>IRLS</td>       <th>  Log-Likelihood:    </th> <td>     nan</td>\n",
       "</tr>\n",
       "<tr>\n",
       "  <th>Date:</th>            <td>Sun, 07 Feb 2021</td> <th>  Deviance:          </th> <td>     nan</td>\n",
       "</tr>\n",
       "<tr>\n",
       "  <th>Time:</th>                <td>14:01:01</td>     <th>  Pearson chi2:      </th> <td>2.22e+18</td>\n",
       "</tr>\n",
       "<tr>\n",
       "  <th>No. Iterations:</th>         <td>100</td>       <th>                     </th>     <td> </td>   \n",
       "</tr>\n",
       "<tr>\n",
       "  <th>Covariance Type:</th>     <td>nonrobust</td>    <th>                     </th>     <td> </td>   \n",
       "</tr>\n",
       "</table>\n",
       "<table class=\"simpletable\">\n",
       "<tr>\n",
       "                          <td></td>                            <th>coef</th>     <th>std err</th>      <th>z</th>      <th>P>|z|</th>  <th>[0.025</th>    <th>0.975]</th>  \n",
       "</tr>\n",
       "<tr>\n",
       "  <th>const</th>                                            <td> -1.39e+15</td> <td> 1.24e+07</td> <td>-1.12e+08</td> <td> 0.000</td> <td>-1.39e+15</td> <td>-1.39e+15</td>\n",
       "</tr>\n",
       "<tr>\n",
       "  <th>Do Not Email</th>                                     <td>-3.484e+14</td> <td> 4.45e+06</td> <td>-7.82e+07</td> <td> 0.000</td> <td>-3.48e+14</td> <td>-3.48e+14</td>\n",
       "</tr>\n",
       "<tr>\n",
       "  <th>Do Not Call</th>                                      <td> 1.034e+15</td> <td> 4.77e+07</td> <td> 2.17e+07</td> <td> 0.000</td> <td> 1.03e+15</td> <td> 1.03e+15</td>\n",
       "</tr>\n",
       "<tr>\n",
       "  <th>TotalVisits</th>                                      <td> 1.468e+15</td> <td> 4.88e+07</td> <td> 3.01e+07</td> <td> 0.000</td> <td> 1.47e+15</td> <td> 1.47e+15</td>\n",
       "</tr>\n",
       "<tr>\n",
       "  <th>Total Time Spent on Website</th>                      <td> 5.439e+14</td> <td> 4.27e+06</td> <td> 1.27e+08</td> <td> 0.000</td> <td> 5.44e+14</td> <td> 5.44e+14</td>\n",
       "</tr>\n",
       "<tr>\n",
       "  <th>Page Views Per Visit</th>                             <td>-3.951e+14</td> <td> 1.44e+07</td> <td>-2.74e+07</td> <td> 0.000</td> <td>-3.95e+14</td> <td>-3.95e+14</td>\n",
       "</tr>\n",
       "<tr>\n",
       "  <th>Search</th>                                           <td> 1.753e+14</td> <td> 2.39e+07</td> <td> 7.33e+06</td> <td> 0.000</td> <td> 1.75e+14</td> <td> 1.75e+14</td>\n",
       "</tr>\n",
       "<tr>\n",
       "  <th>Newspaper Article</th>                                <td> 3.599e+15</td> <td> 6.74e+07</td> <td> 5.34e+07</td> <td> 0.000</td> <td>  3.6e+15</td> <td>  3.6e+15</td>\n",
       "</tr>\n",
       "<tr>\n",
       "  <th>X Education Forums</th>                               <td> -7.57e+15</td> <td> 1.13e+08</td> <td>-6.69e+07</td> <td> 0.000</td> <td>-7.57e+15</td> <td>-7.57e+15</td>\n",
       "</tr>\n",
       "<tr>\n",
       "  <th>Newspaper</th>                                        <td>-3.066e+15</td> <td> 6.73e+07</td> <td>-4.55e+07</td> <td> 0.000</td> <td>-3.07e+15</td> <td>-3.07e+15</td>\n",
       "</tr>\n",
       "<tr>\n",
       "  <th>Digital Advertisement</th>                            <td>-3.902e+14</td> <td> 4.81e+07</td> <td>-8.11e+06</td> <td> 0.000</td> <td> -3.9e+14</td> <td> -3.9e+14</td>\n",
       "</tr>\n",
       "<tr>\n",
       "  <th>Through Recommendations</th>                          <td> 7.041e+14</td> <td> 3.57e+07</td> <td> 1.97e+07</td> <td> 0.000</td> <td> 7.04e+14</td> <td> 7.04e+14</td>\n",
       "</tr>\n",
       "<tr>\n",
       "  <th>A free copy of Mastering The Interview</th>           <td> 1.098e+13</td> <td> 2.73e+06</td> <td> 4.03e+06</td> <td> 0.000</td> <td>  1.1e+13</td> <td>  1.1e+13</td>\n",
       "</tr>\n",
       "<tr>\n",
       "  <th>Specialization_Banking, investment and insurance</th> <td> 2.434e+14</td> <td> 5.42e+06</td> <td> 4.49e+07</td> <td> 0.000</td> <td> 2.43e+14</td> <td> 2.43e+14</td>\n",
       "</tr>\n",
       "<tr>\n",
       "  <th>Specialization_Business administration</th>           <td> 1.854e+14</td> <td> 5.31e+06</td> <td> 3.49e+07</td> <td> 0.000</td> <td> 1.85e+14</td> <td> 1.85e+14</td>\n",
       "</tr>\n",
       "<tr>\n",
       "  <th>Specialization_E-business</th>                        <td> 1.081e+14</td> <td> 1.11e+07</td> <td> 9.78e+06</td> <td> 0.000</td> <td> 1.08e+14</td> <td> 1.08e+14</td>\n",
       "</tr>\n",
       "<tr>\n",
       "  <th>Specialization_E-commerce</th>                        <td>  1.87e+14</td> <td> 8.41e+06</td> <td> 2.22e+07</td> <td> 0.000</td> <td> 1.87e+14</td> <td> 1.87e+14</td>\n",
       "</tr>\n",
       "<tr>\n",
       "  <th>Specialization_Finance management</th>                <td>  1.45e+13</td> <td> 4.16e+06</td> <td> 3.49e+06</td> <td> 0.000</td> <td> 1.45e+13</td> <td> 1.45e+13</td>\n",
       "</tr>\n",
       "<tr>\n",
       "  <th>Specialization_Healthcare management</th>             <td> 1.905e+13</td> <td> 7.19e+06</td> <td> 2.65e+06</td> <td> 0.000</td> <td> 1.91e+13</td> <td> 1.91e+13</td>\n",
       "</tr>\n",
       "<tr>\n",
       "  <th>Specialization_Hospitality management</th>            <td> 1.423e+14</td> <td> 8.25e+06</td> <td> 1.73e+07</td> <td> 0.000</td> <td> 1.42e+14</td> <td> 1.42e+14</td>\n",
       "</tr>\n",
       "<tr>\n",
       "  <th>Specialization_Human resource management</th>         <td> 4.307e+13</td> <td> 4.18e+06</td> <td> 1.03e+07</td> <td> 0.000</td> <td> 4.31e+13</td> <td> 4.31e+13</td>\n",
       "</tr>\n",
       "<tr>\n",
       "  <th>Specialization_International business</th>            <td>-6.624e+13</td> <td> 6.82e+06</td> <td>-9.71e+06</td> <td> 0.000</td> <td>-6.62e+13</td> <td>-6.62e+13</td>\n",
       "</tr>\n",
       "<tr>\n",
       "  <th>Specialization_It projects management</th>            <td> 2.708e+14</td> <td> 5.29e+06</td> <td> 5.12e+07</td> <td> 0.000</td> <td> 2.71e+14</td> <td> 2.71e+14</td>\n",
       "</tr>\n",
       "<tr>\n",
       "  <th>Specialization_Marketing management</th>              <td>  2.75e+14</td> <td> 4.15e+06</td> <td> 6.62e+07</td> <td> 0.000</td> <td> 2.75e+14</td> <td> 2.75e+14</td>\n",
       "</tr>\n",
       "<tr>\n",
       "  <th>Specialization_Media and advertising</th>             <td> 1.212e+14</td> <td> 6.55e+06</td> <td> 1.85e+07</td> <td> 0.000</td> <td> 1.21e+14</td> <td> 1.21e+14</td>\n",
       "</tr>\n",
       "<tr>\n",
       "  <th>Specialization_Operations management</th>             <td> 2.709e+14</td> <td>  4.8e+06</td> <td> 5.65e+07</td> <td> 0.000</td> <td> 2.71e+14</td> <td> 2.71e+14</td>\n",
       "</tr>\n",
       "<tr>\n",
       "  <th>Specialization_Retail management</th>                 <td> 1.511e+14</td> <td> 8.41e+06</td> <td>  1.8e+07</td> <td> 0.000</td> <td> 1.51e+14</td> <td> 1.51e+14</td>\n",
       "</tr>\n",
       "<tr>\n",
       "  <th>Specialization_Rural and agribusiness</th>            <td> 1.623e+13</td> <td> 9.52e+06</td> <td>  1.7e+06</td> <td> 0.000</td> <td> 1.62e+13</td> <td> 1.62e+13</td>\n",
       "</tr>\n",
       "<tr>\n",
       "  <th>Specialization_Services excellence</th>               <td> 4.003e+13</td> <td> 1.42e+07</td> <td> 2.83e+06</td> <td> 0.000</td> <td>    4e+13</td> <td>    4e+13</td>\n",
       "</tr>\n",
       "<tr>\n",
       "  <th>Specialization_Supply chain management</th>           <td>-3.894e+13</td> <td> 5.46e+06</td> <td>-7.13e+06</td> <td> 0.000</td> <td>-3.89e+13</td> <td>-3.89e+13</td>\n",
       "</tr>\n",
       "<tr>\n",
       "  <th>Specialization_Travel and tourism</th>                <td> -1.05e+13</td> <td> 6.67e+06</td> <td>-1.57e+06</td> <td> 0.000</td> <td>-1.05e+13</td> <td>-1.05e+13</td>\n",
       "</tr>\n",
       "<tr>\n",
       "  <th>occupation_Businessman</th>                           <td> 6.145e+14</td> <td> 3.19e+07</td> <td> 1.93e+07</td> <td> 0.000</td> <td> 6.14e+14</td> <td> 6.14e+14</td>\n",
       "</tr>\n",
       "<tr>\n",
       "  <th>occupation_Housewife</th>                             <td>  2.35e+15</td> <td> 3.18e+07</td> <td> 7.39e+07</td> <td> 0.000</td> <td> 2.35e+15</td> <td> 2.35e+15</td>\n",
       "</tr>\n",
       "<tr>\n",
       "  <th>occupation_Other</th>                                 <td>-5.813e+14</td> <td> 2.86e+07</td> <td>-2.03e+07</td> <td> 0.000</td> <td>-5.81e+14</td> <td>-5.81e+14</td>\n",
       "</tr>\n",
       "<tr>\n",
       "  <th>occupation_Student</th>                               <td>-5.521e+14</td> <td> 1.89e+07</td> <td>-2.92e+07</td> <td> 0.000</td> <td>-5.52e+14</td> <td>-5.52e+14</td>\n",
       "</tr>\n",
       "<tr>\n",
       "  <th>occupation_Unemployed</th>                            <td>-6.918e+14</td> <td> 1.91e+07</td> <td>-3.62e+07</td> <td> 0.000</td> <td>-6.92e+14</td> <td>-6.92e+14</td>\n",
       "</tr>\n",
       "<tr>\n",
       "  <th>occupation_Working professional</th>                  <td>-7.169e+14</td> <td> 1.91e+07</td> <td>-3.75e+07</td> <td> 0.000</td> <td>-7.17e+14</td> <td>-7.17e+14</td>\n",
       "</tr>\n",
       "<tr>\n",
       "  <th>selection_Better career prospects</th>                <td> 2.258e+15</td> <td> 1.93e+07</td> <td> 1.17e+08</td> <td> 0.000</td> <td> 2.26e+15</td> <td> 2.26e+15</td>\n",
       "</tr>\n",
       "<tr>\n",
       "  <th>selection_Flexibility & convenience</th>              <td>    7.4075</td> <td> 2.01e-07</td> <td> 3.69e+07</td> <td> 0.000</td> <td>    7.408</td> <td>    7.408</td>\n",
       "</tr>\n",
       "<tr>\n",
       "  <th>selection_Other</th>                                  <td>-1.158e+15</td> <td> 7.04e+07</td> <td>-1.65e+07</td> <td> 0.000</td> <td>-1.16e+15</td> <td>-1.16e+15</td>\n",
       "</tr>\n",
       "<tr>\n",
       "  <th>Tags_Already a student</th>                           <td>-1.672e+15</td> <td> 5.24e+06</td> <td>-3.19e+08</td> <td> 0.000</td> <td>-1.67e+15</td> <td>-1.67e+15</td>\n",
       "</tr>\n",
       "<tr>\n",
       "  <th>Tags_Busy</th>                                        <td>  2.35e+14</td> <td> 6.99e+06</td> <td> 3.36e+07</td> <td> 0.000</td> <td> 2.35e+14</td> <td> 2.35e+14</td>\n",
       "</tr>\n",
       "<tr>\n",
       "  <th>Tags_Closed by horizzon</th>                          <td> 4.872e+14</td> <td> 5.93e+06</td> <td> 8.22e+07</td> <td> 0.000</td> <td> 4.87e+14</td> <td> 4.87e+14</td>\n",
       "</tr>\n",
       "<tr>\n",
       "  <th>Tags_Diploma holder (not eligible)</th>               <td>-1.655e+15</td> <td> 9.69e+06</td> <td>-1.71e+08</td> <td> 0.000</td> <td>-1.66e+15</td> <td>-1.66e+15</td>\n",
       "</tr>\n",
       "<tr>\n",
       "  <th>Tags_Graduation in progress</th>                      <td>-1.534e+15</td> <td> 8.59e+06</td> <td>-1.78e+08</td> <td> 0.000</td> <td>-1.53e+15</td> <td>-1.53e+15</td>\n",
       "</tr>\n",
       "<tr>\n",
       "  <th>Tags_In touch with eins</th>                          <td>-1.741e+15</td> <td>  2.4e+07</td> <td>-7.26e+07</td> <td> 0.000</td> <td>-1.74e+15</td> <td>-1.74e+15</td>\n",
       "</tr>\n",
       "<tr>\n",
       "  <th>Tags_Interested  in full time mba</th>                <td>-1.491e+15</td> <td>  8.1e+06</td> <td>-1.84e+08</td> <td> 0.000</td> <td>-1.49e+15</td> <td>-1.49e+15</td>\n",
       "</tr>\n",
       "<tr>\n",
       "  <th>Tags_Interested in other courses</th>                 <td>-1.532e+15</td> <td> 4.78e+06</td> <td>-3.21e+08</td> <td> 0.000</td> <td>-1.53e+15</td> <td>-1.53e+15</td>\n",
       "</tr>\n",
       "<tr>\n",
       "  <th>Tags_Invalid number</th>                              <td> -4.33e+15</td> <td> 9.52e+06</td> <td>-4.55e+08</td> <td> 0.000</td> <td>-4.33e+15</td> <td>-4.33e+15</td>\n",
       "</tr>\n",
       "<tr>\n",
       "  <th>Tags_Lost to eins</th>                                <td> 1.304e+15</td> <td> 6.87e+06</td> <td>  1.9e+08</td> <td> 0.000</td> <td>  1.3e+15</td> <td>  1.3e+15</td>\n",
       "</tr>\n",
       "<tr>\n",
       "  <th>Tags_Not doing further education</th>                 <td>-1.417e+15</td> <td> 7.83e+06</td> <td>-1.81e+08</td> <td> 0.000</td> <td>-1.42e+15</td> <td>-1.42e+15</td>\n",
       "</tr>\n",
       "<tr>\n",
       "  <th>Tags_Number not provided</th>                         <td>-4.995e+15</td> <td> 1.59e+07</td> <td>-3.14e+08</td> <td> 0.000</td> <td>-4.99e+15</td> <td>-4.99e+15</td>\n",
       "</tr>\n",
       "<tr>\n",
       "  <th>Tags_Opp hangup</th>                                  <td>-1.524e+15</td> <td> 1.37e+07</td> <td>-1.11e+08</td> <td> 0.000</td> <td>-1.52e+15</td> <td>-1.52e+15</td>\n",
       "</tr>\n",
       "<tr>\n",
       "  <th>Tags_Others</th>                                      <td>-2.314e+15</td> <td>  1.3e+07</td> <td>-1.79e+08</td> <td> 0.000</td> <td>-2.31e+15</td> <td>-2.31e+15</td>\n",
       "</tr>\n",
       "<tr>\n",
       "  <th>Tags_Ringing</th>                                     <td> -2.06e+15</td> <td>    4e+06</td> <td>-5.15e+08</td> <td> 0.000</td> <td>-2.06e+15</td> <td>-2.06e+15</td>\n",
       "</tr>\n",
       "<tr>\n",
       "  <th>Tags_Switched off</th>                                <td>-2.038e+15</td> <td> 6.29e+06</td> <td>-3.24e+08</td> <td> 0.000</td> <td>-2.04e+15</td> <td>-2.04e+15</td>\n",
       "</tr>\n",
       "<tr>\n",
       "  <th>Tags_Will revert after reading the email</th>         <td>  4.76e+14</td> <td> 3.84e+06</td> <td> 1.24e+08</td> <td> 0.000</td> <td> 4.76e+14</td> <td> 4.76e+14</td>\n",
       "</tr>\n",
       "<tr>\n",
       "  <th>Tags_Wrong number given</th>                          <td>-4.398e+15</td> <td> 1.26e+07</td> <td> -3.5e+08</td> <td> 0.000</td> <td> -4.4e+15</td> <td> -4.4e+15</td>\n",
       "</tr>\n",
       "<tr>\n",
       "  <th>Lead Origin_Landing page submission</th>              <td>-2.108e+14</td> <td> 3.46e+06</td> <td>-6.09e+07</td> <td> 0.000</td> <td>-2.11e+14</td> <td>-2.11e+14</td>\n",
       "</tr>\n",
       "<tr>\n",
       "  <th>Lead Origin_Lead add form</th>                        <td> 4.114e+14</td> <td> 2.78e+07</td> <td> 1.48e+07</td> <td> 0.000</td> <td> 4.11e+14</td> <td> 4.11e+14</td>\n",
       "</tr>\n",
       "<tr>\n",
       "  <th>Lead Origin_Lead import</th>                          <td> 5.704e+15</td> <td> 6.98e+07</td> <td> 8.17e+07</td> <td> 0.000</td> <td>  5.7e+15</td> <td>  5.7e+15</td>\n",
       "</tr>\n",
       "<tr>\n",
       "  <th>Lead Source_Facebook</th>                             <td>-5.757e+15</td> <td>  6.8e+07</td> <td>-8.47e+07</td> <td> 0.000</td> <td>-5.76e+15</td> <td>-5.76e+15</td>\n",
       "</tr>\n",
       "<tr>\n",
       "  <th>Lead Source_Google</th>                               <td> 2.218e+13</td> <td> 2.85e+06</td> <td> 7.77e+06</td> <td> 0.000</td> <td> 2.22e+13</td> <td> 2.22e+13</td>\n",
       "</tr>\n",
       "<tr>\n",
       "  <th>Lead Source_Olark chat</th>                           <td>-2.314e+14</td> <td> 7.07e+06</td> <td>-3.27e+07</td> <td> 0.000</td> <td>-2.31e+14</td> <td>-2.31e+14</td>\n",
       "</tr>\n",
       "<tr>\n",
       "  <th>Lead Source_Organic search</th>                       <td>-9.787e+12</td> <td> 3.21e+06</td> <td>-3.05e+06</td> <td> 0.000</td> <td>-9.79e+12</td> <td>-9.79e+12</td>\n",
       "</tr>\n",
       "<tr>\n",
       "  <th>Lead Source_Pay per click ads</th>                    <td>-2.875e+15</td> <td> 6.73e+07</td> <td>-4.27e+07</td> <td> 0.000</td> <td>-2.87e+15</td> <td>-2.87e+15</td>\n",
       "</tr>\n",
       "<tr>\n",
       "  <th>Lead Source_Reference</th>                            <td>-6.809e+14</td> <td>  2.8e+07</td> <td>-2.43e+07</td> <td> 0.000</td> <td>-6.81e+14</td> <td>-6.81e+14</td>\n",
       "</tr>\n",
       "<tr>\n",
       "  <th>Lead Source_Referral sites</th>                       <td> 6.638e+13</td> <td> 7.88e+06</td> <td> 8.42e+06</td> <td> 0.000</td> <td> 6.64e+13</td> <td> 6.64e+13</td>\n",
       "</tr>\n",
       "<tr>\n",
       "  <th>Lead Source_Welingak website</th>                     <td> 4.345e+14</td> <td> 2.86e+07</td> <td> 1.52e+07</td> <td> 0.000</td> <td> 4.35e+14</td> <td> 4.35e+14</td>\n",
       "</tr>\n",
       "<tr>\n",
       "  <th>Country_No Details</th>                               <td>-1.594e+12</td> <td> 6.78e+06</td> <td>-2.35e+05</td> <td> 0.000</td> <td>-1.59e+12</td> <td>-1.59e+12</td>\n",
       "</tr>\n",
       "<tr>\n",
       "  <th>Country_Outside India</th>                            <td>-1.685e+14</td> <td> 5.03e+06</td> <td>-3.35e+07</td> <td> 0.000</td> <td>-1.69e+14</td> <td>-1.69e+14</td>\n",
       "</tr>\n",
       "<tr>\n",
       "  <th>Last Notable Activity_Email link clicked</th>         <td>  2.37e+14</td> <td> 1.55e+07</td> <td> 1.53e+07</td> <td> 0.000</td> <td> 2.37e+14</td> <td> 2.37e+14</td>\n",
       "</tr>\n",
       "<tr>\n",
       "  <th>Last Notable Activity_Email opened</th>               <td>-1.794e+13</td> <td> 1.19e+07</td> <td>-1.51e+06</td> <td> 0.000</td> <td>-1.79e+13</td> <td>-1.79e+13</td>\n",
       "</tr>\n",
       "<tr>\n",
       "  <th>Last Notable Activity_Modified</th>                   <td> 1.091e+14</td> <td> 1.13e+07</td> <td> 9.67e+06</td> <td> 0.000</td> <td> 1.09e+14</td> <td> 1.09e+14</td>\n",
       "</tr>\n",
       "<tr>\n",
       "  <th>Last Notable Activity_Olark chat conversation</th>    <td>-3.879e+13</td> <td> 1.32e+07</td> <td>-2.95e+06</td> <td> 0.000</td> <td>-3.88e+13</td> <td>-3.88e+13</td>\n",
       "</tr>\n",
       "<tr>\n",
       "  <th>Last Notable Activity_Others</th>                     <td>-1.628e+14</td> <td> 2.47e+07</td> <td>-6.58e+06</td> <td> 0.000</td> <td>-1.63e+14</td> <td>-1.63e+14</td>\n",
       "</tr>\n",
       "<tr>\n",
       "  <th>Last Notable Activity_Page visited on website</th>    <td> 1.569e+14</td> <td>  1.3e+07</td> <td> 1.21e+07</td> <td> 0.000</td> <td> 1.57e+14</td> <td> 1.57e+14</td>\n",
       "</tr>\n",
       "<tr>\n",
       "  <th>Last Notable Activity_Sms sent</th>                   <td> 8.084e+14</td> <td> 1.19e+07</td> <td>  6.8e+07</td> <td> 0.000</td> <td> 8.08e+14</td> <td> 8.08e+14</td>\n",
       "</tr>\n",
       "<tr>\n",
       "  <th>Last Notable Activity_Unreachable</th>                <td> 2.402e+14</td> <td> 2.02e+07</td> <td> 1.19e+07</td> <td> 0.000</td> <td>  2.4e+14</td> <td>  2.4e+14</td>\n",
       "</tr>\n",
       "<tr>\n",
       "  <th>Last Notable Activity_Unsubscribed</th>               <td> 3.923e+14</td> <td> 2.65e+07</td> <td> 1.48e+07</td> <td> 0.000</td> <td> 3.92e+14</td> <td> 3.92e+14</td>\n",
       "</tr>\n",
       "<tr>\n",
       "  <th>Last Activity_Email bounced</th>                      <td>  1.53e+14</td> <td> 7.77e+06</td> <td> 1.97e+07</td> <td> 0.000</td> <td> 1.53e+14</td> <td> 1.53e+14</td>\n",
       "</tr>\n",
       "<tr>\n",
       "  <th>Last Activity_Email link clicked</th>                 <td>  2.87e+13</td> <td> 9.53e+06</td> <td> 3.01e+06</td> <td> 0.000</td> <td> 2.87e+13</td> <td> 2.87e+13</td>\n",
       "</tr>\n",
       "<tr>\n",
       "  <th>Last Activity_Email opened</th>                       <td> 2.133e+14</td> <td> 5.32e+06</td> <td> 4.01e+07</td> <td> 0.000</td> <td> 2.13e+14</td> <td> 2.13e+14</td>\n",
       "</tr>\n",
       "<tr>\n",
       "  <th>Last Activity_Form submitted on website</th>          <td> 2.057e+14</td> <td> 8.87e+06</td> <td> 2.32e+07</td> <td> 0.000</td> <td> 2.06e+14</td> <td> 2.06e+14</td>\n",
       "</tr>\n",
       "<tr>\n",
       "  <th>Last Activity_Olark chat conversation</th>            <td> 2.769e+14</td> <td> 5.27e+06</td> <td> 5.25e+07</td> <td> 0.000</td> <td> 2.77e+14</td> <td> 2.77e+14</td>\n",
       "</tr>\n",
       "<tr>\n",
       "  <th>Last Activity_Others</th>                             <td> 6.123e+14</td> <td>  1.7e+07</td> <td> 3.61e+07</td> <td> 0.000</td> <td> 6.12e+14</td> <td> 6.12e+14</td>\n",
       "</tr>\n",
       "<tr>\n",
       "  <th>Last Activity_Page visited on website</th>            <td> 1.645e+14</td> <td> 6.16e+06</td> <td> 2.67e+07</td> <td> 0.000</td> <td> 1.65e+14</td> <td> 1.65e+14</td>\n",
       "</tr>\n",
       "<tr>\n",
       "  <th>Last Activity_Sms sent</th>                           <td> 2.206e+14</td> <td> 5.37e+06</td> <td> 4.11e+07</td> <td> 0.000</td> <td> 2.21e+14</td> <td> 2.21e+14</td>\n",
       "</tr>\n",
       "<tr>\n",
       "  <th>Last Activity_Unreachable</th>                        <td>-2.184e+14</td> <td> 1.11e+07</td> <td>-1.97e+07</td> <td> 0.000</td> <td>-2.18e+14</td> <td>-2.18e+14</td>\n",
       "</tr>\n",
       "<tr>\n",
       "  <th>Last Activity_Unsubscribed</th>                       <td>  2.72e+14</td> <td> 2.09e+07</td> <td>  1.3e+07</td> <td> 0.000</td> <td> 2.72e+14</td> <td> 2.72e+14</td>\n",
       "</tr>\n",
       "</table>"
      ],
      "text/plain": [
       "<class 'statsmodels.iolib.summary.Summary'>\n",
       "\"\"\"\n",
       "                 Generalized Linear Model Regression Results                  \n",
       "==============================================================================\n",
       "Dep. Variable:              Converted   No. Observations:                 6351\n",
       "Model:                            GLM   Df Residuals:                     6262\n",
       "Model Family:                Binomial   Df Model:                           88\n",
       "Link Function:                  logit   Scale:                          1.0000\n",
       "Method:                          IRLS   Log-Likelihood:                    nan\n",
       "Date:                Sun, 07 Feb 2021   Deviance:                          nan\n",
       "Time:                        14:01:01   Pearson chi2:                 2.22e+18\n",
       "No. Iterations:                   100                                         \n",
       "Covariance Type:            nonrobust                                         \n",
       "====================================================================================================================\n",
       "                                                       coef    std err          z      P>|z|      [0.025      0.975]\n",
       "--------------------------------------------------------------------------------------------------------------------\n",
       "const                                             -1.39e+15   1.24e+07  -1.12e+08      0.000   -1.39e+15   -1.39e+15\n",
       "Do Not Email                                     -3.484e+14   4.45e+06  -7.82e+07      0.000   -3.48e+14   -3.48e+14\n",
       "Do Not Call                                       1.034e+15   4.77e+07   2.17e+07      0.000    1.03e+15    1.03e+15\n",
       "TotalVisits                                       1.468e+15   4.88e+07   3.01e+07      0.000    1.47e+15    1.47e+15\n",
       "Total Time Spent on Website                       5.439e+14   4.27e+06   1.27e+08      0.000    5.44e+14    5.44e+14\n",
       "Page Views Per Visit                             -3.951e+14   1.44e+07  -2.74e+07      0.000   -3.95e+14   -3.95e+14\n",
       "Search                                            1.753e+14   2.39e+07   7.33e+06      0.000    1.75e+14    1.75e+14\n",
       "Newspaper Article                                 3.599e+15   6.74e+07   5.34e+07      0.000     3.6e+15     3.6e+15\n",
       "X Education Forums                                -7.57e+15   1.13e+08  -6.69e+07      0.000   -7.57e+15   -7.57e+15\n",
       "Newspaper                                        -3.066e+15   6.73e+07  -4.55e+07      0.000   -3.07e+15   -3.07e+15\n",
       "Digital Advertisement                            -3.902e+14   4.81e+07  -8.11e+06      0.000    -3.9e+14    -3.9e+14\n",
       "Through Recommendations                           7.041e+14   3.57e+07   1.97e+07      0.000    7.04e+14    7.04e+14\n",
       "A free copy of Mastering The Interview            1.098e+13   2.73e+06   4.03e+06      0.000     1.1e+13     1.1e+13\n",
       "Specialization_Banking, investment and insurance  2.434e+14   5.42e+06   4.49e+07      0.000    2.43e+14    2.43e+14\n",
       "Specialization_Business administration            1.854e+14   5.31e+06   3.49e+07      0.000    1.85e+14    1.85e+14\n",
       "Specialization_E-business                         1.081e+14   1.11e+07   9.78e+06      0.000    1.08e+14    1.08e+14\n",
       "Specialization_E-commerce                          1.87e+14   8.41e+06   2.22e+07      0.000    1.87e+14    1.87e+14\n",
       "Specialization_Finance management                  1.45e+13   4.16e+06   3.49e+06      0.000    1.45e+13    1.45e+13\n",
       "Specialization_Healthcare management              1.905e+13   7.19e+06   2.65e+06      0.000    1.91e+13    1.91e+13\n",
       "Specialization_Hospitality management             1.423e+14   8.25e+06   1.73e+07      0.000    1.42e+14    1.42e+14\n",
       "Specialization_Human resource management          4.307e+13   4.18e+06   1.03e+07      0.000    4.31e+13    4.31e+13\n",
       "Specialization_International business            -6.624e+13   6.82e+06  -9.71e+06      0.000   -6.62e+13   -6.62e+13\n",
       "Specialization_It projects management             2.708e+14   5.29e+06   5.12e+07      0.000    2.71e+14    2.71e+14\n",
       "Specialization_Marketing management                2.75e+14   4.15e+06   6.62e+07      0.000    2.75e+14    2.75e+14\n",
       "Specialization_Media and advertising              1.212e+14   6.55e+06   1.85e+07      0.000    1.21e+14    1.21e+14\n",
       "Specialization_Operations management              2.709e+14    4.8e+06   5.65e+07      0.000    2.71e+14    2.71e+14\n",
       "Specialization_Retail management                  1.511e+14   8.41e+06    1.8e+07      0.000    1.51e+14    1.51e+14\n",
       "Specialization_Rural and agribusiness             1.623e+13   9.52e+06    1.7e+06      0.000    1.62e+13    1.62e+13\n",
       "Specialization_Services excellence                4.003e+13   1.42e+07   2.83e+06      0.000       4e+13       4e+13\n",
       "Specialization_Supply chain management           -3.894e+13   5.46e+06  -7.13e+06      0.000   -3.89e+13   -3.89e+13\n",
       "Specialization_Travel and tourism                 -1.05e+13   6.67e+06  -1.57e+06      0.000   -1.05e+13   -1.05e+13\n",
       "occupation_Businessman                            6.145e+14   3.19e+07   1.93e+07      0.000    6.14e+14    6.14e+14\n",
       "occupation_Housewife                               2.35e+15   3.18e+07   7.39e+07      0.000    2.35e+15    2.35e+15\n",
       "occupation_Other                                 -5.813e+14   2.86e+07  -2.03e+07      0.000   -5.81e+14   -5.81e+14\n",
       "occupation_Student                               -5.521e+14   1.89e+07  -2.92e+07      0.000   -5.52e+14   -5.52e+14\n",
       "occupation_Unemployed                            -6.918e+14   1.91e+07  -3.62e+07      0.000   -6.92e+14   -6.92e+14\n",
       "occupation_Working professional                  -7.169e+14   1.91e+07  -3.75e+07      0.000   -7.17e+14   -7.17e+14\n",
       "selection_Better career prospects                 2.258e+15   1.93e+07   1.17e+08      0.000    2.26e+15    2.26e+15\n",
       "selection_Flexibility & convenience                  7.4075   2.01e-07   3.69e+07      0.000       7.408       7.408\n",
       "selection_Other                                  -1.158e+15   7.04e+07  -1.65e+07      0.000   -1.16e+15   -1.16e+15\n",
       "Tags_Already a student                           -1.672e+15   5.24e+06  -3.19e+08      0.000   -1.67e+15   -1.67e+15\n",
       "Tags_Busy                                          2.35e+14   6.99e+06   3.36e+07      0.000    2.35e+14    2.35e+14\n",
       "Tags_Closed by horizzon                           4.872e+14   5.93e+06   8.22e+07      0.000    4.87e+14    4.87e+14\n",
       "Tags_Diploma holder (not eligible)               -1.655e+15   9.69e+06  -1.71e+08      0.000   -1.66e+15   -1.66e+15\n",
       "Tags_Graduation in progress                      -1.534e+15   8.59e+06  -1.78e+08      0.000   -1.53e+15   -1.53e+15\n",
       "Tags_In touch with eins                          -1.741e+15    2.4e+07  -7.26e+07      0.000   -1.74e+15   -1.74e+15\n",
       "Tags_Interested  in full time mba                -1.491e+15    8.1e+06  -1.84e+08      0.000   -1.49e+15   -1.49e+15\n",
       "Tags_Interested in other courses                 -1.532e+15   4.78e+06  -3.21e+08      0.000   -1.53e+15   -1.53e+15\n",
       "Tags_Invalid number                               -4.33e+15   9.52e+06  -4.55e+08      0.000   -4.33e+15   -4.33e+15\n",
       "Tags_Lost to eins                                 1.304e+15   6.87e+06    1.9e+08      0.000     1.3e+15     1.3e+15\n",
       "Tags_Not doing further education                 -1.417e+15   7.83e+06  -1.81e+08      0.000   -1.42e+15   -1.42e+15\n",
       "Tags_Number not provided                         -4.995e+15   1.59e+07  -3.14e+08      0.000   -4.99e+15   -4.99e+15\n",
       "Tags_Opp hangup                                  -1.524e+15   1.37e+07  -1.11e+08      0.000   -1.52e+15   -1.52e+15\n",
       "Tags_Others                                      -2.314e+15    1.3e+07  -1.79e+08      0.000   -2.31e+15   -2.31e+15\n",
       "Tags_Ringing                                      -2.06e+15      4e+06  -5.15e+08      0.000   -2.06e+15   -2.06e+15\n",
       "Tags_Switched off                                -2.038e+15   6.29e+06  -3.24e+08      0.000   -2.04e+15   -2.04e+15\n",
       "Tags_Will revert after reading the email           4.76e+14   3.84e+06   1.24e+08      0.000    4.76e+14    4.76e+14\n",
       "Tags_Wrong number given                          -4.398e+15   1.26e+07   -3.5e+08      0.000    -4.4e+15    -4.4e+15\n",
       "Lead Origin_Landing page submission              -2.108e+14   3.46e+06  -6.09e+07      0.000   -2.11e+14   -2.11e+14\n",
       "Lead Origin_Lead add form                         4.114e+14   2.78e+07   1.48e+07      0.000    4.11e+14    4.11e+14\n",
       "Lead Origin_Lead import                           5.704e+15   6.98e+07   8.17e+07      0.000     5.7e+15     5.7e+15\n",
       "Lead Source_Facebook                             -5.757e+15    6.8e+07  -8.47e+07      0.000   -5.76e+15   -5.76e+15\n",
       "Lead Source_Google                                2.218e+13   2.85e+06   7.77e+06      0.000    2.22e+13    2.22e+13\n",
       "Lead Source_Olark chat                           -2.314e+14   7.07e+06  -3.27e+07      0.000   -2.31e+14   -2.31e+14\n",
       "Lead Source_Organic search                       -9.787e+12   3.21e+06  -3.05e+06      0.000   -9.79e+12   -9.79e+12\n",
       "Lead Source_Pay per click ads                    -2.875e+15   6.73e+07  -4.27e+07      0.000   -2.87e+15   -2.87e+15\n",
       "Lead Source_Reference                            -6.809e+14    2.8e+07  -2.43e+07      0.000   -6.81e+14   -6.81e+14\n",
       "Lead Source_Referral sites                        6.638e+13   7.88e+06   8.42e+06      0.000    6.64e+13    6.64e+13\n",
       "Lead Source_Welingak website                      4.345e+14   2.86e+07   1.52e+07      0.000    4.35e+14    4.35e+14\n",
       "Country_No Details                               -1.594e+12   6.78e+06  -2.35e+05      0.000   -1.59e+12   -1.59e+12\n",
       "Country_Outside India                            -1.685e+14   5.03e+06  -3.35e+07      0.000   -1.69e+14   -1.69e+14\n",
       "Last Notable Activity_Email link clicked           2.37e+14   1.55e+07   1.53e+07      0.000    2.37e+14    2.37e+14\n",
       "Last Notable Activity_Email opened               -1.794e+13   1.19e+07  -1.51e+06      0.000   -1.79e+13   -1.79e+13\n",
       "Last Notable Activity_Modified                    1.091e+14   1.13e+07   9.67e+06      0.000    1.09e+14    1.09e+14\n",
       "Last Notable Activity_Olark chat conversation    -3.879e+13   1.32e+07  -2.95e+06      0.000   -3.88e+13   -3.88e+13\n",
       "Last Notable Activity_Others                     -1.628e+14   2.47e+07  -6.58e+06      0.000   -1.63e+14   -1.63e+14\n",
       "Last Notable Activity_Page visited on website     1.569e+14    1.3e+07   1.21e+07      0.000    1.57e+14    1.57e+14\n",
       "Last Notable Activity_Sms sent                    8.084e+14   1.19e+07    6.8e+07      0.000    8.08e+14    8.08e+14\n",
       "Last Notable Activity_Unreachable                 2.402e+14   2.02e+07   1.19e+07      0.000     2.4e+14     2.4e+14\n",
       "Last Notable Activity_Unsubscribed                3.923e+14   2.65e+07   1.48e+07      0.000    3.92e+14    3.92e+14\n",
       "Last Activity_Email bounced                        1.53e+14   7.77e+06   1.97e+07      0.000    1.53e+14    1.53e+14\n",
       "Last Activity_Email link clicked                   2.87e+13   9.53e+06   3.01e+06      0.000    2.87e+13    2.87e+13\n",
       "Last Activity_Email opened                        2.133e+14   5.32e+06   4.01e+07      0.000    2.13e+14    2.13e+14\n",
       "Last Activity_Form submitted on website           2.057e+14   8.87e+06   2.32e+07      0.000    2.06e+14    2.06e+14\n",
       "Last Activity_Olark chat conversation             2.769e+14   5.27e+06   5.25e+07      0.000    2.77e+14    2.77e+14\n",
       "Last Activity_Others                              6.123e+14    1.7e+07   3.61e+07      0.000    6.12e+14    6.12e+14\n",
       "Last Activity_Page visited on website             1.645e+14   6.16e+06   2.67e+07      0.000    1.65e+14    1.65e+14\n",
       "Last Activity_Sms sent                            2.206e+14   5.37e+06   4.11e+07      0.000    2.21e+14    2.21e+14\n",
       "Last Activity_Unreachable                        -2.184e+14   1.11e+07  -1.97e+07      0.000   -2.18e+14   -2.18e+14\n",
       "Last Activity_Unsubscribed                         2.72e+14   2.09e+07    1.3e+07      0.000    2.72e+14    2.72e+14\n",
       "====================================================================================================================\n",
       "\"\"\""
      ]
     },
     "execution_count": 90,
     "metadata": {},
     "output_type": "execute_result"
    }
   ],
   "source": [
    "logm=sm.GLM(y_train,(sm.add_constant(x_train)), family=sm.families.Binomial())\n",
    "logm.fit().summary()"
   ]
  },
  {
   "cell_type": "markdown",
   "metadata": {},
   "source": [
    "## Model Building using RFE "
   ]
  },
  {
   "cell_type": "code",
   "execution_count": 91,
   "metadata": {},
   "outputs": [],
   "source": [
    "from sklearn.linear_model import LogisticRegression\n",
    "logreg=LogisticRegression()"
   ]
  },
  {
   "cell_type": "code",
   "execution_count": 92,
   "metadata": {
    "scrolled": false
   },
   "outputs": [],
   "source": [
    "from sklearn.feature_selection import RFE\n",
    "rfe=RFE(logreg,15)\n",
    "rfe=rfe.fit(x_train,y_train)"
   ]
  },
  {
   "cell_type": "code",
   "execution_count": 93,
   "metadata": {
    "scrolled": false
   },
   "outputs": [
    {
     "data": {
      "text/plain": [
       "[('Do Not Email', False, 9),\n",
       " ('Do Not Call', False, 56),\n",
       " ('TotalVisits', False, 10),\n",
       " ('Total Time Spent on Website', True, 1),\n",
       " ('Page Views Per Visit', False, 38),\n",
       " ('Search', False, 50),\n",
       " ('Newspaper Article', False, 64),\n",
       " ('X Education Forums', False, 63),\n",
       " ('Newspaper', False, 60),\n",
       " ('Digital Advertisement', False, 45),\n",
       " ('Through Recommendations', False, 74),\n",
       " ('A free copy of Mastering The Interview', False, 39),\n",
       " ('Specialization_Banking, investment and insurance', False, 28),\n",
       " ('Specialization_Business administration', False, 42),\n",
       " ('Specialization_E-business', False, 59),\n",
       " ('Specialization_E-commerce', False, 40),\n",
       " ('Specialization_Finance management', False, 68),\n",
       " ('Specialization_Healthcare management', False, 41),\n",
       " ('Specialization_Hospitality management', False, 69),\n",
       " ('Specialization_Human resource management', False, 44),\n",
       " ('Specialization_International business', False, 46),\n",
       " ('Specialization_It projects management', False, 34),\n",
       " ('Specialization_Marketing management', False, 29),\n",
       " ('Specialization_Media and advertising', False, 51),\n",
       " ('Specialization_Operations management', False, 35),\n",
       " ('Specialization_Retail management', False, 67),\n",
       " ('Specialization_Rural and agribusiness', False, 66),\n",
       " ('Specialization_Services excellence', False, 49),\n",
       " ('Specialization_Supply chain management', False, 22),\n",
       " ('Specialization_Travel and tourism', False, 14),\n",
       " ('occupation_Businessman', False, 25),\n",
       " ('occupation_Housewife', False, 33),\n",
       " ('occupation_Other', False, 62),\n",
       " ('occupation_Student', False, 71),\n",
       " ('occupation_Unemployed', False, 48),\n",
       " ('occupation_Working professional', False, 24),\n",
       " ('selection_Better career prospects', False, 3),\n",
       " ('selection_Flexibility & convenience', False, 75),\n",
       " ('selection_Other', False, 72),\n",
       " ('Tags_Already a student', True, 1),\n",
       " ('Tags_Busy', False, 12),\n",
       " ('Tags_Closed by horizzon', True, 1),\n",
       " ('Tags_Diploma holder (not eligible)', True, 1),\n",
       " ('Tags_Graduation in progress', False, 2),\n",
       " ('Tags_In touch with eins', False, 17),\n",
       " ('Tags_Interested  in full time mba', True, 1),\n",
       " ('Tags_Interested in other courses', True, 1),\n",
       " ('Tags_Invalid number', True, 1),\n",
       " ('Tags_Lost to eins', True, 1),\n",
       " ('Tags_Not doing further education', True, 1),\n",
       " ('Tags_Number not provided', True, 1),\n",
       " ('Tags_Opp hangup', False, 4),\n",
       " ('Tags_Others', False, 11),\n",
       " ('Tags_Ringing', True, 1),\n",
       " ('Tags_Switched off', True, 1),\n",
       " ('Tags_Will revert after reading the email', True, 1),\n",
       " ('Tags_Wrong number given', True, 1),\n",
       " ('Lead Origin_Landing page submission', False, 19),\n",
       " ('Lead Origin_Lead add form', False, 26),\n",
       " ('Lead Origin_Lead import', False, 61),\n",
       " ('Lead Source_Facebook', False, 21),\n",
       " ('Lead Source_Google', False, 55),\n",
       " ('Lead Source_Olark chat', False, 52),\n",
       " ('Lead Source_Organic search', False, 58),\n",
       " ('Lead Source_Pay per click ads', False, 73),\n",
       " ('Lead Source_Reference', False, 27),\n",
       " ('Lead Source_Referral sites', False, 54),\n",
       " ('Lead Source_Welingak website', True, 1),\n",
       " ('Country_No Details', False, 8),\n",
       " ('Country_Outside India', False, 37),\n",
       " ('Last Notable Activity_Email link clicked', False, 13),\n",
       " ('Last Notable Activity_Email opened', False, 43),\n",
       " ('Last Notable Activity_Modified', False, 6),\n",
       " ('Last Notable Activity_Olark chat conversation', False, 7),\n",
       " ('Last Notable Activity_Others', False, 70),\n",
       " ('Last Notable Activity_Page visited on website', False, 31),\n",
       " ('Last Notable Activity_Sms sent', False, 15),\n",
       " ('Last Notable Activity_Unreachable', False, 23),\n",
       " ('Last Notable Activity_Unsubscribed', False, 30),\n",
       " ('Last Activity_Email bounced', False, 53),\n",
       " ('Last Activity_Email link clicked', False, 32),\n",
       " ('Last Activity_Email opened', False, 47),\n",
       " ('Last Activity_Form submitted on website', False, 65),\n",
       " ('Last Activity_Olark chat conversation', False, 16),\n",
       " ('Last Activity_Others', False, 18),\n",
       " ('Last Activity_Page visited on website', False, 57),\n",
       " ('Last Activity_Sms sent', False, 5),\n",
       " ('Last Activity_Unreachable', False, 36),\n",
       " ('Last Activity_Unsubscribed', False, 20)]"
      ]
     },
     "execution_count": 93,
     "metadata": {},
     "output_type": "execute_result"
    }
   ],
   "source": [
    "list(zip(x_train.columns, rfe.support_, rfe.ranking_))"
   ]
  },
  {
   "cell_type": "code",
   "execution_count": 94,
   "metadata": {},
   "outputs": [
    {
     "data": {
      "text/plain": [
       "Index(['Total Time Spent on Website', 'Tags_Already a student', 'Tags_Closed by horizzon', 'Tags_Diploma holder (not eligible)', 'Tags_Interested  in full time mba', 'Tags_Interested in other courses', 'Tags_Invalid number', 'Tags_Lost to eins', 'Tags_Not doing further education', 'Tags_Number not provided', 'Tags_Ringing', 'Tags_Switched off', 'Tags_Will revert after reading the email', 'Tags_Wrong number given', 'Lead Source_Welingak website'], dtype='object')"
      ]
     },
     "execution_count": 94,
     "metadata": {},
     "output_type": "execute_result"
    }
   ],
   "source": [
    "x_train.columns[rfe.support_]"
   ]
  },
  {
   "cell_type": "code",
   "execution_count": 95,
   "metadata": {},
   "outputs": [
    {
     "data": {
      "text/plain": [
       "Index(['Total Time Spent on Website', 'Tags_Already a student', 'Tags_Closed by horizzon', 'Tags_Diploma holder (not eligible)', 'Tags_Interested  in full time mba', 'Tags_Interested in other courses', 'Tags_Invalid number', 'Tags_Lost to eins', 'Tags_Not doing further education', 'Tags_Number not provided', 'Tags_Ringing', 'Tags_Switched off', 'Tags_Will revert after reading the email', 'Tags_Wrong number given', 'Lead Source_Welingak website'], dtype='object')"
      ]
     },
     "execution_count": 95,
     "metadata": {},
     "output_type": "execute_result"
    }
   ],
   "source": [
    "col_rfe=x_train.columns[rfe.support_]\n",
    "col_rfe"
   ]
  },
  {
   "cell_type": "code",
   "execution_count": 96,
   "metadata": {},
   "outputs": [
    {
     "data": {
      "text/html": [
       "<table class=\"simpletable\">\n",
       "<caption>Generalized Linear Model Regression Results</caption>\n",
       "<tr>\n",
       "  <th>Dep. Variable:</th>       <td>Converted</td>    <th>  No. Observations:  </th>  <td>  6351</td> \n",
       "</tr>\n",
       "<tr>\n",
       "  <th>Model:</th>                  <td>GLM</td>       <th>  Df Residuals:      </th>  <td>  6335</td> \n",
       "</tr>\n",
       "<tr>\n",
       "  <th>Model Family:</th>        <td>Binomial</td>     <th>  Df Model:          </th>  <td>    15</td> \n",
       "</tr>\n",
       "<tr>\n",
       "  <th>Link Function:</th>         <td>logit</td>      <th>  Scale:             </th> <td>  1.0000</td>\n",
       "</tr>\n",
       "<tr>\n",
       "  <th>Method:</th>                <td>IRLS</td>       <th>  Log-Likelihood:    </th> <td> -1550.8</td>\n",
       "</tr>\n",
       "<tr>\n",
       "  <th>Date:</th>            <td>Sun, 07 Feb 2021</td> <th>  Deviance:          </th> <td>  3101.6</td>\n",
       "</tr>\n",
       "<tr>\n",
       "  <th>Time:</th>                <td>14:01:05</td>     <th>  Pearson chi2:      </th> <td>6.13e+03</td>\n",
       "</tr>\n",
       "<tr>\n",
       "  <th>No. Iterations:</th>         <td>23</td>        <th>                     </th>     <td> </td>   \n",
       "</tr>\n",
       "<tr>\n",
       "  <th>Covariance Type:</th>     <td>nonrobust</td>    <th>                     </th>     <td> </td>   \n",
       "</tr>\n",
       "</table>\n",
       "<table class=\"simpletable\">\n",
       "<tr>\n",
       "                      <td></td>                        <th>coef</th>     <th>std err</th>      <th>z</th>      <th>P>|z|</th>  <th>[0.025</th>    <th>0.975]</th>  \n",
       "</tr>\n",
       "<tr>\n",
       "  <th>const</th>                                    <td>   -1.9942</td> <td>    0.070</td> <td>  -28.446</td> <td> 0.000</td> <td>   -2.132</td> <td>   -1.857</td>\n",
       "</tr>\n",
       "<tr>\n",
       "  <th>Total Time Spent on Website</th>              <td>    3.7442</td> <td>    0.190</td> <td>   19.737</td> <td> 0.000</td> <td>    3.372</td> <td>    4.116</td>\n",
       "</tr>\n",
       "<tr>\n",
       "  <th>Tags_Already a student</th>                   <td>   -3.9735</td> <td>    0.715</td> <td>   -5.554</td> <td> 0.000</td> <td>   -5.376</td> <td>   -2.571</td>\n",
       "</tr>\n",
       "<tr>\n",
       "  <th>Tags_Closed by horizzon</th>                  <td>    6.0075</td> <td>    0.715</td> <td>    8.403</td> <td> 0.000</td> <td>    4.606</td> <td>    7.409</td>\n",
       "</tr>\n",
       "<tr>\n",
       "  <th>Tags_Diploma holder (not eligible)</th>       <td>   -3.0007</td> <td>    1.023</td> <td>   -2.932</td> <td> 0.003</td> <td>   -5.006</td> <td>   -0.995</td>\n",
       "</tr>\n",
       "<tr>\n",
       "  <th>Tags_Interested  in full time mba</th>        <td>   -2.7293</td> <td>    0.730</td> <td>   -3.740</td> <td> 0.000</td> <td>   -4.160</td> <td>   -1.299</td>\n",
       "</tr>\n",
       "<tr>\n",
       "  <th>Tags_Interested in other courses</th>         <td>   -2.4577</td> <td>    0.318</td> <td>   -7.730</td> <td> 0.000</td> <td>   -3.081</td> <td>   -1.835</td>\n",
       "</tr>\n",
       "<tr>\n",
       "  <th>Tags_Invalid number</th>                      <td>  -23.2232</td> <td> 1.67e+04</td> <td>   -0.001</td> <td> 0.999</td> <td>-3.27e+04</td> <td> 3.26e+04</td>\n",
       "</tr>\n",
       "<tr>\n",
       "  <th>Tags_Lost to eins</th>                        <td>    5.0873</td> <td>    0.721</td> <td>    7.058</td> <td> 0.000</td> <td>    3.675</td> <td>    6.500</td>\n",
       "</tr>\n",
       "<tr>\n",
       "  <th>Tags_Not doing further education</th>         <td>   -3.5775</td> <td>    1.015</td> <td>   -3.524</td> <td> 0.000</td> <td>   -5.567</td> <td>   -1.588</td>\n",
       "</tr>\n",
       "<tr>\n",
       "  <th>Tags_Number not provided</th>                 <td>  -23.9428</td> <td> 2.79e+04</td> <td>   -0.001</td> <td> 0.999</td> <td>-5.48e+04</td> <td> 5.47e+04</td>\n",
       "</tr>\n",
       "<tr>\n",
       "  <th>Tags_Ringing</th>                             <td>   -2.7678</td> <td>    0.238</td> <td>  -11.629</td> <td> 0.000</td> <td>   -3.234</td> <td>   -2.301</td>\n",
       "</tr>\n",
       "<tr>\n",
       "  <th>Tags_Switched off</th>                        <td>   -2.6284</td> <td>    0.519</td> <td>   -5.065</td> <td> 0.000</td> <td>   -3.646</td> <td>   -1.611</td>\n",
       "</tr>\n",
       "<tr>\n",
       "  <th>Tags_Will revert after reading the email</th> <td>    4.8588</td> <td>    0.182</td> <td>   26.739</td> <td> 0.000</td> <td>    4.503</td> <td>    5.215</td>\n",
       "</tr>\n",
       "<tr>\n",
       "  <th>Tags_Wrong number given</th>                  <td>  -23.5944</td> <td> 2.22e+04</td> <td>   -0.001</td> <td> 0.999</td> <td>-4.36e+04</td> <td> 4.35e+04</td>\n",
       "</tr>\n",
       "<tr>\n",
       "  <th>Lead Source_Welingak website</th>             <td>    5.5876</td> <td>    0.720</td> <td>    7.760</td> <td> 0.000</td> <td>    4.176</td> <td>    6.999</td>\n",
       "</tr>\n",
       "</table>"
      ],
      "text/plain": [
       "<class 'statsmodels.iolib.summary.Summary'>\n",
       "\"\"\"\n",
       "                 Generalized Linear Model Regression Results                  \n",
       "==============================================================================\n",
       "Dep. Variable:              Converted   No. Observations:                 6351\n",
       "Model:                            GLM   Df Residuals:                     6335\n",
       "Model Family:                Binomial   Df Model:                           15\n",
       "Link Function:                  logit   Scale:                          1.0000\n",
       "Method:                          IRLS   Log-Likelihood:                -1550.8\n",
       "Date:                Sun, 07 Feb 2021   Deviance:                       3101.6\n",
       "Time:                        14:01:05   Pearson chi2:                 6.13e+03\n",
       "No. Iterations:                    23                                         \n",
       "Covariance Type:            nonrobust                                         \n",
       "============================================================================================================\n",
       "                                               coef    std err          z      P>|z|      [0.025      0.975]\n",
       "------------------------------------------------------------------------------------------------------------\n",
       "const                                       -1.9942      0.070    -28.446      0.000      -2.132      -1.857\n",
       "Total Time Spent on Website                  3.7442      0.190     19.737      0.000       3.372       4.116\n",
       "Tags_Already a student                      -3.9735      0.715     -5.554      0.000      -5.376      -2.571\n",
       "Tags_Closed by horizzon                      6.0075      0.715      8.403      0.000       4.606       7.409\n",
       "Tags_Diploma holder (not eligible)          -3.0007      1.023     -2.932      0.003      -5.006      -0.995\n",
       "Tags_Interested  in full time mba           -2.7293      0.730     -3.740      0.000      -4.160      -1.299\n",
       "Tags_Interested in other courses            -2.4577      0.318     -7.730      0.000      -3.081      -1.835\n",
       "Tags_Invalid number                        -23.2232   1.67e+04     -0.001      0.999   -3.27e+04    3.26e+04\n",
       "Tags_Lost to eins                            5.0873      0.721      7.058      0.000       3.675       6.500\n",
       "Tags_Not doing further education            -3.5775      1.015     -3.524      0.000      -5.567      -1.588\n",
       "Tags_Number not provided                   -23.9428   2.79e+04     -0.001      0.999   -5.48e+04    5.47e+04\n",
       "Tags_Ringing                                -2.7678      0.238    -11.629      0.000      -3.234      -2.301\n",
       "Tags_Switched off                           -2.6284      0.519     -5.065      0.000      -3.646      -1.611\n",
       "Tags_Will revert after reading the email     4.8588      0.182     26.739      0.000       4.503       5.215\n",
       "Tags_Wrong number given                    -23.5944   2.22e+04     -0.001      0.999   -4.36e+04    4.35e+04\n",
       "Lead Source_Welingak website                 5.5876      0.720      7.760      0.000       4.176       6.999\n",
       "============================================================================================================\n",
       "\"\"\""
      ]
     },
     "execution_count": 96,
     "metadata": {},
     "output_type": "execute_result"
    }
   ],
   "source": [
    "x_train_rfe=sm.add_constant(x_train[col_rfe])\n",
    "logm=sm.GLM(y_train,x_train_rfe,family=sm.families.Binomial())\n",
    "res=logm.fit()\n",
    "res.summary()"
   ]
  },
  {
   "cell_type": "code",
   "execution_count": 97,
   "metadata": {},
   "outputs": [
    {
     "data": {
      "text/plain": [
       "3009    0.209742\n",
       "1012    0.157804\n",
       "9226    0.008476\n",
       "4750    0.581014\n",
       "7987    0.996850\n",
       "1281    0.989224\n",
       "2880    0.120520\n",
       "4971    0.637790\n",
       "7536    0.997958\n",
       "1248    0.095865\n",
       "dtype: float64"
      ]
     },
     "execution_count": 97,
     "metadata": {},
     "output_type": "execute_result"
    }
   ],
   "source": [
    "# Getting the predicted values on the train set\n",
    "y_train_pred = res.predict(x_train_rfe)\n",
    "y_train_pred[:10]"
   ]
  },
  {
   "cell_type": "code",
   "execution_count": 98,
   "metadata": {},
   "outputs": [
    {
     "data": {
      "text/plain": [
       "array([0.20974188, 0.15780399, 0.00847595, 0.5810143 , 0.99685041,\n",
       "       0.98922427, 0.12052013, 0.63778995, 0.99795752, 0.09586531])"
      ]
     },
     "execution_count": 98,
     "metadata": {},
     "output_type": "execute_result"
    }
   ],
   "source": [
    "y_train_pred = y_train_pred.values.reshape(-1)\n",
    "y_train_pred[:10]"
   ]
  },
  {
   "cell_type": "code",
   "execution_count": 99,
   "metadata": {},
   "outputs": [
    {
     "data": {
      "text/html": [
       "<div>\n",
       "<style scoped>\n",
       "    .dataframe tbody tr th:only-of-type {\n",
       "        vertical-align: middle;\n",
       "    }\n",
       "\n",
       "    .dataframe tbody tr th {\n",
       "        vertical-align: top;\n",
       "    }\n",
       "\n",
       "    .dataframe thead th {\n",
       "        text-align: right;\n",
       "    }\n",
       "</style>\n",
       "<table border=\"1\" class=\"dataframe\">\n",
       "  <thead>\n",
       "    <tr style=\"text-align: right;\">\n",
       "      <th></th>\n",
       "      <th>Converted</th>\n",
       "      <th>Conversion_Prob</th>\n",
       "      <th>LeadID</th>\n",
       "    </tr>\n",
       "  </thead>\n",
       "  <tbody>\n",
       "    <tr>\n",
       "      <td>0</td>\n",
       "      <td>0</td>\n",
       "      <td>0.209742</td>\n",
       "      <td>3009</td>\n",
       "    </tr>\n",
       "    <tr>\n",
       "      <td>1</td>\n",
       "      <td>0</td>\n",
       "      <td>0.157804</td>\n",
       "      <td>1012</td>\n",
       "    </tr>\n",
       "    <tr>\n",
       "      <td>2</td>\n",
       "      <td>0</td>\n",
       "      <td>0.008476</td>\n",
       "      <td>9226</td>\n",
       "    </tr>\n",
       "    <tr>\n",
       "      <td>3</td>\n",
       "      <td>1</td>\n",
       "      <td>0.581014</td>\n",
       "      <td>4750</td>\n",
       "    </tr>\n",
       "    <tr>\n",
       "      <td>4</td>\n",
       "      <td>1</td>\n",
       "      <td>0.996850</td>\n",
       "      <td>7987</td>\n",
       "    </tr>\n",
       "  </tbody>\n",
       "</table>\n",
       "</div>"
      ],
      "text/plain": [
       "   Converted  Conversion_Prob  LeadID\n",
       "0          0         0.209742    3009\n",
       "1          0         0.157804    1012\n",
       "2          0         0.008476    9226\n",
       "3          1         0.581014    4750\n",
       "4          1         0.996850    7987"
      ]
     },
     "execution_count": 99,
     "metadata": {},
     "output_type": "execute_result"
    }
   ],
   "source": [
    "y_train_pred_final = pd.DataFrame({'Converted':y_train.values, 'Conversion_Prob':y_train_pred})\n",
    "y_train_pred_final['LeadID'] = y_train.index\n",
    "y_train_pred_final.head()"
   ]
  },
  {
   "cell_type": "code",
   "execution_count": 100,
   "metadata": {},
   "outputs": [
    {
     "data": {
      "text/html": [
       "<div>\n",
       "<style scoped>\n",
       "    .dataframe tbody tr th:only-of-type {\n",
       "        vertical-align: middle;\n",
       "    }\n",
       "\n",
       "    .dataframe tbody tr th {\n",
       "        vertical-align: top;\n",
       "    }\n",
       "\n",
       "    .dataframe thead th {\n",
       "        text-align: right;\n",
       "    }\n",
       "</style>\n",
       "<table border=\"1\" class=\"dataframe\">\n",
       "  <thead>\n",
       "    <tr style=\"text-align: right;\">\n",
       "      <th></th>\n",
       "      <th>Converted</th>\n",
       "      <th>Conversion_Prob</th>\n",
       "      <th>LeadID</th>\n",
       "      <th>predicted</th>\n",
       "    </tr>\n",
       "  </thead>\n",
       "  <tbody>\n",
       "    <tr>\n",
       "      <td>0</td>\n",
       "      <td>0</td>\n",
       "      <td>0.209742</td>\n",
       "      <td>3009</td>\n",
       "      <td>0</td>\n",
       "    </tr>\n",
       "    <tr>\n",
       "      <td>1</td>\n",
       "      <td>0</td>\n",
       "      <td>0.157804</td>\n",
       "      <td>1012</td>\n",
       "      <td>0</td>\n",
       "    </tr>\n",
       "    <tr>\n",
       "      <td>2</td>\n",
       "      <td>0</td>\n",
       "      <td>0.008476</td>\n",
       "      <td>9226</td>\n",
       "      <td>0</td>\n",
       "    </tr>\n",
       "    <tr>\n",
       "      <td>3</td>\n",
       "      <td>1</td>\n",
       "      <td>0.581014</td>\n",
       "      <td>4750</td>\n",
       "      <td>1</td>\n",
       "    </tr>\n",
       "    <tr>\n",
       "      <td>4</td>\n",
       "      <td>1</td>\n",
       "      <td>0.996850</td>\n",
       "      <td>7987</td>\n",
       "      <td>1</td>\n",
       "    </tr>\n",
       "  </tbody>\n",
       "</table>\n",
       "</div>"
      ],
      "text/plain": [
       "   Converted  Conversion_Prob  LeadID  predicted\n",
       "0          0         0.209742    3009          0\n",
       "1          0         0.157804    1012          0\n",
       "2          0         0.008476    9226          0\n",
       "3          1         0.581014    4750          1\n",
       "4          1         0.996850    7987          1"
      ]
     },
     "execution_count": 100,
     "metadata": {},
     "output_type": "execute_result"
    }
   ],
   "source": [
    "y_train_pred_final['predicted'] = y_train_pred_final.Conversion_Prob.map(lambda x: 1 if x > 0.5 else 0)\n",
    "\n",
    "# Let's see the head\n",
    "y_train_pred_final.head()"
   ]
  },
  {
   "cell_type": "code",
   "execution_count": 101,
   "metadata": {},
   "outputs": [],
   "source": [
    "from sklearn import metrics"
   ]
  },
  {
   "cell_type": "code",
   "execution_count": 102,
   "metadata": {},
   "outputs": [
    {
     "name": "stdout",
     "output_type": "stream",
     "text": [
      "[[3727  178]\n",
      " [ 453 1993]]\n"
     ]
    }
   ],
   "source": [
    "# Confusion matrix \n",
    "confusion = metrics.confusion_matrix(y_train_pred_final.Converted, y_train_pred_final.predicted )\n",
    "print(confusion)"
   ]
  },
  {
   "cell_type": "code",
   "execution_count": 103,
   "metadata": {},
   "outputs": [
    {
     "name": "stdout",
     "output_type": "stream",
     "text": [
      "0.9006455676271453\n"
     ]
    }
   ],
   "source": [
    "# Let's check the overall accuracy.\n",
    "print(metrics.accuracy_score(y_train_pred_final.Converted, y_train_pred_final.predicted))"
   ]
  },
  {
   "cell_type": "code",
   "execution_count": 104,
   "metadata": {},
   "outputs": [],
   "source": [
    "from statsmodels.stats.outliers_influence import variance_inflation_factor"
   ]
  },
  {
   "cell_type": "code",
   "execution_count": 105,
   "metadata": {},
   "outputs": [
    {
     "data": {
      "text/html": [
       "<div>\n",
       "<style scoped>\n",
       "    .dataframe tbody tr th:only-of-type {\n",
       "        vertical-align: middle;\n",
       "    }\n",
       "\n",
       "    .dataframe tbody tr th {\n",
       "        vertical-align: top;\n",
       "    }\n",
       "\n",
       "    .dataframe thead th {\n",
       "        text-align: right;\n",
       "    }\n",
       "</style>\n",
       "<table border=\"1\" class=\"dataframe\">\n",
       "  <thead>\n",
       "    <tr style=\"text-align: right;\">\n",
       "      <th></th>\n",
       "      <th>Features</th>\n",
       "      <th>VIF</th>\n",
       "    </tr>\n",
       "  </thead>\n",
       "  <tbody>\n",
       "    <tr>\n",
       "      <td>0</td>\n",
       "      <td>Total Time Spent on Website</td>\n",
       "      <td>1.59</td>\n",
       "    </tr>\n",
       "    <tr>\n",
       "      <td>12</td>\n",
       "      <td>Tags_Will revert after reading the email</td>\n",
       "      <td>1.38</td>\n",
       "    </tr>\n",
       "    <tr>\n",
       "      <td>10</td>\n",
       "      <td>Tags_Ringing</td>\n",
       "      <td>1.06</td>\n",
       "    </tr>\n",
       "    <tr>\n",
       "      <td>2</td>\n",
       "      <td>Tags_Closed by horizzon</td>\n",
       "      <td>1.04</td>\n",
       "    </tr>\n",
       "    <tr>\n",
       "      <td>7</td>\n",
       "      <td>Tags_Lost to eins</td>\n",
       "      <td>1.03</td>\n",
       "    </tr>\n",
       "    <tr>\n",
       "      <td>1</td>\n",
       "      <td>Tags_Already a student</td>\n",
       "      <td>1.02</td>\n",
       "    </tr>\n",
       "    <tr>\n",
       "      <td>5</td>\n",
       "      <td>Tags_Interested in other courses</td>\n",
       "      <td>1.02</td>\n",
       "    </tr>\n",
       "    <tr>\n",
       "      <td>4</td>\n",
       "      <td>Tags_Interested  in full time mba</td>\n",
       "      <td>1.01</td>\n",
       "    </tr>\n",
       "    <tr>\n",
       "      <td>8</td>\n",
       "      <td>Tags_Not doing further education</td>\n",
       "      <td>1.01</td>\n",
       "    </tr>\n",
       "    <tr>\n",
       "      <td>11</td>\n",
       "      <td>Tags_Switched off</td>\n",
       "      <td>1.01</td>\n",
       "    </tr>\n",
       "    <tr>\n",
       "      <td>14</td>\n",
       "      <td>Lead Source_Welingak website</td>\n",
       "      <td>1.01</td>\n",
       "    </tr>\n",
       "    <tr>\n",
       "      <td>3</td>\n",
       "      <td>Tags_Diploma holder (not eligible)</td>\n",
       "      <td>1.00</td>\n",
       "    </tr>\n",
       "    <tr>\n",
       "      <td>6</td>\n",
       "      <td>Tags_Invalid number</td>\n",
       "      <td>1.00</td>\n",
       "    </tr>\n",
       "    <tr>\n",
       "      <td>9</td>\n",
       "      <td>Tags_Number not provided</td>\n",
       "      <td>1.00</td>\n",
       "    </tr>\n",
       "    <tr>\n",
       "      <td>13</td>\n",
       "      <td>Tags_Wrong number given</td>\n",
       "      <td>1.00</td>\n",
       "    </tr>\n",
       "  </tbody>\n",
       "</table>\n",
       "</div>"
      ],
      "text/plain": [
       "                                    Features   VIF\n",
       "0                Total Time Spent on Website  1.59\n",
       "12  Tags_Will revert after reading the email  1.38\n",
       "10                              Tags_Ringing  1.06\n",
       "2                    Tags_Closed by horizzon  1.04\n",
       "7                          Tags_Lost to eins  1.03\n",
       "1                     Tags_Already a student  1.02\n",
       "5           Tags_Interested in other courses  1.02\n",
       "4          Tags_Interested  in full time mba  1.01\n",
       "8           Tags_Not doing further education  1.01\n",
       "11                         Tags_Switched off  1.01\n",
       "14              Lead Source_Welingak website  1.01\n",
       "3         Tags_Diploma holder (not eligible)  1.00\n",
       "6                        Tags_Invalid number  1.00\n",
       "9                   Tags_Number not provided  1.00\n",
       "13                   Tags_Wrong number given  1.00"
      ]
     },
     "execution_count": 105,
     "metadata": {},
     "output_type": "execute_result"
    }
   ],
   "source": [
    "# Create a dataframe that will contain the names of all the feature variables and their respective VIFs\n",
    "vif = pd.DataFrame()\n",
    "vif['Features'] = x_train[col_rfe].columns\n",
    "vif['VIF'] = [variance_inflation_factor(x_train[col_rfe].values, i) for i in range(x_train[col_rfe].shape[1])]\n",
    "vif['VIF'] = round(vif['VIF'], 2)\n",
    "vif = vif.sort_values(by = \"VIF\", ascending = False)\n",
    "vif"
   ]
  },
  {
   "cell_type": "markdown",
   "metadata": {},
   "source": [
    "## Dropping the Variable and Updating the Model\n",
    "As you can notice some of the variable have high VIF values as well as high p-values. Such variables are insignificant and should be dropped."
   ]
  },
  {
   "cell_type": "code",
   "execution_count": 106,
   "metadata": {},
   "outputs": [],
   "source": [
    "col_rfe=col_rfe.drop('Tags_Invalid number')"
   ]
  },
  {
   "cell_type": "code",
   "execution_count": 107,
   "metadata": {},
   "outputs": [
    {
     "data": {
      "text/html": [
       "<table class=\"simpletable\">\n",
       "<caption>Generalized Linear Model Regression Results</caption>\n",
       "<tr>\n",
       "  <th>Dep. Variable:</th>       <td>Converted</td>    <th>  No. Observations:  </th>  <td>  6351</td> \n",
       "</tr>\n",
       "<tr>\n",
       "  <th>Model:</th>                  <td>GLM</td>       <th>  Df Residuals:      </th>  <td>  6336</td> \n",
       "</tr>\n",
       "<tr>\n",
       "  <th>Model Family:</th>        <td>Binomial</td>     <th>  Df Model:          </th>  <td>    14</td> \n",
       "</tr>\n",
       "<tr>\n",
       "  <th>Link Function:</th>         <td>logit</td>      <th>  Scale:             </th> <td>  1.0000</td>\n",
       "</tr>\n",
       "<tr>\n",
       "  <th>Method:</th>                <td>IRLS</td>       <th>  Log-Likelihood:    </th> <td> -1563.9</td>\n",
       "</tr>\n",
       "<tr>\n",
       "  <th>Date:</th>            <td>Sun, 07 Feb 2021</td> <th>  Deviance:          </th> <td>  3127.8</td>\n",
       "</tr>\n",
       "<tr>\n",
       "  <th>Time:</th>                <td>14:01:06</td>     <th>  Pearson chi2:      </th> <td>6.20e+03</td>\n",
       "</tr>\n",
       "<tr>\n",
       "  <th>No. Iterations:</th>         <td>23</td>        <th>                     </th>     <td> </td>   \n",
       "</tr>\n",
       "<tr>\n",
       "  <th>Covariance Type:</th>     <td>nonrobust</td>    <th>                     </th>     <td> </td>   \n",
       "</tr>\n",
       "</table>\n",
       "<table class=\"simpletable\">\n",
       "<tr>\n",
       "                      <td></td>                        <th>coef</th>     <th>std err</th>      <th>z</th>      <th>P>|z|</th>  <th>[0.025</th>    <th>0.975]</th>  \n",
       "</tr>\n",
       "<tr>\n",
       "  <th>const</th>                                    <td>   -2.0273</td> <td>    0.070</td> <td>  -28.959</td> <td> 0.000</td> <td>   -2.165</td> <td>   -1.890</td>\n",
       "</tr>\n",
       "<tr>\n",
       "  <th>Total Time Spent on Website</th>              <td>    3.7597</td> <td>    0.189</td> <td>   19.874</td> <td> 0.000</td> <td>    3.389</td> <td>    4.130</td>\n",
       "</tr>\n",
       "<tr>\n",
       "  <th>Tags_Already a student</th>                   <td>   -3.9462</td> <td>    0.715</td> <td>   -5.516</td> <td> 0.000</td> <td>   -5.348</td> <td>   -2.544</td>\n",
       "</tr>\n",
       "<tr>\n",
       "  <th>Tags_Closed by horizzon</th>                  <td>    6.0393</td> <td>    0.715</td> <td>    8.448</td> <td> 0.000</td> <td>    4.638</td> <td>    7.440</td>\n",
       "</tr>\n",
       "<tr>\n",
       "  <th>Tags_Diploma holder (not eligible)</th>       <td>   -2.9735</td> <td>    1.023</td> <td>   -2.906</td> <td> 0.004</td> <td>   -4.979</td> <td>   -0.968</td>\n",
       "</tr>\n",
       "<tr>\n",
       "  <th>Tags_Interested  in full time mba</th>        <td>   -2.7022</td> <td>    0.730</td> <td>   -3.702</td> <td> 0.000</td> <td>   -4.133</td> <td>   -1.272</td>\n",
       "</tr>\n",
       "<tr>\n",
       "  <th>Tags_Interested in other courses</th>         <td>   -2.4303</td> <td>    0.318</td> <td>   -7.643</td> <td> 0.000</td> <td>   -3.054</td> <td>   -1.807</td>\n",
       "</tr>\n",
       "<tr>\n",
       "  <th>Tags_Lost to eins</th>                        <td>    5.1182</td> <td>    0.721</td> <td>    7.101</td> <td> 0.000</td> <td>    3.705</td> <td>    6.531</td>\n",
       "</tr>\n",
       "<tr>\n",
       "  <th>Tags_Not doing further education</th>         <td>   -3.5505</td> <td>    1.015</td> <td>   -3.497</td> <td> 0.000</td> <td>   -5.540</td> <td>   -1.561</td>\n",
       "</tr>\n",
       "<tr>\n",
       "  <th>Tags_Number not provided</th>                 <td>  -23.9168</td> <td> 2.79e+04</td> <td>   -0.001</td> <td> 0.999</td> <td>-5.47e+04</td> <td> 5.47e+04</td>\n",
       "</tr>\n",
       "<tr>\n",
       "  <th>Tags_Ringing</th>                             <td>   -2.7410</td> <td>    0.238</td> <td>  -11.517</td> <td> 0.000</td> <td>   -3.207</td> <td>   -2.275</td>\n",
       "</tr>\n",
       "<tr>\n",
       "  <th>Tags_Switched off</th>                        <td>   -2.6010</td> <td>    0.519</td> <td>   -5.011</td> <td> 0.000</td> <td>   -3.618</td> <td>   -1.584</td>\n",
       "</tr>\n",
       "<tr>\n",
       "  <th>Tags_Will revert after reading the email</th> <td>    4.8900</td> <td>    0.182</td> <td>   26.913</td> <td> 0.000</td> <td>    4.534</td> <td>    5.246</td>\n",
       "</tr>\n",
       "<tr>\n",
       "  <th>Tags_Wrong number given</th>                  <td>  -23.5667</td> <td> 2.22e+04</td> <td>   -0.001</td> <td> 0.999</td> <td>-4.35e+04</td> <td> 4.35e+04</td>\n",
       "</tr>\n",
       "<tr>\n",
       "  <th>Lead Source_Welingak website</th>             <td>    5.6206</td> <td>    0.720</td> <td>    7.806</td> <td> 0.000</td> <td>    4.209</td> <td>    7.032</td>\n",
       "</tr>\n",
       "</table>"
      ],
      "text/plain": [
       "<class 'statsmodels.iolib.summary.Summary'>\n",
       "\"\"\"\n",
       "                 Generalized Linear Model Regression Results                  \n",
       "==============================================================================\n",
       "Dep. Variable:              Converted   No. Observations:                 6351\n",
       "Model:                            GLM   Df Residuals:                     6336\n",
       "Model Family:                Binomial   Df Model:                           14\n",
       "Link Function:                  logit   Scale:                          1.0000\n",
       "Method:                          IRLS   Log-Likelihood:                -1563.9\n",
       "Date:                Sun, 07 Feb 2021   Deviance:                       3127.8\n",
       "Time:                        14:01:06   Pearson chi2:                 6.20e+03\n",
       "No. Iterations:                    23                                         \n",
       "Covariance Type:            nonrobust                                         \n",
       "============================================================================================================\n",
       "                                               coef    std err          z      P>|z|      [0.025      0.975]\n",
       "------------------------------------------------------------------------------------------------------------\n",
       "const                                       -2.0273      0.070    -28.959      0.000      -2.165      -1.890\n",
       "Total Time Spent on Website                  3.7597      0.189     19.874      0.000       3.389       4.130\n",
       "Tags_Already a student                      -3.9462      0.715     -5.516      0.000      -5.348      -2.544\n",
       "Tags_Closed by horizzon                      6.0393      0.715      8.448      0.000       4.638       7.440\n",
       "Tags_Diploma holder (not eligible)          -2.9735      1.023     -2.906      0.004      -4.979      -0.968\n",
       "Tags_Interested  in full time mba           -2.7022      0.730     -3.702      0.000      -4.133      -1.272\n",
       "Tags_Interested in other courses            -2.4303      0.318     -7.643      0.000      -3.054      -1.807\n",
       "Tags_Lost to eins                            5.1182      0.721      7.101      0.000       3.705       6.531\n",
       "Tags_Not doing further education            -3.5505      1.015     -3.497      0.000      -5.540      -1.561\n",
       "Tags_Number not provided                   -23.9168   2.79e+04     -0.001      0.999   -5.47e+04    5.47e+04\n",
       "Tags_Ringing                                -2.7410      0.238    -11.517      0.000      -3.207      -2.275\n",
       "Tags_Switched off                           -2.6010      0.519     -5.011      0.000      -3.618      -1.584\n",
       "Tags_Will revert after reading the email     4.8900      0.182     26.913      0.000       4.534       5.246\n",
       "Tags_Wrong number given                    -23.5667   2.22e+04     -0.001      0.999   -4.35e+04    4.35e+04\n",
       "Lead Source_Welingak website                 5.6206      0.720      7.806      0.000       4.209       7.032\n",
       "============================================================================================================\n",
       "\"\"\""
      ]
     },
     "execution_count": 107,
     "metadata": {},
     "output_type": "execute_result"
    }
   ],
   "source": [
    "x_train_rfe=sm.add_constant(x_train_rfe[col_rfe])\n",
    "logm=sm.GLM(y_train,x_train_rfe, family=sm.families.Binomial())\n",
    "res=logm.fit()\n",
    "res.summary()"
   ]
  },
  {
   "cell_type": "code",
   "execution_count": 108,
   "metadata": {},
   "outputs": [
    {
     "data": {
      "text/plain": [
       "3009    0.204758\n",
       "1012    0.153627\n",
       "9226    0.008423\n",
       "4750    0.575287\n",
       "7987    0.996878\n",
       "1281    0.989277\n",
       "2880    0.117058\n",
       "4971    0.632578\n",
       "7536    0.997982\n",
       "1248    0.096223\n",
       "dtype: float64"
      ]
     },
     "execution_count": 108,
     "metadata": {},
     "output_type": "execute_result"
    }
   ],
   "source": [
    "# Getting the predicted values on the train set\n",
    "y_train_pred = res.predict(x_train_rfe)\n",
    "y_train_pred[:10]"
   ]
  },
  {
   "cell_type": "code",
   "execution_count": 109,
   "metadata": {},
   "outputs": [
    {
     "data": {
      "text/plain": [
       "array([0.20475831, 0.15362664, 0.00842308, 0.57528694, 0.9968781 ,\n",
       "       0.98927685, 0.11705838, 0.63257761, 0.99798158, 0.09622312])"
      ]
     },
     "execution_count": 109,
     "metadata": {},
     "output_type": "execute_result"
    }
   ],
   "source": [
    "y_train_pred = y_train_pred.values.reshape(-1)\n",
    "y_train_pred[:10]"
   ]
  },
  {
   "cell_type": "code",
   "execution_count": 110,
   "metadata": {},
   "outputs": [
    {
     "data": {
      "text/html": [
       "<div>\n",
       "<style scoped>\n",
       "    .dataframe tbody tr th:only-of-type {\n",
       "        vertical-align: middle;\n",
       "    }\n",
       "\n",
       "    .dataframe tbody tr th {\n",
       "        vertical-align: top;\n",
       "    }\n",
       "\n",
       "    .dataframe thead th {\n",
       "        text-align: right;\n",
       "    }\n",
       "</style>\n",
       "<table border=\"1\" class=\"dataframe\">\n",
       "  <thead>\n",
       "    <tr style=\"text-align: right;\">\n",
       "      <th></th>\n",
       "      <th>Converted</th>\n",
       "      <th>Conversion_Prob</th>\n",
       "      <th>LeadID</th>\n",
       "    </tr>\n",
       "  </thead>\n",
       "  <tbody>\n",
       "    <tr>\n",
       "      <td>0</td>\n",
       "      <td>0</td>\n",
       "      <td>0.204758</td>\n",
       "      <td>3009</td>\n",
       "    </tr>\n",
       "    <tr>\n",
       "      <td>1</td>\n",
       "      <td>0</td>\n",
       "      <td>0.153627</td>\n",
       "      <td>1012</td>\n",
       "    </tr>\n",
       "    <tr>\n",
       "      <td>2</td>\n",
       "      <td>0</td>\n",
       "      <td>0.008423</td>\n",
       "      <td>9226</td>\n",
       "    </tr>\n",
       "    <tr>\n",
       "      <td>3</td>\n",
       "      <td>1</td>\n",
       "      <td>0.575287</td>\n",
       "      <td>4750</td>\n",
       "    </tr>\n",
       "    <tr>\n",
       "      <td>4</td>\n",
       "      <td>1</td>\n",
       "      <td>0.996878</td>\n",
       "      <td>7987</td>\n",
       "    </tr>\n",
       "  </tbody>\n",
       "</table>\n",
       "</div>"
      ],
      "text/plain": [
       "   Converted  Conversion_Prob  LeadID\n",
       "0          0         0.204758    3009\n",
       "1          0         0.153627    1012\n",
       "2          0         0.008423    9226\n",
       "3          1         0.575287    4750\n",
       "4          1         0.996878    7987"
      ]
     },
     "execution_count": 110,
     "metadata": {},
     "output_type": "execute_result"
    }
   ],
   "source": [
    "y_train_pred_final = pd.DataFrame({'Converted':y_train.values, 'Conversion_Prob':y_train_pred})\n",
    "y_train_pred_final['LeadID'] = y_train.index\n",
    "y_train_pred_final.head()"
   ]
  },
  {
   "cell_type": "code",
   "execution_count": 111,
   "metadata": {},
   "outputs": [
    {
     "data": {
      "text/html": [
       "<div>\n",
       "<style scoped>\n",
       "    .dataframe tbody tr th:only-of-type {\n",
       "        vertical-align: middle;\n",
       "    }\n",
       "\n",
       "    .dataframe tbody tr th {\n",
       "        vertical-align: top;\n",
       "    }\n",
       "\n",
       "    .dataframe thead th {\n",
       "        text-align: right;\n",
       "    }\n",
       "</style>\n",
       "<table border=\"1\" class=\"dataframe\">\n",
       "  <thead>\n",
       "    <tr style=\"text-align: right;\">\n",
       "      <th></th>\n",
       "      <th>Converted</th>\n",
       "      <th>Conversion_Prob</th>\n",
       "      <th>LeadID</th>\n",
       "      <th>predicted</th>\n",
       "    </tr>\n",
       "  </thead>\n",
       "  <tbody>\n",
       "    <tr>\n",
       "      <td>0</td>\n",
       "      <td>0</td>\n",
       "      <td>0.204758</td>\n",
       "      <td>3009</td>\n",
       "      <td>0</td>\n",
       "    </tr>\n",
       "    <tr>\n",
       "      <td>1</td>\n",
       "      <td>0</td>\n",
       "      <td>0.153627</td>\n",
       "      <td>1012</td>\n",
       "      <td>0</td>\n",
       "    </tr>\n",
       "    <tr>\n",
       "      <td>2</td>\n",
       "      <td>0</td>\n",
       "      <td>0.008423</td>\n",
       "      <td>9226</td>\n",
       "      <td>0</td>\n",
       "    </tr>\n",
       "    <tr>\n",
       "      <td>3</td>\n",
       "      <td>1</td>\n",
       "      <td>0.575287</td>\n",
       "      <td>4750</td>\n",
       "      <td>1</td>\n",
       "    </tr>\n",
       "    <tr>\n",
       "      <td>4</td>\n",
       "      <td>1</td>\n",
       "      <td>0.996878</td>\n",
       "      <td>7987</td>\n",
       "      <td>1</td>\n",
       "    </tr>\n",
       "  </tbody>\n",
       "</table>\n",
       "</div>"
      ],
      "text/plain": [
       "   Converted  Conversion_Prob  LeadID  predicted\n",
       "0          0         0.204758    3009          0\n",
       "1          0         0.153627    1012          0\n",
       "2          0         0.008423    9226          0\n",
       "3          1         0.575287    4750          1\n",
       "4          1         0.996878    7987          1"
      ]
     },
     "execution_count": 111,
     "metadata": {},
     "output_type": "execute_result"
    }
   ],
   "source": [
    "y_train_pred_final['predicted'] = y_train_pred_final.Conversion_Prob.map(lambda x: 1 if x > 0.5 else 0)\n",
    "\n",
    "# Let's see the head\n",
    "y_train_pred_final.head()"
   ]
  },
  {
   "cell_type": "code",
   "execution_count": 112,
   "metadata": {},
   "outputs": [
    {
     "name": "stdout",
     "output_type": "stream",
     "text": [
      "[[3729  176]\n",
      " [ 461 1985]]\n"
     ]
    }
   ],
   "source": [
    "# Confusion matrix \n",
    "confusion = metrics.confusion_matrix(y_train_pred_final.Converted, y_train_pred_final.predicted )\n",
    "print(confusion)"
   ]
  },
  {
   "cell_type": "code",
   "execution_count": 113,
   "metadata": {},
   "outputs": [
    {
     "name": "stdout",
     "output_type": "stream",
     "text": [
      "0.8997008345142498\n"
     ]
    }
   ],
   "source": [
    "# Let's check the overall accuracy.\n",
    "print(metrics.accuracy_score(y_train_pred_final.Converted, y_train_pred_final.predicted))"
   ]
  },
  {
   "cell_type": "code",
   "execution_count": 114,
   "metadata": {},
   "outputs": [
    {
     "data": {
      "text/html": [
       "<div>\n",
       "<style scoped>\n",
       "    .dataframe tbody tr th:only-of-type {\n",
       "        vertical-align: middle;\n",
       "    }\n",
       "\n",
       "    .dataframe tbody tr th {\n",
       "        vertical-align: top;\n",
       "    }\n",
       "\n",
       "    .dataframe thead th {\n",
       "        text-align: right;\n",
       "    }\n",
       "</style>\n",
       "<table border=\"1\" class=\"dataframe\">\n",
       "  <thead>\n",
       "    <tr style=\"text-align: right;\">\n",
       "      <th></th>\n",
       "      <th>Features</th>\n",
       "      <th>VIF</th>\n",
       "    </tr>\n",
       "  </thead>\n",
       "  <tbody>\n",
       "    <tr>\n",
       "      <td>0</td>\n",
       "      <td>Total Time Spent on Website</td>\n",
       "      <td>1.58</td>\n",
       "    </tr>\n",
       "    <tr>\n",
       "      <td>11</td>\n",
       "      <td>Tags_Will revert after reading the email</td>\n",
       "      <td>1.38</td>\n",
       "    </tr>\n",
       "    <tr>\n",
       "      <td>9</td>\n",
       "      <td>Tags_Ringing</td>\n",
       "      <td>1.06</td>\n",
       "    </tr>\n",
       "    <tr>\n",
       "      <td>2</td>\n",
       "      <td>Tags_Closed by horizzon</td>\n",
       "      <td>1.04</td>\n",
       "    </tr>\n",
       "    <tr>\n",
       "      <td>6</td>\n",
       "      <td>Tags_Lost to eins</td>\n",
       "      <td>1.03</td>\n",
       "    </tr>\n",
       "    <tr>\n",
       "      <td>1</td>\n",
       "      <td>Tags_Already a student</td>\n",
       "      <td>1.02</td>\n",
       "    </tr>\n",
       "    <tr>\n",
       "      <td>5</td>\n",
       "      <td>Tags_Interested in other courses</td>\n",
       "      <td>1.02</td>\n",
       "    </tr>\n",
       "    <tr>\n",
       "      <td>4</td>\n",
       "      <td>Tags_Interested  in full time mba</td>\n",
       "      <td>1.01</td>\n",
       "    </tr>\n",
       "    <tr>\n",
       "      <td>7</td>\n",
       "      <td>Tags_Not doing further education</td>\n",
       "      <td>1.01</td>\n",
       "    </tr>\n",
       "    <tr>\n",
       "      <td>10</td>\n",
       "      <td>Tags_Switched off</td>\n",
       "      <td>1.01</td>\n",
       "    </tr>\n",
       "    <tr>\n",
       "      <td>13</td>\n",
       "      <td>Lead Source_Welingak website</td>\n",
       "      <td>1.01</td>\n",
       "    </tr>\n",
       "    <tr>\n",
       "      <td>3</td>\n",
       "      <td>Tags_Diploma holder (not eligible)</td>\n",
       "      <td>1.00</td>\n",
       "    </tr>\n",
       "    <tr>\n",
       "      <td>8</td>\n",
       "      <td>Tags_Number not provided</td>\n",
       "      <td>1.00</td>\n",
       "    </tr>\n",
       "    <tr>\n",
       "      <td>12</td>\n",
       "      <td>Tags_Wrong number given</td>\n",
       "      <td>1.00</td>\n",
       "    </tr>\n",
       "  </tbody>\n",
       "</table>\n",
       "</div>"
      ],
      "text/plain": [
       "                                    Features   VIF\n",
       "0                Total Time Spent on Website  1.58\n",
       "11  Tags_Will revert after reading the email  1.38\n",
       "9                               Tags_Ringing  1.06\n",
       "2                    Tags_Closed by horizzon  1.04\n",
       "6                          Tags_Lost to eins  1.03\n",
       "1                     Tags_Already a student  1.02\n",
       "5           Tags_Interested in other courses  1.02\n",
       "4          Tags_Interested  in full time mba  1.01\n",
       "7           Tags_Not doing further education  1.01\n",
       "10                         Tags_Switched off  1.01\n",
       "13              Lead Source_Welingak website  1.01\n",
       "3         Tags_Diploma holder (not eligible)  1.00\n",
       "8                   Tags_Number not provided  1.00\n",
       "12                   Tags_Wrong number given  1.00"
      ]
     },
     "execution_count": 114,
     "metadata": {},
     "output_type": "execute_result"
    }
   ],
   "source": [
    "# Create a dataframe that will contain the names of all the feature variables and their respective VIFs\n",
    "vif = pd.DataFrame()\n",
    "vif['Features'] = x_train[col_rfe].columns\n",
    "vif['VIF'] = [variance_inflation_factor(x_train[col_rfe].values, i) for i in range(x_train[col_rfe].shape[1])]\n",
    "vif['VIF'] = round(vif['VIF'], 2)\n",
    "vif = vif.sort_values(by = \"VIF\", ascending = False)\n",
    "vif"
   ]
  },
  {
   "cell_type": "code",
   "execution_count": 115,
   "metadata": {},
   "outputs": [],
   "source": [
    "col_rfe=col_rfe.drop(['Tags_Number not provided'])"
   ]
  },
  {
   "cell_type": "code",
   "execution_count": 116,
   "metadata": {},
   "outputs": [
    {
     "data": {
      "text/html": [
       "<table class=\"simpletable\">\n",
       "<caption>Generalized Linear Model Regression Results</caption>\n",
       "<tr>\n",
       "  <th>Dep. Variable:</th>       <td>Converted</td>    <th>  No. Observations:  </th>  <td>  6351</td> \n",
       "</tr>\n",
       "<tr>\n",
       "  <th>Model:</th>                  <td>GLM</td>       <th>  Df Residuals:      </th>  <td>  6337</td> \n",
       "</tr>\n",
       "<tr>\n",
       "  <th>Model Family:</th>        <td>Binomial</td>     <th>  Df Model:          </th>  <td>    13</td> \n",
       "</tr>\n",
       "<tr>\n",
       "  <th>Link Function:</th>         <td>logit</td>      <th>  Scale:             </th> <td>  1.0000</td>\n",
       "</tr>\n",
       "<tr>\n",
       "  <th>Method:</th>                <td>IRLS</td>       <th>  Log-Likelihood:    </th> <td> -1571.3</td>\n",
       "</tr>\n",
       "<tr>\n",
       "  <th>Date:</th>            <td>Sun, 07 Feb 2021</td> <th>  Deviance:          </th> <td>  3142.7</td>\n",
       "</tr>\n",
       "<tr>\n",
       "  <th>Time:</th>                <td>14:01:07</td>     <th>  Pearson chi2:      </th> <td>6.20e+03</td>\n",
       "</tr>\n",
       "<tr>\n",
       "  <th>No. Iterations:</th>         <td>22</td>        <th>                     </th>     <td> </td>   \n",
       "</tr>\n",
       "<tr>\n",
       "  <th>Covariance Type:</th>     <td>nonrobust</td>    <th>                     </th>     <td> </td>   \n",
       "</tr>\n",
       "</table>\n",
       "<table class=\"simpletable\">\n",
       "<tr>\n",
       "                      <td></td>                        <th>coef</th>     <th>std err</th>      <th>z</th>      <th>P>|z|</th>  <th>[0.025</th>    <th>0.975]</th>  \n",
       "</tr>\n",
       "<tr>\n",
       "  <th>const</th>                                    <td>   -2.0327</td> <td>    0.070</td> <td>  -29.069</td> <td> 0.000</td> <td>   -2.170</td> <td>   -1.896</td>\n",
       "</tr>\n",
       "<tr>\n",
       "  <th>Total Time Spent on Website</th>              <td>    3.7257</td> <td>    0.188</td> <td>   19.797</td> <td> 0.000</td> <td>    3.357</td> <td>    4.095</td>\n",
       "</tr>\n",
       "<tr>\n",
       "  <th>Tags_Already a student</th>                   <td>   -3.9280</td> <td>    0.715</td> <td>   -5.491</td> <td> 0.000</td> <td>   -5.330</td> <td>   -2.526</td>\n",
       "</tr>\n",
       "<tr>\n",
       "  <th>Tags_Closed by horizzon</th>                  <td>    6.0476</td> <td>    0.715</td> <td>    8.460</td> <td> 0.000</td> <td>    4.646</td> <td>    7.449</td>\n",
       "</tr>\n",
       "<tr>\n",
       "  <th>Tags_Diploma holder (not eligible)</th>       <td>   -2.9552</td> <td>    1.023</td> <td>   -2.888</td> <td> 0.004</td> <td>   -4.960</td> <td>   -0.950</td>\n",
       "</tr>\n",
       "<tr>\n",
       "  <th>Tags_Interested  in full time mba</th>        <td>   -2.6838</td> <td>    0.730</td> <td>   -3.678</td> <td> 0.000</td> <td>   -4.114</td> <td>   -1.254</td>\n",
       "</tr>\n",
       "<tr>\n",
       "  <th>Tags_Interested in other courses</th>         <td>   -2.4124</td> <td>    0.318</td> <td>   -7.592</td> <td> 0.000</td> <td>   -3.035</td> <td>   -1.790</td>\n",
       "</tr>\n",
       "<tr>\n",
       "  <th>Tags_Lost to eins</th>                        <td>    5.1283</td> <td>    0.721</td> <td>    7.116</td> <td> 0.000</td> <td>    3.716</td> <td>    6.541</td>\n",
       "</tr>\n",
       "<tr>\n",
       "  <th>Tags_Not doing further education</th>         <td>   -3.5317</td> <td>    1.015</td> <td>   -3.479</td> <td> 0.001</td> <td>   -5.521</td> <td>   -1.542</td>\n",
       "</tr>\n",
       "<tr>\n",
       "  <th>Tags_Ringing</th>                             <td>   -2.7218</td> <td>    0.238</td> <td>  -11.447</td> <td> 0.000</td> <td>   -3.188</td> <td>   -2.256</td>\n",
       "</tr>\n",
       "<tr>\n",
       "  <th>Tags_Switched off</th>                        <td>   -2.5832</td> <td>    0.519</td> <td>   -4.979</td> <td> 0.000</td> <td>   -3.600</td> <td>   -1.566</td>\n",
       "</tr>\n",
       "<tr>\n",
       "  <th>Tags_Will revert after reading the email</th> <td>    4.8995</td> <td>    0.182</td> <td>   26.976</td> <td> 0.000</td> <td>    4.544</td> <td>    5.256</td>\n",
       "</tr>\n",
       "<tr>\n",
       "  <th>Tags_Wrong number given</th>                  <td>  -22.5484</td> <td> 1.35e+04</td> <td>   -0.002</td> <td> 0.999</td> <td>-2.64e+04</td> <td> 2.64e+04</td>\n",
       "</tr>\n",
       "<tr>\n",
       "  <th>Lead Source_Welingak website</th>             <td>    5.6261</td> <td>    0.720</td> <td>    7.814</td> <td> 0.000</td> <td>    4.215</td> <td>    7.037</td>\n",
       "</tr>\n",
       "</table>"
      ],
      "text/plain": [
       "<class 'statsmodels.iolib.summary.Summary'>\n",
       "\"\"\"\n",
       "                 Generalized Linear Model Regression Results                  \n",
       "==============================================================================\n",
       "Dep. Variable:              Converted   No. Observations:                 6351\n",
       "Model:                            GLM   Df Residuals:                     6337\n",
       "Model Family:                Binomial   Df Model:                           13\n",
       "Link Function:                  logit   Scale:                          1.0000\n",
       "Method:                          IRLS   Log-Likelihood:                -1571.3\n",
       "Date:                Sun, 07 Feb 2021   Deviance:                       3142.7\n",
       "Time:                        14:01:07   Pearson chi2:                 6.20e+03\n",
       "No. Iterations:                    22                                         \n",
       "Covariance Type:            nonrobust                                         \n",
       "============================================================================================================\n",
       "                                               coef    std err          z      P>|z|      [0.025      0.975]\n",
       "------------------------------------------------------------------------------------------------------------\n",
       "const                                       -2.0327      0.070    -29.069      0.000      -2.170      -1.896\n",
       "Total Time Spent on Website                  3.7257      0.188     19.797      0.000       3.357       4.095\n",
       "Tags_Already a student                      -3.9280      0.715     -5.491      0.000      -5.330      -2.526\n",
       "Tags_Closed by horizzon                      6.0476      0.715      8.460      0.000       4.646       7.449\n",
       "Tags_Diploma holder (not eligible)          -2.9552      1.023     -2.888      0.004      -4.960      -0.950\n",
       "Tags_Interested  in full time mba           -2.6838      0.730     -3.678      0.000      -4.114      -1.254\n",
       "Tags_Interested in other courses            -2.4124      0.318     -7.592      0.000      -3.035      -1.790\n",
       "Tags_Lost to eins                            5.1283      0.721      7.116      0.000       3.716       6.541\n",
       "Tags_Not doing further education            -3.5317      1.015     -3.479      0.001      -5.521      -1.542\n",
       "Tags_Ringing                                -2.7218      0.238    -11.447      0.000      -3.188      -2.256\n",
       "Tags_Switched off                           -2.5832      0.519     -4.979      0.000      -3.600      -1.566\n",
       "Tags_Will revert after reading the email     4.8995      0.182     26.976      0.000       4.544       5.256\n",
       "Tags_Wrong number given                    -22.5484   1.35e+04     -0.002      0.999   -2.64e+04    2.64e+04\n",
       "Lead Source_Welingak website                 5.6261      0.720      7.814      0.000       4.215       7.037\n",
       "============================================================================================================\n",
       "\"\"\""
      ]
     },
     "execution_count": 116,
     "metadata": {},
     "output_type": "execute_result"
    }
   ],
   "source": [
    "x_train_rfe=sm.add_constant(x_train_rfe[col_rfe])\n",
    "logm=sm.GLM(y_train,x_train_rfe, family=sm.families.Binomial())\n",
    "res=logm.fit()\n",
    "res.summary()"
   ]
  },
  {
   "cell_type": "code",
   "execution_count": 117,
   "metadata": {},
   "outputs": [
    {
     "data": {
      "text/html": [
       "<div>\n",
       "<style scoped>\n",
       "    .dataframe tbody tr th:only-of-type {\n",
       "        vertical-align: middle;\n",
       "    }\n",
       "\n",
       "    .dataframe tbody tr th {\n",
       "        vertical-align: top;\n",
       "    }\n",
       "\n",
       "    .dataframe thead th {\n",
       "        text-align: right;\n",
       "    }\n",
       "</style>\n",
       "<table border=\"1\" class=\"dataframe\">\n",
       "  <thead>\n",
       "    <tr style=\"text-align: right;\">\n",
       "      <th></th>\n",
       "      <th>Converted</th>\n",
       "      <th>Conversion_Prob</th>\n",
       "      <th>LeadID</th>\n",
       "      <th>predicted</th>\n",
       "    </tr>\n",
       "  </thead>\n",
       "  <tbody>\n",
       "    <tr>\n",
       "      <td>0</td>\n",
       "      <td>0</td>\n",
       "      <td>0.202900</td>\n",
       "      <td>3009</td>\n",
       "      <td>0</td>\n",
       "    </tr>\n",
       "    <tr>\n",
       "      <td>1</td>\n",
       "      <td>0</td>\n",
       "      <td>0.152551</td>\n",
       "      <td>1012</td>\n",
       "      <td>0</td>\n",
       "    </tr>\n",
       "    <tr>\n",
       "      <td>2</td>\n",
       "      <td>0</td>\n",
       "      <td>0.008539</td>\n",
       "      <td>9226</td>\n",
       "      <td>0</td>\n",
       "    </tr>\n",
       "    <tr>\n",
       "      <td>3</td>\n",
       "      <td>1</td>\n",
       "      <td>0.568816</td>\n",
       "      <td>4750</td>\n",
       "      <td>1</td>\n",
       "    </tr>\n",
       "    <tr>\n",
       "      <td>4</td>\n",
       "      <td>1</td>\n",
       "      <td>0.996817</td>\n",
       "      <td>7987</td>\n",
       "      <td>1</td>\n",
       "    </tr>\n",
       "  </tbody>\n",
       "</table>\n",
       "</div>"
      ],
      "text/plain": [
       "   Converted  Conversion_Prob  LeadID  predicted\n",
       "0          0         0.202900    3009          0\n",
       "1          0         0.152551    1012          0\n",
       "2          0         0.008539    9226          0\n",
       "3          1         0.568816    4750          1\n",
       "4          1         0.996817    7987          1"
      ]
     },
     "execution_count": 117,
     "metadata": {},
     "output_type": "execute_result"
    }
   ],
   "source": [
    "y_train_pred = res.predict(x_train_rfe)\n",
    "y_train_pred = y_train_pred.values.reshape(-1)\n",
    "y_train_pred_final = pd.DataFrame({'Converted':y_train.values, 'Conversion_Prob':y_train_pred})\n",
    "y_train_pred_final['LeadID'] = y_train.index\n",
    "y_train_pred_final['predicted'] = y_train_pred_final.Conversion_Prob.map(lambda x: 1 if x > 0.5 else 0)\n",
    "y_train_pred_final.head()"
   ]
  },
  {
   "cell_type": "code",
   "execution_count": 118,
   "metadata": {},
   "outputs": [
    {
     "name": "stdout",
     "output_type": "stream",
     "text": [
      "[[3731  174]\n",
      " [ 468 1978]]\n"
     ]
    }
   ],
   "source": [
    "confusion = metrics.confusion_matrix(y_train_pred_final.Converted, y_train_pred_final.predicted )\n",
    "print(confusion)"
   ]
  },
  {
   "cell_type": "code",
   "execution_count": 119,
   "metadata": {},
   "outputs": [
    {
     "name": "stdout",
     "output_type": "stream",
     "text": [
      "0.89891355692017\n"
     ]
    }
   ],
   "source": [
    "print(metrics.accuracy_score(y_train_pred_final.Converted, y_train_pred_final.predicted))"
   ]
  },
  {
   "cell_type": "code",
   "execution_count": 120,
   "metadata": {},
   "outputs": [
    {
     "data": {
      "text/html": [
       "<div>\n",
       "<style scoped>\n",
       "    .dataframe tbody tr th:only-of-type {\n",
       "        vertical-align: middle;\n",
       "    }\n",
       "\n",
       "    .dataframe tbody tr th {\n",
       "        vertical-align: top;\n",
       "    }\n",
       "\n",
       "    .dataframe thead th {\n",
       "        text-align: right;\n",
       "    }\n",
       "</style>\n",
       "<table border=\"1\" class=\"dataframe\">\n",
       "  <thead>\n",
       "    <tr style=\"text-align: right;\">\n",
       "      <th></th>\n",
       "      <th>Features</th>\n",
       "      <th>VIF</th>\n",
       "    </tr>\n",
       "  </thead>\n",
       "  <tbody>\n",
       "    <tr>\n",
       "      <td>0</td>\n",
       "      <td>Total Time Spent on Website</td>\n",
       "      <td>1.58</td>\n",
       "    </tr>\n",
       "    <tr>\n",
       "      <td>10</td>\n",
       "      <td>Tags_Will revert after reading the email</td>\n",
       "      <td>1.38</td>\n",
       "    </tr>\n",
       "    <tr>\n",
       "      <td>8</td>\n",
       "      <td>Tags_Ringing</td>\n",
       "      <td>1.06</td>\n",
       "    </tr>\n",
       "    <tr>\n",
       "      <td>2</td>\n",
       "      <td>Tags_Closed by horizzon</td>\n",
       "      <td>1.04</td>\n",
       "    </tr>\n",
       "    <tr>\n",
       "      <td>6</td>\n",
       "      <td>Tags_Lost to eins</td>\n",
       "      <td>1.03</td>\n",
       "    </tr>\n",
       "    <tr>\n",
       "      <td>1</td>\n",
       "      <td>Tags_Already a student</td>\n",
       "      <td>1.02</td>\n",
       "    </tr>\n",
       "    <tr>\n",
       "      <td>5</td>\n",
       "      <td>Tags_Interested in other courses</td>\n",
       "      <td>1.02</td>\n",
       "    </tr>\n",
       "    <tr>\n",
       "      <td>4</td>\n",
       "      <td>Tags_Interested  in full time mba</td>\n",
       "      <td>1.01</td>\n",
       "    </tr>\n",
       "    <tr>\n",
       "      <td>7</td>\n",
       "      <td>Tags_Not doing further education</td>\n",
       "      <td>1.01</td>\n",
       "    </tr>\n",
       "    <tr>\n",
       "      <td>9</td>\n",
       "      <td>Tags_Switched off</td>\n",
       "      <td>1.01</td>\n",
       "    </tr>\n",
       "    <tr>\n",
       "      <td>12</td>\n",
       "      <td>Lead Source_Welingak website</td>\n",
       "      <td>1.01</td>\n",
       "    </tr>\n",
       "    <tr>\n",
       "      <td>3</td>\n",
       "      <td>Tags_Diploma holder (not eligible)</td>\n",
       "      <td>1.00</td>\n",
       "    </tr>\n",
       "    <tr>\n",
       "      <td>11</td>\n",
       "      <td>Tags_Wrong number given</td>\n",
       "      <td>1.00</td>\n",
       "    </tr>\n",
       "  </tbody>\n",
       "</table>\n",
       "</div>"
      ],
      "text/plain": [
       "                                    Features   VIF\n",
       "0                Total Time Spent on Website  1.58\n",
       "10  Tags_Will revert after reading the email  1.38\n",
       "8                               Tags_Ringing  1.06\n",
       "2                    Tags_Closed by horizzon  1.04\n",
       "6                          Tags_Lost to eins  1.03\n",
       "1                     Tags_Already a student  1.02\n",
       "5           Tags_Interested in other courses  1.02\n",
       "4          Tags_Interested  in full time mba  1.01\n",
       "7           Tags_Not doing further education  1.01\n",
       "9                          Tags_Switched off  1.01\n",
       "12              Lead Source_Welingak website  1.01\n",
       "3         Tags_Diploma holder (not eligible)  1.00\n",
       "11                   Tags_Wrong number given  1.00"
      ]
     },
     "execution_count": 120,
     "metadata": {},
     "output_type": "execute_result"
    }
   ],
   "source": [
    "vif = pd.DataFrame()\n",
    "vif['Features'] = x_train[col_rfe].columns\n",
    "vif['VIF'] = [variance_inflation_factor(x_train[col_rfe].values, i) for i in range(x_train[col_rfe].shape[1])]\n",
    "vif['VIF'] = round(vif['VIF'], 2)\n",
    "vif = vif.sort_values(by = \"VIF\", ascending = False)\n",
    "vif"
   ]
  },
  {
   "cell_type": "code",
   "execution_count": 121,
   "metadata": {},
   "outputs": [],
   "source": [
    "col_rfe=col_rfe.drop(['Tags_Wrong number given'])"
   ]
  },
  {
   "cell_type": "code",
   "execution_count": 122,
   "metadata": {},
   "outputs": [
    {
     "data": {
      "text/html": [
       "<table class=\"simpletable\">\n",
       "<caption>Generalized Linear Model Regression Results</caption>\n",
       "<tr>\n",
       "  <th>Dep. Variable:</th>       <td>Converted</td>    <th>  No. Observations:  </th>  <td>  6351</td> \n",
       "</tr>\n",
       "<tr>\n",
       "  <th>Model:</th>                  <td>GLM</td>       <th>  Df Residuals:      </th>  <td>  6338</td> \n",
       "</tr>\n",
       "<tr>\n",
       "  <th>Model Family:</th>        <td>Binomial</td>     <th>  Df Model:          </th>  <td>    12</td> \n",
       "</tr>\n",
       "<tr>\n",
       "  <th>Link Function:</th>         <td>logit</td>      <th>  Scale:             </th> <td>  1.0000</td>\n",
       "</tr>\n",
       "<tr>\n",
       "  <th>Method:</th>                <td>IRLS</td>       <th>  Log-Likelihood:    </th> <td> -1580.5</td>\n",
       "</tr>\n",
       "<tr>\n",
       "  <th>Date:</th>            <td>Sun, 07 Feb 2021</td> <th>  Deviance:          </th> <td>  3161.0</td>\n",
       "</tr>\n",
       "<tr>\n",
       "  <th>Time:</th>                <td>14:01:07</td>     <th>  Pearson chi2:      </th> <td>6.22e+03</td>\n",
       "</tr>\n",
       "<tr>\n",
       "  <th>No. Iterations:</th>          <td>8</td>        <th>                     </th>     <td> </td>   \n",
       "</tr>\n",
       "<tr>\n",
       "  <th>Covariance Type:</th>     <td>nonrobust</td>    <th>                     </th>     <td> </td>   \n",
       "</tr>\n",
       "</table>\n",
       "<table class=\"simpletable\">\n",
       "<tr>\n",
       "                      <td></td>                        <th>coef</th>     <th>std err</th>      <th>z</th>      <th>P>|z|</th>  <th>[0.025</th>    <th>0.975]</th>  \n",
       "</tr>\n",
       "<tr>\n",
       "  <th>const</th>                                    <td>   -2.0463</td> <td>    0.070</td> <td>  -29.290</td> <td> 0.000</td> <td>   -2.183</td> <td>   -1.909</td>\n",
       "</tr>\n",
       "<tr>\n",
       "  <th>Total Time Spent on Website</th>              <td>    3.7058</td> <td>    0.187</td> <td>   19.779</td> <td> 0.000</td> <td>    3.339</td> <td>    4.073</td>\n",
       "</tr>\n",
       "<tr>\n",
       "  <th>Tags_Already a student</th>                   <td>   -3.9070</td> <td>    0.715</td> <td>   -5.463</td> <td> 0.000</td> <td>   -5.309</td> <td>   -2.505</td>\n",
       "</tr>\n",
       "<tr>\n",
       "  <th>Tags_Closed by horizzon</th>                  <td>    6.0628</td> <td>    0.715</td> <td>    8.481</td> <td> 0.000</td> <td>    4.662</td> <td>    7.464</td>\n",
       "</tr>\n",
       "<tr>\n",
       "  <th>Tags_Diploma holder (not eligible)</th>       <td>   -2.9341</td> <td>    1.023</td> <td>   -2.868</td> <td> 0.004</td> <td>   -4.939</td> <td>   -0.929</td>\n",
       "</tr>\n",
       "<tr>\n",
       "  <th>Tags_Interested  in full time mba</th>        <td>   -2.6627</td> <td>    0.729</td> <td>   -3.650</td> <td> 0.000</td> <td>   -4.092</td> <td>   -1.233</td>\n",
       "</tr>\n",
       "<tr>\n",
       "  <th>Tags_Interested in other courses</th>         <td>   -2.3915</td> <td>    0.318</td> <td>   -7.531</td> <td> 0.000</td> <td>   -3.014</td> <td>   -1.769</td>\n",
       "</tr>\n",
       "<tr>\n",
       "  <th>Tags_Lost to eins</th>                        <td>    5.1447</td> <td>    0.721</td> <td>    7.139</td> <td> 0.000</td> <td>    3.732</td> <td>    6.557</td>\n",
       "</tr>\n",
       "<tr>\n",
       "  <th>Tags_Not doing further education</th>         <td>   -3.5103</td> <td>    1.015</td> <td>   -3.459</td> <td> 0.001</td> <td>   -5.499</td> <td>   -1.521</td>\n",
       "</tr>\n",
       "<tr>\n",
       "  <th>Tags_Ringing</th>                             <td>   -2.7002</td> <td>    0.238</td> <td>  -11.364</td> <td> 0.000</td> <td>   -3.166</td> <td>   -2.234</td>\n",
       "</tr>\n",
       "<tr>\n",
       "  <th>Tags_Switched off</th>                        <td>   -2.5625</td> <td>    0.519</td> <td>   -4.941</td> <td> 0.000</td> <td>   -3.579</td> <td>   -1.546</td>\n",
       "</tr>\n",
       "<tr>\n",
       "  <th>Tags_Will revert after reading the email</th> <td>    4.9156</td> <td>    0.182</td> <td>   27.071</td> <td> 0.000</td> <td>    4.560</td> <td>    5.271</td>\n",
       "</tr>\n",
       "<tr>\n",
       "  <th>Lead Source_Welingak website</th>             <td>    5.6397</td> <td>    0.720</td> <td>    7.833</td> <td> 0.000</td> <td>    4.229</td> <td>    7.051</td>\n",
       "</tr>\n",
       "</table>"
      ],
      "text/plain": [
       "<class 'statsmodels.iolib.summary.Summary'>\n",
       "\"\"\"\n",
       "                 Generalized Linear Model Regression Results                  \n",
       "==============================================================================\n",
       "Dep. Variable:              Converted   No. Observations:                 6351\n",
       "Model:                            GLM   Df Residuals:                     6338\n",
       "Model Family:                Binomial   Df Model:                           12\n",
       "Link Function:                  logit   Scale:                          1.0000\n",
       "Method:                          IRLS   Log-Likelihood:                -1580.5\n",
       "Date:                Sun, 07 Feb 2021   Deviance:                       3161.0\n",
       "Time:                        14:01:07   Pearson chi2:                 6.22e+03\n",
       "No. Iterations:                     8                                         \n",
       "Covariance Type:            nonrobust                                         \n",
       "============================================================================================================\n",
       "                                               coef    std err          z      P>|z|      [0.025      0.975]\n",
       "------------------------------------------------------------------------------------------------------------\n",
       "const                                       -2.0463      0.070    -29.290      0.000      -2.183      -1.909\n",
       "Total Time Spent on Website                  3.7058      0.187     19.779      0.000       3.339       4.073\n",
       "Tags_Already a student                      -3.9070      0.715     -5.463      0.000      -5.309      -2.505\n",
       "Tags_Closed by horizzon                      6.0628      0.715      8.481      0.000       4.662       7.464\n",
       "Tags_Diploma holder (not eligible)          -2.9341      1.023     -2.868      0.004      -4.939      -0.929\n",
       "Tags_Interested  in full time mba           -2.6627      0.729     -3.650      0.000      -4.092      -1.233\n",
       "Tags_Interested in other courses            -2.3915      0.318     -7.531      0.000      -3.014      -1.769\n",
       "Tags_Lost to eins                            5.1447      0.721      7.139      0.000       3.732       6.557\n",
       "Tags_Not doing further education            -3.5103      1.015     -3.459      0.001      -5.499      -1.521\n",
       "Tags_Ringing                                -2.7002      0.238    -11.364      0.000      -3.166      -2.234\n",
       "Tags_Switched off                           -2.5625      0.519     -4.941      0.000      -3.579      -1.546\n",
       "Tags_Will revert after reading the email     4.9156      0.182     27.071      0.000       4.560       5.271\n",
       "Lead Source_Welingak website                 5.6397      0.720      7.833      0.000       4.229       7.051\n",
       "============================================================================================================\n",
       "\"\"\""
      ]
     },
     "execution_count": 122,
     "metadata": {},
     "output_type": "execute_result"
    }
   ],
   "source": [
    "x_train_rfe=sm.add_constant(x_train_rfe[col_rfe])\n",
    "logm=sm.GLM(y_train,x_train_rfe, family=sm.families.Binomial())\n",
    "res=logm.fit()\n",
    "res.summary()"
   ]
  },
  {
   "cell_type": "code",
   "execution_count": 123,
   "metadata": {},
   "outputs": [
    {
     "data": {
      "text/html": [
       "<div>\n",
       "<style scoped>\n",
       "    .dataframe tbody tr th:only-of-type {\n",
       "        vertical-align: middle;\n",
       "    }\n",
       "\n",
       "    .dataframe tbody tr th {\n",
       "        vertical-align: top;\n",
       "    }\n",
       "\n",
       "    .dataframe thead th {\n",
       "        text-align: right;\n",
       "    }\n",
       "</style>\n",
       "<table border=\"1\" class=\"dataframe\">\n",
       "  <thead>\n",
       "    <tr style=\"text-align: right;\">\n",
       "      <th></th>\n",
       "      <th>Converted</th>\n",
       "      <th>Conversion_Prob</th>\n",
       "      <th>LeadID</th>\n",
       "      <th>predicted</th>\n",
       "    </tr>\n",
       "  </thead>\n",
       "  <tbody>\n",
       "    <tr>\n",
       "      <td>0</td>\n",
       "      <td>0</td>\n",
       "      <td>0.200147</td>\n",
       "      <td>3009</td>\n",
       "      <td>0</td>\n",
       "    </tr>\n",
       "    <tr>\n",
       "      <td>1</td>\n",
       "      <td>0</td>\n",
       "      <td>0.150590</td>\n",
       "      <td>1012</td>\n",
       "      <td>0</td>\n",
       "    </tr>\n",
       "    <tr>\n",
       "      <td>2</td>\n",
       "      <td>0</td>\n",
       "      <td>0.008607</td>\n",
       "      <td>9226</td>\n",
       "      <td>0</td>\n",
       "    </tr>\n",
       "    <tr>\n",
       "      <td>3</td>\n",
       "      <td>1</td>\n",
       "      <td>0.562451</td>\n",
       "      <td>4750</td>\n",
       "      <td>1</td>\n",
       "    </tr>\n",
       "    <tr>\n",
       "      <td>4</td>\n",
       "      <td>1</td>\n",
       "      <td>0.996781</td>\n",
       "      <td>7987</td>\n",
       "      <td>1</td>\n",
       "    </tr>\n",
       "  </tbody>\n",
       "</table>\n",
       "</div>"
      ],
      "text/plain": [
       "   Converted  Conversion_Prob  LeadID  predicted\n",
       "0          0         0.200147    3009          0\n",
       "1          0         0.150590    1012          0\n",
       "2          0         0.008607    9226          0\n",
       "3          1         0.562451    4750          1\n",
       "4          1         0.996781    7987          1"
      ]
     },
     "execution_count": 123,
     "metadata": {},
     "output_type": "execute_result"
    }
   ],
   "source": [
    "y_train_pred = res.predict(x_train_rfe)\n",
    "y_train_pred = y_train_pred.values.reshape(-1)\n",
    "y_train_pred_final = pd.DataFrame({'Converted':y_train.values, 'Conversion_Prob':y_train_pred})\n",
    "y_train_pred_final['LeadID'] = y_train.index\n",
    "y_train_pred_final['predicted'] = y_train_pred_final.Conversion_Prob.map(lambda x: 1 if x > 0.5 else 0)\n",
    "y_train_pred_final.head()"
   ]
  },
  {
   "cell_type": "code",
   "execution_count": 124,
   "metadata": {},
   "outputs": [
    {
     "name": "stdout",
     "output_type": "stream",
     "text": [
      "[[3735  170]\n",
      " [ 476 1970]]\n"
     ]
    }
   ],
   "source": [
    "confusion = metrics.confusion_matrix(y_train_pred_final.Converted, y_train_pred_final.predicted )\n",
    "print(confusion)"
   ]
  },
  {
   "cell_type": "code",
   "execution_count": 125,
   "metadata": {},
   "outputs": [
    {
     "name": "stdout",
     "output_type": "stream",
     "text": [
      "0.8982837348449063\n"
     ]
    }
   ],
   "source": [
    "print(metrics.accuracy_score(y_train_pred_final.Converted, y_train_pred_final.predicted))"
   ]
  },
  {
   "cell_type": "code",
   "execution_count": 126,
   "metadata": {},
   "outputs": [
    {
     "data": {
      "text/html": [
       "<div>\n",
       "<style scoped>\n",
       "    .dataframe tbody tr th:only-of-type {\n",
       "        vertical-align: middle;\n",
       "    }\n",
       "\n",
       "    .dataframe tbody tr th {\n",
       "        vertical-align: top;\n",
       "    }\n",
       "\n",
       "    .dataframe thead th {\n",
       "        text-align: right;\n",
       "    }\n",
       "</style>\n",
       "<table border=\"1\" class=\"dataframe\">\n",
       "  <thead>\n",
       "    <tr style=\"text-align: right;\">\n",
       "      <th></th>\n",
       "      <th>Features</th>\n",
       "      <th>VIF</th>\n",
       "    </tr>\n",
       "  </thead>\n",
       "  <tbody>\n",
       "    <tr>\n",
       "      <td>0</td>\n",
       "      <td>Total Time Spent on Website</td>\n",
       "      <td>1.57</td>\n",
       "    </tr>\n",
       "    <tr>\n",
       "      <td>10</td>\n",
       "      <td>Tags_Will revert after reading the email</td>\n",
       "      <td>1.38</td>\n",
       "    </tr>\n",
       "    <tr>\n",
       "      <td>8</td>\n",
       "      <td>Tags_Ringing</td>\n",
       "      <td>1.06</td>\n",
       "    </tr>\n",
       "    <tr>\n",
       "      <td>2</td>\n",
       "      <td>Tags_Closed by horizzon</td>\n",
       "      <td>1.04</td>\n",
       "    </tr>\n",
       "    <tr>\n",
       "      <td>6</td>\n",
       "      <td>Tags_Lost to eins</td>\n",
       "      <td>1.03</td>\n",
       "    </tr>\n",
       "    <tr>\n",
       "      <td>1</td>\n",
       "      <td>Tags_Already a student</td>\n",
       "      <td>1.02</td>\n",
       "    </tr>\n",
       "    <tr>\n",
       "      <td>5</td>\n",
       "      <td>Tags_Interested in other courses</td>\n",
       "      <td>1.02</td>\n",
       "    </tr>\n",
       "    <tr>\n",
       "      <td>4</td>\n",
       "      <td>Tags_Interested  in full time mba</td>\n",
       "      <td>1.01</td>\n",
       "    </tr>\n",
       "    <tr>\n",
       "      <td>7</td>\n",
       "      <td>Tags_Not doing further education</td>\n",
       "      <td>1.01</td>\n",
       "    </tr>\n",
       "    <tr>\n",
       "      <td>9</td>\n",
       "      <td>Tags_Switched off</td>\n",
       "      <td>1.01</td>\n",
       "    </tr>\n",
       "    <tr>\n",
       "      <td>11</td>\n",
       "      <td>Lead Source_Welingak website</td>\n",
       "      <td>1.01</td>\n",
       "    </tr>\n",
       "    <tr>\n",
       "      <td>3</td>\n",
       "      <td>Tags_Diploma holder (not eligible)</td>\n",
       "      <td>1.00</td>\n",
       "    </tr>\n",
       "  </tbody>\n",
       "</table>\n",
       "</div>"
      ],
      "text/plain": [
       "                                    Features   VIF\n",
       "0                Total Time Spent on Website  1.57\n",
       "10  Tags_Will revert after reading the email  1.38\n",
       "8                               Tags_Ringing  1.06\n",
       "2                    Tags_Closed by horizzon  1.04\n",
       "6                          Tags_Lost to eins  1.03\n",
       "1                     Tags_Already a student  1.02\n",
       "5           Tags_Interested in other courses  1.02\n",
       "4          Tags_Interested  in full time mba  1.01\n",
       "7           Tags_Not doing further education  1.01\n",
       "9                          Tags_Switched off  1.01\n",
       "11              Lead Source_Welingak website  1.01\n",
       "3         Tags_Diploma holder (not eligible)  1.00"
      ]
     },
     "execution_count": 126,
     "metadata": {},
     "output_type": "execute_result"
    }
   ],
   "source": [
    "vif = pd.DataFrame()\n",
    "vif['Features'] = x_train[col_rfe].columns\n",
    "vif['VIF'] = [variance_inflation_factor(x_train[col_rfe].values, i) for i in range(x_train[col_rfe].shape[1])]\n",
    "vif['VIF'] = round(vif['VIF'], 2)\n",
    "vif = vif.sort_values(by = \"VIF\", ascending = False)\n",
    "vif"
   ]
  },
  {
   "cell_type": "markdown",
   "metadata": {},
   "source": [
    "## Metrics beyond simply accuracy"
   ]
  },
  {
   "cell_type": "code",
   "execution_count": 127,
   "metadata": {},
   "outputs": [],
   "source": [
    "TN=confusion[0,0]\n",
    "TP=confusion[1,1]\n",
    "FN=confusion[1,0]\n",
    "FP=confusion[0,1]"
   ]
  },
  {
   "cell_type": "code",
   "execution_count": 128,
   "metadata": {},
   "outputs": [
    {
     "data": {
      "text/plain": [
       "0.8053965658217498"
      ]
     },
     "execution_count": 128,
     "metadata": {},
     "output_type": "execute_result"
    }
   ],
   "source": [
    "#Sensitivity\n",
    "TP/float(TP+FN)"
   ]
  },
  {
   "cell_type": "code",
   "execution_count": 129,
   "metadata": {},
   "outputs": [
    {
     "data": {
      "text/plain": [
       "0.9564660691421255"
      ]
     },
     "execution_count": 129,
     "metadata": {},
     "output_type": "execute_result"
    }
   ],
   "source": [
    "#Specificity\n",
    "TN/float(TN+FP)"
   ]
  },
  {
   "cell_type": "code",
   "execution_count": 130,
   "metadata": {},
   "outputs": [
    {
     "data": {
      "text/plain": [
       "0.11303728330562812"
      ]
     },
     "execution_count": 130,
     "metadata": {},
     "output_type": "execute_result"
    }
   ],
   "source": [
    "#False negative rate\n",
    "FN/float(FN+TN)"
   ]
  },
  {
   "cell_type": "code",
   "execution_count": 131,
   "metadata": {},
   "outputs": [
    {
     "data": {
      "text/plain": [
       "0.9205607476635514"
      ]
     },
     "execution_count": 131,
     "metadata": {},
     "output_type": "execute_result"
    }
   ],
   "source": [
    "# False Positive rate\n",
    "TP/float(TP+FP)"
   ]
  },
  {
   "cell_type": "markdown",
   "metadata": {},
   "source": [
    "## Plotting an ROC curve "
   ]
  },
  {
   "cell_type": "markdown",
   "metadata": {},
   "source": [
    "An ROC curve demonstrates several things:\n",
    "\n",
    "- It shows the tradeoff between sensitivity and specificity (any increase in sensitivity will be accompanied by a decrease in specificity).\n",
    "- The closer the curve follows the left-hand border and then the top border of the ROC space, the more accurate the test.\n",
    "- The closer the curve comes to the 45-degree diagonal of the ROC space, the less accurate the test."
   ]
  },
  {
   "cell_type": "code",
   "execution_count": 132,
   "metadata": {},
   "outputs": [],
   "source": [
    "def draw_roc( actual, probs ):\n",
    "    fpr, tpr, thresholds = metrics.roc_curve( actual, probs,\n",
    "                                              drop_intermediate = False )\n",
    "    auc_score = metrics.roc_auc_score( actual, probs )\n",
    "    plt.figure(figsize=(5, 5))\n",
    "    plt.plot( fpr, tpr, label='ROC curve (area = %0.2f)' % auc_score )\n",
    "    plt.plot([0, 1], [0, 1], 'k--')\n",
    "    plt.xlim([0.0, 1.0])\n",
    "    plt.ylim([0.0, 1.05])\n",
    "    plt.xlabel('False Positive Rate or [1 - True Negative Rate]')\n",
    "    plt.ylabel('True Positive Rate')\n",
    "    plt.title('Receiver operating characteristic example')\n",
    "    plt.legend(loc=\"lower right\")\n",
    "    plt.show()\n",
    "\n",
    "    return None"
   ]
  },
  {
   "cell_type": "code",
   "execution_count": 133,
   "metadata": {},
   "outputs": [
    {
     "data": {
      "image/png": "[encoded data removed]",
      "text/plain": [
       "<Figure size 360x360 with 1 Axes>"
      ]
     },
     "metadata": {
      "needs_background": "light"
     },
     "output_type": "display_data"
    }
   ],
   "source": [
    "fpr, tpr, thresholds = metrics.roc_curve( y_train_pred_final.Converted, y_train_pred_final.Conversion_Prob, drop_intermediate = False )\n",
    "draw_roc(y_train_pred_final.Converted, y_train_pred_final.Conversion_Prob)"
   ]
  },
  {
   "cell_type": "markdown",
   "metadata": {},
   "source": [
    "## Step 10: Finding Optimal Cutoff Point"
   ]
  },
  {
   "cell_type": "markdown",
   "metadata": {},
   "source": [
    "Optimal cutoff probability is that prob where we get balanced sensitivity and specificity"
   ]
  },
  {
   "cell_type": "code",
   "execution_count": 134,
   "metadata": {},
   "outputs": [
    {
     "data": {
      "text/html": [
       "<div>\n",
       "<style scoped>\n",
       "    .dataframe tbody tr th:only-of-type {\n",
       "        vertical-align: middle;\n",
       "    }\n",
       "\n",
       "    .dataframe tbody tr th {\n",
       "        vertical-align: top;\n",
       "    }\n",
       "\n",
       "    .dataframe thead th {\n",
       "        text-align: right;\n",
       "    }\n",
       "</style>\n",
       "<table border=\"1\" class=\"dataframe\">\n",
       "  <thead>\n",
       "    <tr style=\"text-align: right;\">\n",
       "      <th></th>\n",
       "      <th>Converted</th>\n",
       "      <th>Conversion_Prob</th>\n",
       "      <th>LeadID</th>\n",
       "      <th>predicted</th>\n",
       "      <th>0.0</th>\n",
       "      <th>0.1</th>\n",
       "      <th>0.2</th>\n",
       "      <th>0.3</th>\n",
       "      <th>0.4</th>\n",
       "      <th>0.5</th>\n",
       "      <th>0.6</th>\n",
       "      <th>0.7</th>\n",
       "      <th>0.8</th>\n",
       "      <th>0.9</th>\n",
       "    </tr>\n",
       "  </thead>\n",
       "  <tbody>\n",
       "    <tr>\n",
       "      <td>0</td>\n",
       "      <td>0</td>\n",
       "      <td>0.200147</td>\n",
       "      <td>3009</td>\n",
       "      <td>0</td>\n",
       "      <td>1</td>\n",
       "      <td>1</td>\n",
       "      <td>1</td>\n",
       "      <td>0</td>\n",
       "      <td>0</td>\n",
       "      <td>0</td>\n",
       "      <td>0</td>\n",
       "      <td>0</td>\n",
       "      <td>0</td>\n",
       "      <td>0</td>\n",
       "    </tr>\n",
       "    <tr>\n",
       "      <td>1</td>\n",
       "      <td>0</td>\n",
       "      <td>0.150590</td>\n",
       "      <td>1012</td>\n",
       "      <td>0</td>\n",
       "      <td>1</td>\n",
       "      <td>1</td>\n",
       "      <td>0</td>\n",
       "      <td>0</td>\n",
       "      <td>0</td>\n",
       "      <td>0</td>\n",
       "      <td>0</td>\n",
       "      <td>0</td>\n",
       "      <td>0</td>\n",
       "      <td>0</td>\n",
       "    </tr>\n",
       "    <tr>\n",
       "      <td>2</td>\n",
       "      <td>0</td>\n",
       "      <td>0.008607</td>\n",
       "      <td>9226</td>\n",
       "      <td>0</td>\n",
       "      <td>1</td>\n",
       "      <td>0</td>\n",
       "      <td>0</td>\n",
       "      <td>0</td>\n",
       "      <td>0</td>\n",
       "      <td>0</td>\n",
       "      <td>0</td>\n",
       "      <td>0</td>\n",
       "      <td>0</td>\n",
       "      <td>0</td>\n",
       "    </tr>\n",
       "    <tr>\n",
       "      <td>3</td>\n",
       "      <td>1</td>\n",
       "      <td>0.562451</td>\n",
       "      <td>4750</td>\n",
       "      <td>1</td>\n",
       "      <td>1</td>\n",
       "      <td>1</td>\n",
       "      <td>1</td>\n",
       "      <td>1</td>\n",
       "      <td>1</td>\n",
       "      <td>1</td>\n",
       "      <td>0</td>\n",
       "      <td>0</td>\n",
       "      <td>0</td>\n",
       "      <td>0</td>\n",
       "    </tr>\n",
       "    <tr>\n",
       "      <td>4</td>\n",
       "      <td>1</td>\n",
       "      <td>0.996781</td>\n",
       "      <td>7987</td>\n",
       "      <td>1</td>\n",
       "      <td>1</td>\n",
       "      <td>1</td>\n",
       "      <td>1</td>\n",
       "      <td>1</td>\n",
       "      <td>1</td>\n",
       "      <td>1</td>\n",
       "      <td>1</td>\n",
       "      <td>1</td>\n",
       "      <td>1</td>\n",
       "      <td>1</td>\n",
       "    </tr>\n",
       "  </tbody>\n",
       "</table>\n",
       "</div>"
      ],
      "text/plain": [
       "   Converted  Conversion_Prob  LeadID  predicted  0.0  0.1  0.2  0.3  0.4  0.5  0.6  0.7  0.8  0.9\n",
       "0          0         0.200147    3009          0    1    1    1    0    0    0    0    0    0    0\n",
       "1          0         0.150590    1012          0    1    1    0    0    0    0    0    0    0    0\n",
       "2          0         0.008607    9226          0    1    0    0    0    0    0    0    0    0    0\n",
       "3          1         0.562451    4750          1    1    1    1    1    1    1    0    0    0    0\n",
       "4          1         0.996781    7987          1    1    1    1    1    1    1    1    1    1    1"
      ]
     },
     "execution_count": 134,
     "metadata": {},
     "output_type": "execute_result"
    }
   ],
   "source": [
    "# Let's create columns with different probability cutoffs \n",
    "numbers = [float(x)/10 for x in range(10)]\n",
    "for i in numbers:\n",
    "    y_train_pred_final[i]= y_train_pred_final.Conversion_Prob.map(lambda x: 1 if x > i else 0)\n",
    "y_train_pred_final.head()"
   ]
  },
  {
   "cell_type": "code",
   "execution_count": 135,
   "metadata": {},
   "outputs": [
    {
     "name": "stdout",
     "output_type": "stream",
     "text": [
      "     prob  accuracy     sensi     speci\n",
      "0.0   0.0  0.385136  1.000000  0.000000\n",
      "0.1   0.1  0.662100  0.984464  0.460179\n",
      "0.2   0.2  0.883011  0.896157  0.874776\n",
      "0.3   0.3  0.906471  0.879395  0.923431\n",
      "0.4   0.4  0.903637  0.847915  0.938540\n",
      "0.5   0.5  0.898284  0.805397  0.956466\n",
      "0.6   0.6  0.898126  0.772690  0.976697\n",
      "0.7   0.7  0.892143  0.745707  0.983867\n",
      "0.8   0.8  0.892458  0.739166  0.988476\n",
      "0.9   0.9  0.892930  0.738757  0.989501\n"
     ]
    }
   ],
   "source": [
    "# Now let's calculate accuracy sensitivity and specificity for various probability cutoffs.\n",
    "cutoff_df = pd.DataFrame( columns = ['prob','accuracy','sensi','speci'])\n",
    "from sklearn.metrics import confusion_matrix\n",
    "\n",
    "# TP = confusion[1,1] # true positive \n",
    "# TN = confusion[0,0] # true negatives\n",
    "# FP = confusion[0,1] # false positives\n",
    "# FN = confusion[1,0] # false negatives\n",
    "\n",
    "num = [0.0,0.1,0.2,0.3,0.4,0.5,0.6,0.7,0.8,0.9]\n",
    "for i in num:\n",
    "    cm1 = metrics.confusion_matrix(y_train_pred_final.Converted, y_train_pred_final[i] )\n",
    "    total1=sum(sum(cm1))\n",
    "    accuracy = (cm1[0,0]+cm1[1,1])/total1\n",
    "    \n",
    "    speci = cm1[0,0]/(cm1[0,0]+cm1[0,1])\n",
    "    sensi = cm1[1,1]/(cm1[1,0]+cm1[1,1])\n",
    "    cutoff_df.loc[i] =[ i ,accuracy,sensi,speci]\n",
    "print(cutoff_df)"
   ]
  },
  {
   "cell_type": "markdown",
   "metadata": {},
   "source": [
    "## Let's plot accuracy sensitivity and specificity for various probabilities"
   ]
  },
  {
   "cell_type": "code",
   "execution_count": 136,
   "metadata": {},
   "outputs": [
    {
     "data": {
      "image/png": "[encoded data removed]",
      "text/plain": [
       "<Figure size 720x432 with 1 Axes>"
      ]
     },
     "metadata": {},
     "output_type": "display_data"
    }
   ],
   "source": [
    "# Slightly alter the figure size to make it more horizontal.\n",
    "\n",
    "#plt.figure(figsize=(10, 8), dpi=80, facecolor='w', edgecolor='k', frameon='True')\n",
    "sns.set_style(\"whitegrid\") # white/whitegrid/dark/ticks\n",
    "sns.set_context(\"paper\") # talk/poster\n",
    "cutoff_df.plot.line(x='prob', y=['accuracy','sensi','speci'], figsize=(10,6))\n",
    "# plot x axis limits\n",
    "plt.xticks(np.arange(0, 1, step=0.05), size = 12)\n",
    "plt.yticks(size = 12)\n",
    "plt.show()"
   ]
  },
  {
   "cell_type": "markdown",
   "metadata": {},
   "source": [
    "From the curve above, 0.24 is the optimum point to take it as a cutoff probability"
   ]
  },
  {
   "cell_type": "code",
   "execution_count": 137,
   "metadata": {},
   "outputs": [
    {
     "data": {
      "text/html": [
       "<div>\n",
       "<style scoped>\n",
       "    .dataframe tbody tr th:only-of-type {\n",
       "        vertical-align: middle;\n",
       "    }\n",
       "\n",
       "    .dataframe tbody tr th {\n",
       "        vertical-align: top;\n",
       "    }\n",
       "\n",
       "    .dataframe thead th {\n",
       "        text-align: right;\n",
       "    }\n",
       "</style>\n",
       "<table border=\"1\" class=\"dataframe\">\n",
       "  <thead>\n",
       "    <tr style=\"text-align: right;\">\n",
       "      <th></th>\n",
       "      <th>Converted</th>\n",
       "      <th>Conversion_Prob</th>\n",
       "      <th>LeadID</th>\n",
       "      <th>predicted</th>\n",
       "      <th>0.0</th>\n",
       "      <th>0.1</th>\n",
       "      <th>0.2</th>\n",
       "      <th>0.3</th>\n",
       "      <th>0.4</th>\n",
       "      <th>0.5</th>\n",
       "      <th>0.6</th>\n",
       "      <th>0.7</th>\n",
       "      <th>0.8</th>\n",
       "      <th>0.9</th>\n",
       "      <th>final_predicted</th>\n",
       "    </tr>\n",
       "  </thead>\n",
       "  <tbody>\n",
       "    <tr>\n",
       "      <td>0</td>\n",
       "      <td>0</td>\n",
       "      <td>0.200147</td>\n",
       "      <td>3009</td>\n",
       "      <td>0</td>\n",
       "      <td>1</td>\n",
       "      <td>1</td>\n",
       "      <td>1</td>\n",
       "      <td>0</td>\n",
       "      <td>0</td>\n",
       "      <td>0</td>\n",
       "      <td>0</td>\n",
       "      <td>0</td>\n",
       "      <td>0</td>\n",
       "      <td>0</td>\n",
       "      <td>0</td>\n",
       "    </tr>\n",
       "    <tr>\n",
       "      <td>1</td>\n",
       "      <td>0</td>\n",
       "      <td>0.150590</td>\n",
       "      <td>1012</td>\n",
       "      <td>0</td>\n",
       "      <td>1</td>\n",
       "      <td>1</td>\n",
       "      <td>0</td>\n",
       "      <td>0</td>\n",
       "      <td>0</td>\n",
       "      <td>0</td>\n",
       "      <td>0</td>\n",
       "      <td>0</td>\n",
       "      <td>0</td>\n",
       "      <td>0</td>\n",
       "      <td>0</td>\n",
       "    </tr>\n",
       "    <tr>\n",
       "      <td>2</td>\n",
       "      <td>0</td>\n",
       "      <td>0.008607</td>\n",
       "      <td>9226</td>\n",
       "      <td>0</td>\n",
       "      <td>1</td>\n",
       "      <td>0</td>\n",
       "      <td>0</td>\n",
       "      <td>0</td>\n",
       "      <td>0</td>\n",
       "      <td>0</td>\n",
       "      <td>0</td>\n",
       "      <td>0</td>\n",
       "      <td>0</td>\n",
       "      <td>0</td>\n",
       "      <td>0</td>\n",
       "    </tr>\n",
       "    <tr>\n",
       "      <td>3</td>\n",
       "      <td>1</td>\n",
       "      <td>0.562451</td>\n",
       "      <td>4750</td>\n",
       "      <td>1</td>\n",
       "      <td>1</td>\n",
       "      <td>1</td>\n",
       "      <td>1</td>\n",
       "      <td>1</td>\n",
       "      <td>1</td>\n",
       "      <td>1</td>\n",
       "      <td>0</td>\n",
       "      <td>0</td>\n",
       "      <td>0</td>\n",
       "      <td>0</td>\n",
       "      <td>1</td>\n",
       "    </tr>\n",
       "    <tr>\n",
       "      <td>4</td>\n",
       "      <td>1</td>\n",
       "      <td>0.996781</td>\n",
       "      <td>7987</td>\n",
       "      <td>1</td>\n",
       "      <td>1</td>\n",
       "      <td>1</td>\n",
       "      <td>1</td>\n",
       "      <td>1</td>\n",
       "      <td>1</td>\n",
       "      <td>1</td>\n",
       "      <td>1</td>\n",
       "      <td>1</td>\n",
       "      <td>1</td>\n",
       "      <td>1</td>\n",
       "      <td>1</td>\n",
       "    </tr>\n",
       "  </tbody>\n",
       "</table>\n",
       "</div>"
      ],
      "text/plain": [
       "   Converted  Conversion_Prob  LeadID  predicted  0.0  0.1  0.2  0.3  0.4  0.5  0.6  0.7  0.8  0.9  final_predicted\n",
       "0          0         0.200147    3009          0    1    1    1    0    0    0    0    0    0    0                0\n",
       "1          0         0.150590    1012          0    1    1    0    0    0    0    0    0    0    0                0\n",
       "2          0         0.008607    9226          0    1    0    0    0    0    0    0    0    0    0                0\n",
       "3          1         0.562451    4750          1    1    1    1    1    1    1    0    0    0    0                1\n",
       "4          1         0.996781    7987          1    1    1    1    1    1    1    1    1    1    1                1"
      ]
     },
     "execution_count": 137,
     "metadata": {},
     "output_type": "execute_result"
    }
   ],
   "source": [
    "\n",
    "y_train_pred_final['final_predicted'] = y_train_pred_final.Conversion_Prob.map( lambda x: 1 if x > 0.33 else 0)\n",
    "\n",
    "y_train_pred_final.head()"
   ]
  },
  {
   "cell_type": "code",
   "execution_count": 138,
   "metadata": {},
   "outputs": [
    {
     "data": {
      "text/plain": [
       "0.9053692331916233"
      ]
     },
     "execution_count": 138,
     "metadata": {},
     "output_type": "execute_result"
    }
   ],
   "source": [
    "# Let's check the overall accuracy.\n",
    "metrics.accuracy_score(y_train_pred_final.Converted, y_train_pred_final.final_predicted)"
   ]
  },
  {
   "cell_type": "code",
   "execution_count": 139,
   "metadata": {},
   "outputs": [
    {
     "data": {
      "text/plain": [
       "array([[3620,  285],\n",
       "       [ 316, 2130]], dtype=int64)"
      ]
     },
     "execution_count": 139,
     "metadata": {},
     "output_type": "execute_result"
    }
   ],
   "source": [
    "confusion1 = metrics.confusion_matrix(y_train_pred_final.Converted, y_train_pred_final.final_predicted)\n",
    "confusion1"
   ]
  },
  {
   "cell_type": "code",
   "execution_count": 140,
   "metadata": {},
   "outputs": [
    {
     "name": "stdout",
     "output_type": "stream",
     "text": [
      "Sensitivity : 0.8053965658217498\n",
      "Specificity : 0.9564660691421255\n",
      "False Negative rate : 0.11303728330562812\n",
      "False Positive rate : 0.9205607476635514\n"
     ]
    }
   ],
   "source": [
    "#Sensitivity\n",
    "print('Sensitivity : {}'.format(TP/float(TP+FN)))\n",
    "\n",
    "#Specificity\n",
    "print('Specificity : {}'.format(TN/float(TN+FP)))\n",
    "\n",
    "#False negative rate\n",
    "print('False Negative rate : {}'.format(FN/float(FN+TN)))\n",
    "\n",
    "# False Positive rate\n",
    "print('False Positive rate : {}'.format(TP/float(TP+FP)))"
   ]
  },
  {
   "cell_type": "markdown",
   "metadata": {},
   "source": [
    "## Precision and Recall "
   ]
  },
  {
   "cell_type": "code",
   "execution_count": 141,
   "metadata": {},
   "outputs": [
    {
     "data": {
      "text/plain": [
       "array([[3735,  170],\n",
       "       [ 476, 1970]], dtype=int64)"
      ]
     },
     "execution_count": 141,
     "metadata": {},
     "output_type": "execute_result"
    }
   ],
   "source": [
    "confusion = metrics.confusion_matrix(y_train_pred_final.Converted, y_train_pred_final.predicted )\n",
    "confusion"
   ]
  },
  {
   "cell_type": "code",
   "execution_count": 142,
   "metadata": {},
   "outputs": [
    {
     "data": {
      "text/plain": [
       "0.9205607476635514"
      ]
     },
     "execution_count": 142,
     "metadata": {},
     "output_type": "execute_result"
    }
   ],
   "source": [
    "# Precision = TP / TP + FP\n",
    "confusion[1,1]/(confusion[0,1]+confusion[1,1])"
   ]
  },
  {
   "cell_type": "code",
   "execution_count": 143,
   "metadata": {},
   "outputs": [
    {
     "data": {
      "text/plain": [
       "0.8053965658217498"
      ]
     },
     "execution_count": 143,
     "metadata": {},
     "output_type": "execute_result"
    }
   ],
   "source": [
    "#Recall = TP / TP + FN\n",
    "confusion[1,1]/(confusion[1,0]+confusion[1,1])"
   ]
  },
  {
   "cell_type": "markdown",
   "metadata": {},
   "source": [
    "## Precision and recall tradeoff "
   ]
  },
  {
   "cell_type": "code",
   "execution_count": 144,
   "metadata": {},
   "outputs": [],
   "source": [
    "from sklearn.metrics import precision_recall_curve"
   ]
  },
  {
   "cell_type": "code",
   "execution_count": 145,
   "metadata": {},
   "outputs": [],
   "source": [
    "p, r, thresholds= precision_recall_curve(y_train_pred_final.Converted, y_train_pred_final.Conversion_Prob)"
   ]
  },
  {
   "cell_type": "code",
   "execution_count": 146,
   "metadata": {},
   "outputs": [
    {
     "data": {
      "image/png": "[encoded data removed]",
      "text/plain": [
       "<Figure size 432x288 with 1 Axes>"
      ]
     },
     "metadata": {},
     "output_type": "display_data"
    }
   ],
   "source": [
    "plt.plot(thresholds, p[:-1], \"g-\")\n",
    "plt.plot(thresholds, r[:-1], \"r-\")\n",
    "plt.show()"
   ]
  },
  {
   "cell_type": "code",
   "execution_count": 147,
   "metadata": {},
   "outputs": [
    {
     "data": {
      "text/html": [
       "<div>\n",
       "<style scoped>\n",
       "    .dataframe tbody tr th:only-of-type {\n",
       "        vertical-align: middle;\n",
       "    }\n",
       "\n",
       "    .dataframe tbody tr th {\n",
       "        vertical-align: top;\n",
       "    }\n",
       "\n",
       "    .dataframe thead th {\n",
       "        text-align: right;\n",
       "    }\n",
       "</style>\n",
       "<table border=\"1\" class=\"dataframe\">\n",
       "  <thead>\n",
       "    <tr style=\"text-align: right;\">\n",
       "      <th></th>\n",
       "      <th>Converted</th>\n",
       "      <th>Conversion_Prob</th>\n",
       "      <th>LeadID</th>\n",
       "      <th>predicted</th>\n",
       "      <th>0.0</th>\n",
       "      <th>0.1</th>\n",
       "      <th>0.2</th>\n",
       "      <th>0.3</th>\n",
       "      <th>0.4</th>\n",
       "      <th>0.5</th>\n",
       "      <th>0.6</th>\n",
       "      <th>0.7</th>\n",
       "      <th>0.8</th>\n",
       "      <th>0.9</th>\n",
       "      <th>final_predicted</th>\n",
       "    </tr>\n",
       "  </thead>\n",
       "  <tbody>\n",
       "    <tr>\n",
       "      <td>0</td>\n",
       "      <td>0</td>\n",
       "      <td>0.200147</td>\n",
       "      <td>3009</td>\n",
       "      <td>0</td>\n",
       "      <td>1</td>\n",
       "      <td>1</td>\n",
       "      <td>1</td>\n",
       "      <td>0</td>\n",
       "      <td>0</td>\n",
       "      <td>0</td>\n",
       "      <td>0</td>\n",
       "      <td>0</td>\n",
       "      <td>0</td>\n",
       "      <td>0</td>\n",
       "      <td>0</td>\n",
       "    </tr>\n",
       "    <tr>\n",
       "      <td>1</td>\n",
       "      <td>0</td>\n",
       "      <td>0.150590</td>\n",
       "      <td>1012</td>\n",
       "      <td>0</td>\n",
       "      <td>1</td>\n",
       "      <td>1</td>\n",
       "      <td>0</td>\n",
       "      <td>0</td>\n",
       "      <td>0</td>\n",
       "      <td>0</td>\n",
       "      <td>0</td>\n",
       "      <td>0</td>\n",
       "      <td>0</td>\n",
       "      <td>0</td>\n",
       "      <td>0</td>\n",
       "    </tr>\n",
       "    <tr>\n",
       "      <td>2</td>\n",
       "      <td>0</td>\n",
       "      <td>0.008607</td>\n",
       "      <td>9226</td>\n",
       "      <td>0</td>\n",
       "      <td>1</td>\n",
       "      <td>0</td>\n",
       "      <td>0</td>\n",
       "      <td>0</td>\n",
       "      <td>0</td>\n",
       "      <td>0</td>\n",
       "      <td>0</td>\n",
       "      <td>0</td>\n",
       "      <td>0</td>\n",
       "      <td>0</td>\n",
       "      <td>0</td>\n",
       "    </tr>\n",
       "    <tr>\n",
       "      <td>3</td>\n",
       "      <td>1</td>\n",
       "      <td>0.562451</td>\n",
       "      <td>4750</td>\n",
       "      <td>1</td>\n",
       "      <td>1</td>\n",
       "      <td>1</td>\n",
       "      <td>1</td>\n",
       "      <td>1</td>\n",
       "      <td>1</td>\n",
       "      <td>1</td>\n",
       "      <td>0</td>\n",
       "      <td>0</td>\n",
       "      <td>0</td>\n",
       "      <td>0</td>\n",
       "      <td>1</td>\n",
       "    </tr>\n",
       "    <tr>\n",
       "      <td>4</td>\n",
       "      <td>1</td>\n",
       "      <td>0.996781</td>\n",
       "      <td>7987</td>\n",
       "      <td>1</td>\n",
       "      <td>1</td>\n",
       "      <td>1</td>\n",
       "      <td>1</td>\n",
       "      <td>1</td>\n",
       "      <td>1</td>\n",
       "      <td>1</td>\n",
       "      <td>1</td>\n",
       "      <td>1</td>\n",
       "      <td>1</td>\n",
       "      <td>1</td>\n",
       "      <td>1</td>\n",
       "    </tr>\n",
       "  </tbody>\n",
       "</table>\n",
       "</div>"
      ],
      "text/plain": [
       "   Converted  Conversion_Prob  LeadID  predicted  0.0  0.1  0.2  0.3  0.4  0.5  0.6  0.7  0.8  0.9  final_predicted\n",
       "0          0         0.200147    3009          0    1    1    1    0    0    0    0    0    0    0                0\n",
       "1          0         0.150590    1012          0    1    1    0    0    0    0    0    0    0    0                0\n",
       "2          0         0.008607    9226          0    1    0    0    0    0    0    0    0    0    0                0\n",
       "3          1         0.562451    4750          1    1    1    1    1    1    1    0    0    0    0                1\n",
       "4          1         0.996781    7987          1    1    1    1    1    1    1    1    1    1    1                1"
      ]
     },
     "execution_count": 147,
     "metadata": {},
     "output_type": "execute_result"
    }
   ],
   "source": [
    "y_train_pred_final['final_predicted'] = y_train_pred_final.Conversion_Prob.map(lambda x: 1 if x > 0.31 else 0)\n",
    "y_train_pred_final.head()"
   ]
  },
  {
   "cell_type": "code",
   "execution_count": 148,
   "metadata": {},
   "outputs": [
    {
     "data": {
      "text/plain": [
       "0.906313966304519"
      ]
     },
     "execution_count": 148,
     "metadata": {},
     "output_type": "execute_result"
    }
   ],
   "source": [
    "# Accuracy\n",
    "metrics.accuracy_score(y_train_pred_final.Converted, y_train_pred_final.final_predicted)"
   ]
  },
  {
   "cell_type": "code",
   "execution_count": 149,
   "metadata": {},
   "outputs": [
    {
     "data": {
      "text/plain": [
       "array([[3608,  297],\n",
       "       [ 298, 2148]], dtype=int64)"
      ]
     },
     "execution_count": 149,
     "metadata": {},
     "output_type": "execute_result"
    }
   ],
   "source": [
    "# Creating confusion matrix again\n",
    "confusion2 = metrics.confusion_matrix(y_train_pred_final.Converted, y_train_pred_final.final_predicted )\n",
    "confusion2"
   ]
  },
  {
   "cell_type": "code",
   "execution_count": 150,
   "metadata": {},
   "outputs": [
    {
     "data": {
      "text/plain": [
       "0.8785276073619632"
      ]
     },
     "execution_count": 150,
     "metadata": {},
     "output_type": "execute_result"
    }
   ],
   "source": [
    "# Precision = TP / TP + FP\n",
    "confusion2[1,1]/(confusion2[1,1]+confusion2[0,1])"
   ]
  },
  {
   "cell_type": "code",
   "execution_count": 151,
   "metadata": {},
   "outputs": [
    {
     "data": {
      "text/plain": [
       "0.8781684382665577"
      ]
     },
     "execution_count": 151,
     "metadata": {},
     "output_type": "execute_result"
    }
   ],
   "source": [
    "#Recall = TP / TP + FN\n",
    "confusion2[1,1]/(confusion2[1,1]+confusion2[1,0])"
   ]
  },
  {
   "cell_type": "markdown",
   "metadata": {},
   "source": [
    "## Prediction on Test set "
   ]
  },
  {
   "cell_type": "code",
   "execution_count": 152,
   "metadata": {},
   "outputs": [],
   "source": [
    "x_test[['TotalVisits','Total Time Spent on Website','Page Views Per Visit']]=scaler.transform(x_test[['TotalVisits','Total Time Spent on Website','Page Views Per Visit']])"
   ]
  },
  {
   "cell_type": "code",
   "execution_count": 153,
   "metadata": {},
   "outputs": [
    {
     "data": {
      "text/html": [
       "<div>\n",
       "<style scoped>\n",
       "    .dataframe tbody tr th:only-of-type {\n",
       "        vertical-align: middle;\n",
       "    }\n",
       "\n",
       "    .dataframe tbody tr th {\n",
       "        vertical-align: top;\n",
       "    }\n",
       "\n",
       "    .dataframe thead th {\n",
       "        text-align: right;\n",
       "    }\n",
       "</style>\n",
       "<table border=\"1\" class=\"dataframe\">\n",
       "  <thead>\n",
       "    <tr style=\"text-align: right;\">\n",
       "      <th></th>\n",
       "      <th>Total Time Spent on Website</th>\n",
       "      <th>Tags_Already a student</th>\n",
       "      <th>Tags_Closed by horizzon</th>\n",
       "      <th>Tags_Diploma holder (not eligible)</th>\n",
       "      <th>Tags_Interested  in full time mba</th>\n",
       "      <th>Tags_Interested in other courses</th>\n",
       "      <th>Tags_Lost to eins</th>\n",
       "      <th>Tags_Not doing further education</th>\n",
       "      <th>Tags_Ringing</th>\n",
       "      <th>Tags_Switched off</th>\n",
       "      <th>Tags_Will revert after reading the email</th>\n",
       "      <th>Lead Source_Welingak website</th>\n",
       "    </tr>\n",
       "  </thead>\n",
       "  <tbody>\n",
       "    <tr>\n",
       "      <td>3271</td>\n",
       "      <td>0.070530</td>\n",
       "      <td>0</td>\n",
       "      <td>0</td>\n",
       "      <td>0</td>\n",
       "      <td>0</td>\n",
       "      <td>0</td>\n",
       "      <td>0</td>\n",
       "      <td>0</td>\n",
       "      <td>0</td>\n",
       "      <td>0</td>\n",
       "      <td>0</td>\n",
       "      <td>0</td>\n",
       "    </tr>\n",
       "    <tr>\n",
       "      <td>1490</td>\n",
       "      <td>0.679695</td>\n",
       "      <td>0</td>\n",
       "      <td>0</td>\n",
       "      <td>0</td>\n",
       "      <td>0</td>\n",
       "      <td>0</td>\n",
       "      <td>0</td>\n",
       "      <td>0</td>\n",
       "      <td>0</td>\n",
       "      <td>0</td>\n",
       "      <td>1</td>\n",
       "      <td>0</td>\n",
       "    </tr>\n",
       "    <tr>\n",
       "      <td>7936</td>\n",
       "      <td>0.033243</td>\n",
       "      <td>0</td>\n",
       "      <td>0</td>\n",
       "      <td>0</td>\n",
       "      <td>0</td>\n",
       "      <td>0</td>\n",
       "      <td>0</td>\n",
       "      <td>0</td>\n",
       "      <td>0</td>\n",
       "      <td>0</td>\n",
       "      <td>0</td>\n",
       "      <td>0</td>\n",
       "    </tr>\n",
       "    <tr>\n",
       "      <td>4216</td>\n",
       "      <td>0.000000</td>\n",
       "      <td>0</td>\n",
       "      <td>1</td>\n",
       "      <td>0</td>\n",
       "      <td>0</td>\n",
       "      <td>0</td>\n",
       "      <td>0</td>\n",
       "      <td>0</td>\n",
       "      <td>0</td>\n",
       "      <td>0</td>\n",
       "      <td>0</td>\n",
       "      <td>0</td>\n",
       "    </tr>\n",
       "    <tr>\n",
       "      <td>3830</td>\n",
       "      <td>0.073675</td>\n",
       "      <td>0</td>\n",
       "      <td>0</td>\n",
       "      <td>0</td>\n",
       "      <td>0</td>\n",
       "      <td>0</td>\n",
       "      <td>0</td>\n",
       "      <td>0</td>\n",
       "      <td>0</td>\n",
       "      <td>0</td>\n",
       "      <td>0</td>\n",
       "      <td>0</td>\n",
       "    </tr>\n",
       "  </tbody>\n",
       "</table>\n",
       "</div>"
      ],
      "text/plain": [
       "      Total Time Spent on Website  Tags_Already a student  Tags_Closed by horizzon  Tags_Diploma holder (not eligible)  Tags_Interested  in full time mba  Tags_Interested in other courses  Tags_Lost to eins  Tags_Not doing further education  Tags_Ringing  Tags_Switched off  Tags_Will revert after reading the email  Lead Source_Welingak website\n",
       "3271                     0.070530                       0                        0                                   0                                  0                                 0                  0                                 0             0                  0                                         0                             0\n",
       "1490                     0.679695                       0                        0                                   0                                  0                                 0                  0                                 0             0                  0                                         1                             0\n",
       "7936                     0.033243                       0                        0                                   0                                  0                                 0                  0                                 0             0                  0                                         0                             0\n",
       "4216                     0.000000                       0                        1                                   0                                  0                                 0                  0                                 0             0                  0                                         0                             0\n",
       "3830                     0.073675                       0                        0                                   0                                  0                                 0                  0                                 0             0                  0                                         0                             0"
      ]
     },
     "execution_count": 153,
     "metadata": {},
     "output_type": "execute_result"
    }
   ],
   "source": [
    "x_test=x_test[col_rfe]\n",
    "x_test.head()"
   ]
  },
  {
   "cell_type": "code",
   "execution_count": 154,
   "metadata": {},
   "outputs": [],
   "source": [
    "x_test_sm=sm.add_constant(x_test)"
   ]
  },
  {
   "cell_type": "code",
   "execution_count": 155,
   "metadata": {},
   "outputs": [],
   "source": [
    "y_test_pred=res.predict(x_test_sm)"
   ]
  },
  {
   "cell_type": "code",
   "execution_count": 156,
   "metadata": {},
   "outputs": [],
   "source": [
    "y_test_pred=pd.DataFrame(y_test_pred)"
   ]
  },
  {
   "cell_type": "code",
   "execution_count": 157,
   "metadata": {},
   "outputs": [],
   "source": [
    "y_test_df=pd.DataFrame(y_test)"
   ]
  },
  {
   "cell_type": "code",
   "execution_count": 158,
   "metadata": {},
   "outputs": [],
   "source": [
    "y_test_df['CustID'] = y_test_df.index"
   ]
  },
  {
   "cell_type": "code",
   "execution_count": 159,
   "metadata": {},
   "outputs": [],
   "source": [
    "y_test_pred.reset_index(drop=True, inplace=True)\n",
    "y_test_df.reset_index(drop=True, inplace=True)"
   ]
  },
  {
   "cell_type": "code",
   "execution_count": 160,
   "metadata": {},
   "outputs": [],
   "source": [
    "# Appending y_test_df and y_pred_1\n",
    "y_pred_final = pd.concat([y_test_df, y_test_pred],axis=1)"
   ]
  },
  {
   "cell_type": "code",
   "execution_count": 161,
   "metadata": {
    "scrolled": true
   },
   "outputs": [
    {
     "data": {
      "text/html": [
       "<div>\n",
       "<style scoped>\n",
       "    .dataframe tbody tr th:only-of-type {\n",
       "        vertical-align: middle;\n",
       "    }\n",
       "\n",
       "    .dataframe tbody tr th {\n",
       "        vertical-align: top;\n",
       "    }\n",
       "\n",
       "    .dataframe thead th {\n",
       "        text-align: right;\n",
       "    }\n",
       "</style>\n",
       "<table border=\"1\" class=\"dataframe\">\n",
       "  <thead>\n",
       "    <tr style=\"text-align: right;\">\n",
       "      <th></th>\n",
       "      <th>Converted</th>\n",
       "      <th>CustID</th>\n",
       "      <th>0</th>\n",
       "    </tr>\n",
       "  </thead>\n",
       "  <tbody>\n",
       "    <tr>\n",
       "      <td>0</td>\n",
       "      <td>0</td>\n",
       "      <td>3271</td>\n",
       "      <td>0.143696</td>\n",
       "    </tr>\n",
       "    <tr>\n",
       "      <td>1</td>\n",
       "      <td>1</td>\n",
       "      <td>1490</td>\n",
       "      <td>0.995450</td>\n",
       "    </tr>\n",
       "    <tr>\n",
       "      <td>2</td>\n",
       "      <td>0</td>\n",
       "      <td>7936</td>\n",
       "      <td>0.127516</td>\n",
       "    </tr>\n",
       "    <tr>\n",
       "      <td>3</td>\n",
       "      <td>1</td>\n",
       "      <td>4216</td>\n",
       "      <td>0.982303</td>\n",
       "    </tr>\n",
       "    <tr>\n",
       "      <td>4</td>\n",
       "      <td>0</td>\n",
       "      <td>3830</td>\n",
       "      <td>0.145136</td>\n",
       "    </tr>\n",
       "  </tbody>\n",
       "</table>\n",
       "</div>"
      ],
      "text/plain": [
       "   Converted  CustID         0\n",
       "0          0    3271  0.143696\n",
       "1          1    1490  0.995450\n",
       "2          0    7936  0.127516\n",
       "3          1    4216  0.982303\n",
       "4          0    3830  0.145136"
      ]
     },
     "execution_count": 161,
     "metadata": {},
     "output_type": "execute_result"
    }
   ],
   "source": [
    "y_pred_final.head()"
   ]
  },
  {
   "cell_type": "code",
   "execution_count": 162,
   "metadata": {},
   "outputs": [],
   "source": [
    "# Renaming the column \n",
    "y_pred_final= y_pred_final.rename(columns={ 0 : 'Converted_Prob'})"
   ]
  },
  {
   "cell_type": "code",
   "execution_count": 164,
   "metadata": {},
   "outputs": [],
   "source": [
    "y_pred_final['final_predicted'] = y_pred_final['Converted_Prob'].map(lambda x: 1 if x > 0.31 else 0)"
   ]
  },
  {
   "cell_type": "code",
   "execution_count": 166,
   "metadata": {},
   "outputs": [
    {
     "data": {
      "text/plain": [
       "0.9001101726037458"
      ]
     },
     "execution_count": 166,
     "metadata": {},
     "output_type": "execute_result"
    }
   ],
   "source": [
    "# Let's check the overall accuracy.\n",
    "metrics.accuracy_score(y_pred_final.Converted, y_pred_final.final_predicted)"
   ]
  },
  {
   "cell_type": "code",
   "execution_count": 167,
   "metadata": {},
   "outputs": [
    {
     "data": {
      "text/plain": [
       "array([[1602,  132],\n",
       "       [ 140,  849]], dtype=int64)"
      ]
     },
     "execution_count": 167,
     "metadata": {},
     "output_type": "execute_result"
    }
   ],
   "source": [
    "confusion2 = metrics.confusion_matrix(y_pred_final.Converted, y_pred_final.final_predicted )\n",
    "confusion2"
   ]
  },
  {
   "cell_type": "code",
   "execution_count": 168,
   "metadata": {},
   "outputs": [],
   "source": [
    "TP = confusion2[1,1] # true positive \n",
    "TN = confusion2[0,0] # true negatives\n",
    "FP = confusion2[0,1] # false positives\n",
    "FN = confusion2[1,0] # false negatives"
   ]
  },
  {
   "cell_type": "code",
   "execution_count": 169,
   "metadata": {},
   "outputs": [
    {
     "data": {
      "text/plain": [
       "0.8584428715874621"
      ]
     },
     "execution_count": 169,
     "metadata": {},
     "output_type": "execute_result"
    }
   ],
   "source": [
    "# Let's see the sensitivity of our logistic regression model\n",
    "TP / float(TP+FN)"
   ]
  },
  {
   "cell_type": "code",
   "execution_count": 170,
   "metadata": {},
   "outputs": [
    {
     "data": {
      "text/plain": [
       "0.9238754325259516"
      ]
     },
     "execution_count": 170,
     "metadata": {},
     "output_type": "execute_result"
    }
   ],
   "source": [
    "# Let us calculate specificity\n",
    "TN / float(TN+FP)"
   ]
  },
  {
   "cell_type": "markdown",
   "metadata": {},
   "source": [
    "## Conclusion "
   ]
  },
  {
   "cell_type": "markdown",
   "metadata": {},
   "source": [
    "It was found that the variables that mattered the most in the potential buyers are (In descending order) :"
   ]
  },
  {
   "cell_type": "markdown",
   "metadata": {},
   "source": [
    "1. Total Time Spent on Website\n",
    "2. Tags_Will revert after reading the email\n",
    "3. Tags_Ringing\n",
    "4. Tags_Closed by horizzon\n",
    "5. Tags_Lost to eins\n",
    "6. Tags_Already a student\n",
    "7. Tags_Interested in other courses\n",
    "8. Tags_Interested in full time mba\n",
    "9. Tags_Not doing further education\n",
    "10. Tags_Switched off\n",
    "11. Lead Source_Welingak website\n",
    "12. Tags_Diploma holder (not eligible)"
   ]
  }
 ],
 "metadata": {
  "kernelspec": {
   "display_name": "Python 3",
   "language": "python",
   "name": "python3"
  },
  "language_info": {
   "codemirror_mode": {
    "name": "ipython",
    "version": 3
   },
   "file_extension": ".py",
   "mimetype": "text/x-python",
   "name": "python",
   "nbconvert_exporter": "python",
   "pygments_lexer": "ipython3",
   "version": "3.7.4"
  }
 },
 "nbformat": 4,
 "nbformat_minor": 2
}
